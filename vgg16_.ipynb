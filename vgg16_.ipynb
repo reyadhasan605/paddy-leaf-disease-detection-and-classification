{
  "cells": [
    {
      "cell_type": "code",
      "execution_count": 1,
      "metadata": {
        "colab": {
          "base_uri": "https://localhost:8080/"
        },
        "id": "CGvEcUVcJTkY",
        "outputId": "e36ac6ad-5ac4-4924-e657-9b0ecb0e9b44"
      },
      "outputs": [
        {
          "output_type": "stream",
          "name": "stdout",
          "text": [
            "Mounted at /content/drive\n"
          ]
        }
      ],
      "source": [
        "from google.colab import drive\n",
        "drive.mount('/content/drive')"
      ]
    },
    {
      "cell_type": "code",
      "execution_count": 3,
      "metadata": {
        "id": "5bg816KJMBUp"
      },
      "outputs": [],
      "source": [
        "train_dir = '/content/drive/MyDrive/buetpaper/train'\n",
        "validation_dir = '/content/drive/MyDrive/buetpaper/val'\n",
        "test_dir='/content/drive/MyDrive/buetpaper/test'"
      ]
    },
    {
      "cell_type": "code",
      "execution_count": 4,
      "metadata": {
        "id": "c0f3b60e"
      },
      "outputs": [],
      "source": [
        "import os\n",
        "trainclass_subset=os.listdir(train_dir)\n",
        "validclass_subset =os.listdir(validation_dir)"
      ]
    },
    {
      "cell_type": "code",
      "execution_count": 5,
      "metadata": {
        "colab": {
          "base_uri": "https://localhost:8080/"
        },
        "id": "2fad78de",
        "outputId": "d25a774a-1e3f-44e7-92f2-6ad5d46dcbd8"
      },
      "outputs": [
        {
          "output_type": "execute_result",
          "data": {
            "text/plain": [
              "['Stemborer',\n",
              " 'Brown_Spot',\n",
              " 'Neck_Blast',\n",
              " 'BLB',\n",
              " 'Healthy_Plant',\n",
              " 'Hispa',\n",
              " 'BPH',\n",
              " 'Sheath_Blight_Rot',\n",
              " 'False_Smut']"
            ]
          },
          "metadata": {},
          "execution_count": 5
        }
      ],
      "source": [
        "trainclass_subset"
      ]
    },
    {
      "cell_type": "code",
      "execution_count": 6,
      "metadata": {
        "colab": {
          "base_uri": "https://localhost:8080/"
        },
        "id": "Im7Lk0kb3ro3",
        "outputId": "245a7573-4557-4412-9bb7-b2ea1967b1d7"
      },
      "outputs": [
        {
          "output_type": "execute_result",
          "data": {
            "text/plain": [
              "['False_Smut',\n",
              " 'BLB',\n",
              " 'Sheath_Blight_Rot',\n",
              " 'Neck_Blast',\n",
              " 'BPH',\n",
              " 'Stemborer',\n",
              " 'Healthy_Plant',\n",
              " 'Brown_Spot',\n",
              " 'Hispa']"
            ]
          },
          "metadata": {},
          "execution_count": 6
        }
      ],
      "source": [
        "validclass_subset"
      ]
    },
    {
      "cell_type": "code",
      "execution_count": 7,
      "metadata": {
        "id": "hZW1jJKe26y7"
      },
      "outputs": [],
      "source": [
        "import tensorflow \n",
        "from tensorflow.keras.layers import Input, Lambda, Dense, Flatten,Dropout\n",
        "from tensorflow.keras.models import Model\n",
        "from tensorflow.keras.applications.vgg16 import VGG16\n",
        "from tensorflow.keras.applications.vgg19 import preprocess_input\n",
        "from tensorflow.keras.preprocessing import image\n",
        "from tensorflow.keras.preprocessing.image import ImageDataGenerator\n",
        "from tensorflow.keras.models import Sequential\n",
        "import numpy as np\n",
        "import pandas as pd\n",
        "import os\n",
        "import cv2\n",
        "import matplotlib.pyplot as plt"
      ]
    },
    {
      "cell_type": "markdown",
      "metadata": {
        "id": "W4WPfH9YcF2u"
      },
      "source": [
        "# **Train Data with simple CNN**"
      ]
    },
    {
      "cell_type": "code",
      "execution_count": 8,
      "metadata": {
        "id": "3iV4LDaUdyow"
      },
      "outputs": [],
      "source": [
        "#image preprocessing\n",
        "train_datagen = ImageDataGenerator(\n",
        "    rescale=1./255,\n",
        "    zoom_range=0.15,\n",
        "    width_shift_range=0.2,\n",
        "    height_shift_range=0.2,\n",
        "    shear_range=0.15\n",
        ")\n",
        "\n",
        "val_datagen = ImageDataGenerator(\n",
        "    rescale=1./255\n",
        ")\n",
        "test_datagen = ImageDataGenerator(\n",
        "    rescale=1./255,\n",
        ")\n"
      ]
    },
    {
      "cell_type": "code",
      "execution_count": 9,
      "metadata": {
        "colab": {
          "base_uri": "https://localhost:8080/"
        },
        "id": "QZ0dMCQZelKr",
        "outputId": "bc0d0e7e-f054-4f68-b781-a4e53228a73c"
      },
      "outputs": [
        {
          "output_type": "stream",
          "name": "stdout",
          "text": [
            "Found 994 images belonging to 9 classes.\n",
            "Found 208 images belonging to 9 classes.\n",
            "Found 224 images belonging to 9 classes.\n"
          ]
        }
      ],
      "source": [
        "# load train data\n",
        "train_generator = train_datagen.flow_from_directory(train_dir,\n",
        "                                                    target_size=(224, 224),\n",
        "                                                    batch_size=32,\n",
        "                                                    color_mode=\"rgb\",\n",
        "                                                    shuffle=True,\n",
        "                                                    class_mode='categorical',\n",
        "                                                   )\n",
        "#load val data\n",
        "val_generator = val_datagen.flow_from_directory(validation_dir,\n",
        "                                                  target_size=(224,224),\n",
        "                                                  batch_size=32,\n",
        "                                                  color_mode=\"rgb\",\n",
        "                                                  shuffle=False,\n",
        "                                                  class_mode='categorical',\n",
        "                                                  )\n",
        "# load test data\n",
        "test_generator = test_datagen.flow_from_directory(test_dir,\n",
        "                                                  target_size=(224,224),\n",
        "                                                  batch_size=32,\n",
        "                                                  color_mode=\"rgb\",\n",
        "                                                  shuffle=False,\n",
        "                                                  class_mode='categorical',\n",
        "                                                  )"
      ]
    },
    {
      "cell_type": "markdown",
      "metadata": {
        "id": "BJc8cat7Ytys"
      },
      "source": [
        "# **Train with VGG16**"
      ]
    },
    {
      "cell_type": "code",
      "execution_count": 10,
      "metadata": {
        "id": "15ZjMRnXTtwO"
      },
      "outputs": [],
      "source": [
        "import tensorflow as tf\n",
        "from tensorflow.keras.models import Sequential, Model\n",
        "from tensorflow.keras.layers import Conv2D, Flatten, MaxPooling2D, Dense, Input, Reshape, Concatenate, GlobalAveragePooling2D, BatchNormalization, Dropout, Activation, GlobalMaxPooling2D\n",
        "from tensorflow.keras.utils import Sequence\n",
        "from keras.callbacks import ModelCheckpoint, EarlyStopping\n"
      ]
    },
    {
      "cell_type": "code",
      "execution_count": 11,
      "metadata": {
        "id": "n63Ax4Y8QTT9",
        "colab": {
          "base_uri": "https://localhost:8080/"
        },
        "outputId": "50841c2a-86a6-4ae5-9bcd-076c2962b01e"
      },
      "outputs": [
        {
          "output_type": "stream",
          "name": "stdout",
          "text": [
            "Downloading data from https://storage.googleapis.com/tensorflow/keras-applications/vgg16/vgg16_weights_tf_dim_ordering_tf_kernels_notop.h5\n",
            "58892288/58889256 [==============================] - 0s 0us/step\n",
            "58900480/58889256 [==============================] - 0s 0us/step\n"
          ]
        }
      ],
      "source": [
        "vgg = VGG16(input_shape=(224, 224, 3), include_top=False, weights=\"imagenet\")\n"
      ]
    },
    {
      "cell_type": "code",
      "execution_count": 12,
      "metadata": {
        "id": "7Ww9aQPIQwTY"
      },
      "outputs": [],
      "source": [
        "#do not train the pre-trained layers of VGG-19\n",
        "for layer in vgg.layers:\n",
        "    layer.trainable = False"
      ]
    },
    {
      "cell_type": "code",
      "execution_count": 13,
      "metadata": {
        "id": "avweld0f5LHG"
      },
      "outputs": [],
      "source": [
        "x = vgg.output\n",
        "x = Flatten()(x)\n",
        "x = Dropout(0.3)(x)\n",
        "x = Dense(256, activation='relu', name='fc1')(x)\n",
        "x = Dense(128, activation='relu', name='fc2')(x)\n",
        "output_layer = Dense(9, activation='softmax', name='softmax')(x)\n",
        "model = Model(inputs=vgg.input, outputs=output_layer)\n",
        "   "
      ]
    },
    {
      "cell_type": "code",
      "execution_count": 14,
      "metadata": {
        "colab": {
          "base_uri": "https://localhost:8080/"
        },
        "id": "czdwsj6o5WcF",
        "outputId": "55502722-8332-42f2-84cf-258c709751fd"
      },
      "outputs": [
        {
          "output_type": "stream",
          "name": "stdout",
          "text": [
            "Model: \"model\"\n",
            "_________________________________________________________________\n",
            " Layer (type)                Output Shape              Param #   \n",
            "=================================================================\n",
            " input_1 (InputLayer)        [(None, 224, 224, 3)]     0         \n",
            "                                                                 \n",
            " block1_conv1 (Conv2D)       (None, 224, 224, 64)      1792      \n",
            "                                                                 \n",
            " block1_conv2 (Conv2D)       (None, 224, 224, 64)      36928     \n",
            "                                                                 \n",
            " block1_pool (MaxPooling2D)  (None, 112, 112, 64)      0         \n",
            "                                                                 \n",
            " block2_conv1 (Conv2D)       (None, 112, 112, 128)     73856     \n",
            "                                                                 \n",
            " block2_conv2 (Conv2D)       (None, 112, 112, 128)     147584    \n",
            "                                                                 \n",
            " block2_pool (MaxPooling2D)  (None, 56, 56, 128)       0         \n",
            "                                                                 \n",
            " block3_conv1 (Conv2D)       (None, 56, 56, 256)       295168    \n",
            "                                                                 \n",
            " block3_conv2 (Conv2D)       (None, 56, 56, 256)       590080    \n",
            "                                                                 \n",
            " block3_conv3 (Conv2D)       (None, 56, 56, 256)       590080    \n",
            "                                                                 \n",
            " block3_pool (MaxPooling2D)  (None, 28, 28, 256)       0         \n",
            "                                                                 \n",
            " block4_conv1 (Conv2D)       (None, 28, 28, 512)       1180160   \n",
            "                                                                 \n",
            " block4_conv2 (Conv2D)       (None, 28, 28, 512)       2359808   \n",
            "                                                                 \n",
            " block4_conv3 (Conv2D)       (None, 28, 28, 512)       2359808   \n",
            "                                                                 \n",
            " block4_pool (MaxPooling2D)  (None, 14, 14, 512)       0         \n",
            "                                                                 \n",
            " block5_conv1 (Conv2D)       (None, 14, 14, 512)       2359808   \n",
            "                                                                 \n",
            " block5_conv2 (Conv2D)       (None, 14, 14, 512)       2359808   \n",
            "                                                                 \n",
            " block5_conv3 (Conv2D)       (None, 14, 14, 512)       2359808   \n",
            "                                                                 \n",
            " block5_pool (MaxPooling2D)  (None, 7, 7, 512)         0         \n",
            "                                                                 \n",
            " flatten (Flatten)           (None, 25088)             0         \n",
            "                                                                 \n",
            " dropout (Dropout)           (None, 25088)             0         \n",
            "                                                                 \n",
            " fc1 (Dense)                 (None, 256)               6422784   \n",
            "                                                                 \n",
            " fc2 (Dense)                 (None, 128)               32896     \n",
            "                                                                 \n",
            " softmax (Dense)             (None, 9)                 1161      \n",
            "                                                                 \n",
            "=================================================================\n",
            "Total params: 21,171,529\n",
            "Trainable params: 6,456,841\n",
            "Non-trainable params: 14,714,688\n",
            "_________________________________________________________________\n"
          ]
        }
      ],
      "source": [
        "model.summary()\n"
      ]
    },
    {
      "cell_type": "code",
      "execution_count": 15,
      "metadata": {
        "colab": {
          "base_uri": "https://localhost:8080/"
        },
        "id": "9ZGh-3sZ7PkD",
        "outputId": "3049087e-c819-4c6e-beea-9c7fb7b9cc3e"
      },
      "outputs": [
        {
          "output_type": "stream",
          "name": "stdout",
          "text": [
            "<keras.engine.input_layer.InputLayer object at 0x7f0b151af090> False\n",
            "<keras.layers.convolutional.Conv2D object at 0x7f0b07ab0ed0> False\n",
            "<keras.layers.convolutional.Conv2D object at 0x7f0b06a68750> False\n",
            "<keras.layers.pooling.MaxPooling2D object at 0x7f0b066d5790> False\n",
            "<keras.layers.convolutional.Conv2D object at 0x7f0b1723b550> False\n",
            "<keras.layers.convolutional.Conv2D object at 0x7f0b05c982d0> False\n",
            "<keras.layers.pooling.MaxPooling2D object at 0x7f0b05c9ff10> False\n",
            "<keras.layers.convolutional.Conv2D object at 0x7f0b05caa510> False\n",
            "<keras.layers.convolutional.Conv2D object at 0x7f0b05ca7b10> False\n",
            "<keras.layers.convolutional.Conv2D object at 0x7f0b05cafe90> False\n",
            "<keras.layers.pooling.MaxPooling2D object at 0x7f0b05cba110> False\n",
            "<keras.layers.convolutional.Conv2D object at 0x7f0b05cb6a10> False\n",
            "<keras.layers.convolutional.Conv2D object at 0x7f0b05c9f990> False\n",
            "<keras.layers.convolutional.Conv2D object at 0x7f0b05cc2810> False\n",
            "<keras.layers.pooling.MaxPooling2D object at 0x7f0b05cce150> False\n",
            "<keras.layers.convolutional.Conv2D object at 0x7f0b05cc2690> False\n",
            "<keras.layers.convolutional.Conv2D object at 0x7f0b05c54a90> False\n",
            "<keras.layers.convolutional.Conv2D object at 0x7f0b05c5e250> False\n",
            "<keras.layers.pooling.MaxPooling2D object at 0x7f0b05c9f7d0> False\n",
            "<keras.layers.core.flatten.Flatten object at 0x7f0b05c2b450> True\n",
            "<keras.layers.core.dropout.Dropout object at 0x7f0b05c2b490> True\n",
            "<keras.layers.core.dense.Dense object at 0x7f0b05c2b5d0> True\n",
            "<keras.layers.core.dense.Dense object at 0x7f0b05cb3390> True\n",
            "<keras.layers.core.dense.Dense object at 0x7f0b05c697d0> True\n"
          ]
        }
      ],
      "source": [
        "for layer in model.layers:\n",
        "    print(layer, layer.trainable)"
      ]
    },
    {
      "cell_type": "code",
      "execution_count": 16,
      "metadata": {
        "id": "5DvAqW4w7Rff"
      },
      "outputs": [],
      "source": [
        "from keras.optimizer_v1 import Adam\n",
        "EPOCHS=30\n",
        "model.compile(loss=\"categorical_crossentropy\", optimizer=\"Adam\",metrics=[\"accuracy\"])"
      ]
    },
    {
      "cell_type": "code",
      "execution_count": 17,
      "metadata": {
        "id": "bfCHVHka8Lej"
      },
      "outputs": [],
      "source": [
        "es=EarlyStopping(monitor='val_accuracy', mode='max', verbose=1, patience=20)\n"
      ]
    },
    {
      "cell_type": "code",
      "execution_count": 18,
      "metadata": {
        "id": "k-M2Tni48WMV"
      },
      "outputs": [],
      "source": [
        "modelcheck = ModelCheckpoint('/content/gdrive/MyDrive/best_model.h5', monitor='val_accuracy', mode='max', save_best_only=True)\n"
      ]
    },
    {
      "cell_type": "code",
      "execution_count": 19,
      "metadata": {
        "colab": {
          "base_uri": "https://localhost:8080/"
        },
        "id": "0tIuuEap8lBg",
        "outputId": "5ec5aa95-c6d8-43fc-d0d7-f16a60c95ffc"
      },
      "outputs": [
        {
          "metadata": {
            "tags": null
          },
          "name": "stderr",
          "output_type": "stream",
          "text": [
            "/usr/local/lib/python3.7/dist-packages/ipykernel_launcher.py:1: UserWarning: `Model.fit_generator` is deprecated and will be removed in a future version. Please use `Model.fit`, which supports generators.\n",
            "  \"\"\"Entry point for launching an IPython kernel.\n"
          ]
        },
        {
          "output_type": "stream",
          "name": "stdout",
          "text": [
            "Epoch 1/30\n",
            "32/32 [==============================] - 279s 8s/step - loss: 1.8908 - accuracy: 0.3893 - val_loss: 1.0121 - val_accuracy: 0.6827\n",
            "Epoch 2/30\n",
            "32/32 [==============================] - 15s 481ms/step - loss: 1.0797 - accuracy: 0.6318 - val_loss: 0.8907 - val_accuracy: 0.6923\n",
            "Epoch 3/30\n",
            "32/32 [==============================] - 15s 465ms/step - loss: 0.9362 - accuracy: 0.6952 - val_loss: 0.6379 - val_accuracy: 0.7933\n",
            "Epoch 4/30\n",
            "32/32 [==============================] - 15s 464ms/step - loss: 0.7306 - accuracy: 0.7384 - val_loss: 0.5467 - val_accuracy: 0.8173\n",
            "Epoch 5/30\n",
            "32/32 [==============================] - 15s 469ms/step - loss: 0.5080 - accuracy: 0.8239 - val_loss: 0.4850 - val_accuracy: 0.8365\n",
            "Epoch 6/30\n",
            "32/32 [==============================] - 15s 463ms/step - loss: 0.4802 - accuracy: 0.8390 - val_loss: 0.3687 - val_accuracy: 0.8750\n",
            "Epoch 7/30\n",
            "32/32 [==============================] - 15s 469ms/step - loss: 0.3719 - accuracy: 0.8843 - val_loss: 0.2889 - val_accuracy: 0.9183\n",
            "Epoch 8/30\n",
            "32/32 [==============================] - 15s 463ms/step - loss: 0.4013 - accuracy: 0.8672 - val_loss: 0.3517 - val_accuracy: 0.8990\n",
            "Epoch 9/30\n",
            "32/32 [==============================] - 15s 463ms/step - loss: 0.5119 - accuracy: 0.8531 - val_loss: 0.8364 - val_accuracy: 0.7163\n",
            "Epoch 10/30\n",
            "32/32 [==============================] - 15s 465ms/step - loss: 0.4227 - accuracy: 0.8491 - val_loss: 0.2605 - val_accuracy: 0.9231\n",
            "Epoch 11/30\n",
            "32/32 [==============================] - 15s 463ms/step - loss: 0.2284 - accuracy: 0.9155 - val_loss: 0.2797 - val_accuracy: 0.9038\n",
            "Epoch 12/30\n",
            "32/32 [==============================] - 15s 463ms/step - loss: 0.1763 - accuracy: 0.9457 - val_loss: 0.2036 - val_accuracy: 0.9231\n",
            "Epoch 13/30\n",
            "32/32 [==============================] - 15s 466ms/step - loss: 0.1678 - accuracy: 0.9477 - val_loss: 0.2387 - val_accuracy: 0.9327\n",
            "Epoch 14/30\n",
            "32/32 [==============================] - 15s 463ms/step - loss: 0.1427 - accuracy: 0.9577 - val_loss: 0.2483 - val_accuracy: 0.9327\n",
            "Epoch 15/30\n",
            "32/32 [==============================] - 15s 462ms/step - loss: 0.1881 - accuracy: 0.9356 - val_loss: 0.5051 - val_accuracy: 0.8654\n",
            "Epoch 16/30\n",
            "32/32 [==============================] - 15s 465ms/step - loss: 0.1686 - accuracy: 0.9406 - val_loss: 0.2842 - val_accuracy: 0.9183\n",
            "Epoch 17/30\n",
            "32/32 [==============================] - 15s 461ms/step - loss: 0.2221 - accuracy: 0.9316 - val_loss: 0.2249 - val_accuracy: 0.9231\n",
            "Epoch 18/30\n",
            "32/32 [==============================] - 15s 461ms/step - loss: 0.1322 - accuracy: 0.9628 - val_loss: 0.2651 - val_accuracy: 0.9183\n",
            "Epoch 19/30\n",
            "32/32 [==============================] - 15s 461ms/step - loss: 0.0986 - accuracy: 0.9718 - val_loss: 0.1724 - val_accuracy: 0.9567\n",
            "Epoch 20/30\n",
            "32/32 [==============================] - 15s 460ms/step - loss: 0.0950 - accuracy: 0.9698 - val_loss: 0.1934 - val_accuracy: 0.9471\n",
            "Epoch 21/30\n",
            "32/32 [==============================] - 15s 464ms/step - loss: 0.1479 - accuracy: 0.9638 - val_loss: 0.2036 - val_accuracy: 0.9423\n",
            "Epoch 22/30\n",
            "32/32 [==============================] - 15s 475ms/step - loss: 0.0858 - accuracy: 0.9738 - val_loss: 0.1799 - val_accuracy: 0.9423\n",
            "Epoch 23/30\n",
            "32/32 [==============================] - 15s 464ms/step - loss: 0.1001 - accuracy: 0.9678 - val_loss: 0.1950 - val_accuracy: 0.9519\n",
            "Epoch 24/30\n",
            "32/32 [==============================] - 15s 462ms/step - loss: 0.2931 - accuracy: 0.9074 - val_loss: 0.2629 - val_accuracy: 0.9087\n",
            "Epoch 25/30\n",
            "32/32 [==============================] - 15s 463ms/step - loss: 0.1022 - accuracy: 0.9618 - val_loss: 0.1585 - val_accuracy: 0.9712\n",
            "Epoch 26/30\n",
            "32/32 [==============================] - 15s 461ms/step - loss: 0.1925 - accuracy: 0.9447 - val_loss: 0.2655 - val_accuracy: 0.9327\n",
            "Epoch 27/30\n",
            "32/32 [==============================] - 15s 463ms/step - loss: 0.1398 - accuracy: 0.9537 - val_loss: 0.3318 - val_accuracy: 0.9135\n",
            "Epoch 28/30\n",
            "32/32 [==============================] - 15s 462ms/step - loss: 0.0985 - accuracy: 0.9608 - val_loss: 0.2079 - val_accuracy: 0.9519\n",
            "Epoch 29/30\n",
            "32/32 [==============================] - 15s 462ms/step - loss: 0.0959 - accuracy: 0.9608 - val_loss: 0.1734 - val_accuracy: 0.9471\n",
            "Epoch 30/30\n",
            "32/32 [==============================] - 15s 462ms/step - loss: 0.0579 - accuracy: 0.9869 - val_loss: 0.1713 - val_accuracy: 0.9615\n"
          ]
        }
      ],
      "source": [
        "history = model.fit_generator(train_generator,validation_data=val_generator,epochs=EPOCHS,verbose=1,callbacks=[es])\n"
      ]
    },
    {
      "cell_type": "code",
      "execution_count": 20,
      "metadata": {
        "colab": {
          "base_uri": "https://localhost:8080/",
          "height": 513
        },
        "id": "QUPxHwHC3Gy_",
        "outputId": "4a69e436-c3a5-4d00-97f9-f912b5ea6cbf"
      },
      "outputs": [
        {
          "output_type": "display_data",
          "data": {
            "text/plain": [
              "<Figure size 576x576 with 2 Axes>"
            ],
            "image/png": "[encoded data removed]"
          },
          "metadata": {
            "needs_background": "light"
          }
        }
      ],
      "source": [
        "import matplotlib.pylab as plt\n",
        "import numpy as np\n",
        "\n",
        "acc = history.history['accuracy']\n",
        "val_acc = history.history['val_accuracy']\n",
        "\n",
        "loss = history.history['loss']\n",
        "val_loss = history.history['val_loss']\n",
        " \n",
        "epochs_range = range(EPOCHS)\n",
        "\n",
        "plt.figure(figsize=(8, 8))\n",
        "plt.subplot(1, 2, 1)\n",
        "plt.plot(epochs_range, acc, label='Training Accuracy')\n",
        "plt.plot(epochs_range, val_acc, label='Validation Accuracy')\n",
        "plt.legend(loc='lower right')\n",
        "plt.title('Training and Validation Accuracy')\n",
        "plt.ylabel(\"Accuracy (training and validation)\")\n",
        "plt.xlabel(\"Training Steps\")\n",
        "\n",
        "plt.subplot(1, 2, 2)\n",
        "plt.plot(epochs_range, loss, label='Training Loss')\n",
        "plt.plot(epochs_range, val_loss, label='Validation Loss')\n",
        "plt.legend(loc='upper right')\n",
        "plt.title('Training and Validation Loss')\n",
        "plt.ylabel(\"Loss (training and validation)\")\n",
        "plt.xlabel(\"Training Steps\")\n",
        "plt.show()"
      ]
    },
    {
      "cell_type": "code",
      "source": [
        "model.save(\"/content/drive/MyDrive/VGG16/DenseNetFT.h5\")"
      ],
      "metadata": {
        "id": "GnTzEzRQUWYs"
      },
      "execution_count": 21,
      "outputs": []
    },
    {
      "cell_type": "code",
      "execution_count": 22,
      "metadata": {
        "colab": {
          "base_uri": "https://localhost:8080/"
        },
        "id": "u_RfHXZxtwdA",
        "outputId": "b12cfe35-62e4-465d-c0f9-831626ca8e0a"
      },
      "outputs": [
        {
          "output_type": "stream",
          "name": "stdout",
          "text": [
            "7/7 [==============================] - 1s 145ms/step - loss: 0.1713 - accuracy: 0.9615\n",
            "Validation: accuracy = 0.961538  ;  loss_v = 0.171297\n"
          ]
        }
      ],
      "source": [
        "loss_val, acc_val = model.evaluate(val_generator, verbose=1)\n",
        "print(\"Validation: accuracy = %f  ;  loss_v = %f\" % (acc_val, loss_val))"
      ]
    },
    {
      "cell_type": "code",
      "execution_count": 23,
      "metadata": {
        "colab": {
          "base_uri": "https://localhost:8080/"
        },
        "id": "vq0CIw86XlPp",
        "outputId": "10b0e35b-8d8e-4b90-bfdb-b3f414f846b1"
      },
      "outputs": [
        {
          "output_type": "stream",
          "name": "stdout",
          "text": [
            "7/7 [==============================] - 51s 8s/step - loss: 0.1584 - accuracy: 0.9554\n",
            "Test: accuracy = 0.955357  ;  loss_v = 0.158369\n"
          ]
        }
      ],
      "source": [
        "loss_test, acc_test = model.evaluate(test_generator, verbose=1)\n",
        "print(\"Test: accuracy = %f  ;  loss_v = %f\" % (acc_test, loss_test))"
      ]
    },
    {
      "cell_type": "code",
      "source": [
        "loss_train, acc_train = model.evaluate(train_generator, verbose=1)\n",
        "print(\"Train: accuracy = %f  ;  loss_v = %f\" % (acc_train, loss_train))"
      ],
      "metadata": {
        "colab": {
          "base_uri": "https://localhost:8080/"
        },
        "id": "ZpsjO_dk8rcw",
        "outputId": "e2c87728-0b48-49e7-910a-1507dcbc08fd"
      },
      "execution_count": 24,
      "outputs": [
        {
          "output_type": "stream",
          "name": "stdout",
          "text": [
            "32/32 [==============================] - 14s 435ms/step - loss: 0.0367 - accuracy: 0.9899\n",
            "Train: accuracy = 0.989940  ;  loss_v = 0.036680\n"
          ]
        }
      ]
    },
    {
      "cell_type": "markdown",
      "metadata": {
        "id": "mkMSSAGKtxEl"
      },
      "source": [
        "# **Image prediction**"
      ]
    },
    {
      "cell_type": "markdown",
      "source": [
        "**Test Data Confusion matrix & Classification report**"
      ],
      "metadata": {
        "id": "5eJa2Z2HDdNj"
      }
    },
    {
      "cell_type": "code",
      "source": [
        "from sklearn.metrics import classification_report, confusion_matrix\n",
        "import seaborn as sns\n",
        "from keras.models import load_model\n",
        "%matplotlib inline\n",
        "import matplotlib.pyplot as plt"
      ],
      "metadata": {
        "id": "CwxSSjeu8ggQ"
      },
      "execution_count": 25,
      "outputs": []
    },
    {
      "cell_type": "code",
      "execution_count": 29,
      "metadata": {
        "colab": {
          "base_uri": "https://localhost:8080/"
        },
        "id": "_q8p42AOl7EX",
        "outputId": "06756ebd-955d-4dcc-b9ab-b3f39df790fc"
      },
      "outputs": [
        {
          "output_type": "stream",
          "name": "stderr",
          "text": [
            "/usr/local/lib/python3.7/dist-packages/ipykernel_launcher.py:1: UserWarning: `Model.predict_generator` is deprecated and will be removed in a future version. Please use `Model.predict`, which supports generators.\n",
            "  \"\"\"Entry point for launching an IPython kernel.\n"
          ]
        }
      ],
      "source": [
        "pred_test = model.predict_generator(test_generator)\n",
        "pred_test = np.argmax(pred_test, axis=1)\n"
      ]
    },
    {
      "cell_type": "code",
      "source": [
        "#Confution Matrix and Classification Report\n",
        "print('Classification Report')\n",
        "target_names = ['BLB','BPH','Brown_Spot','False_Smut','Healthy_Plant','Hispa','Neck_Blast','Sheath_Blight_Rot','Stemborer']\n",
        "print(classification_report(test_generator.classes, pred_test, target_names=target_names))"
      ],
      "metadata": {
        "colab": {
          "base_uri": "https://localhost:8080/"
        },
        "id": "LGyh5k8RAnO7",
        "outputId": "e1f19cb3-dd18-4379-d3b9-c3fa1fb5bebe"
      },
      "execution_count": 30,
      "outputs": [
        {
          "output_type": "stream",
          "name": "stdout",
          "text": [
            "Classification Report\n",
            "                   precision    recall  f1-score   support\n",
            "\n",
            "              BLB       0.91      0.95      0.93        22\n",
            "              BPH       0.92      0.92      0.92        12\n",
            "       Brown_Spot       1.00      1.00      1.00        18\n",
            "       False_Smut       0.94      1.00      0.97        15\n",
            "    Healthy_Plant       0.97      0.97      0.97        36\n",
            "            Hispa       0.92      0.92      0.92        12\n",
            "       Neck_Blast       0.98      1.00      0.99        44\n",
            "Sheath_Blight_Rot       0.94      0.88      0.91        34\n",
            "        Stemborer       0.97      0.94      0.95        31\n",
            "\n",
            "         accuracy                           0.96       224\n",
            "        macro avg       0.95      0.95      0.95       224\n",
            "     weighted avg       0.96      0.96      0.96       224\n",
            "\n"
          ]
        }
      ]
    },
    {
      "cell_type": "code",
      "execution_count": 31,
      "metadata": {
        "colab": {
          "base_uri": "https://localhost:8080/"
        },
        "id": "K3qJWXJLmFbu",
        "outputId": "1ca05af4-72a4-44fb-f5b8-98f61e9d564b"
      },
      "outputs": [
        {
          "output_type": "execute_result",
          "data": {
            "text/plain": [
              "array([[21,  0,  0,  0,  0,  0,  0,  1,  0],\n",
              "       [ 0, 11,  0,  0,  0,  1,  0,  0,  0],\n",
              "       [ 0,  0, 18,  0,  0,  0,  0,  0,  0],\n",
              "       [ 0,  0,  0, 15,  0,  0,  0,  0,  0],\n",
              "       [ 0,  0,  0,  0, 35,  0,  0,  0,  1],\n",
              "       [ 0,  1,  0,  0,  0, 11,  0,  0,  0],\n",
              "       [ 0,  0,  0,  0,  0,  0, 44,  0,  0],\n",
              "       [ 2,  0,  0,  1,  1,  0,  0, 30,  0],\n",
              "       [ 0,  0,  0,  0,  0,  0,  1,  1, 29]])"
            ]
          },
          "metadata": {},
          "execution_count": 31
        }
      ],
      "source": [
        "test_confusion_matrix = confusion_matrix(test_generator.classes, pred_test)\n",
        "test_confusion_matrix"
      ]
    },
    {
      "cell_type": "code",
      "execution_count": 32,
      "metadata": {
        "id": "PItsZbQBmYMa"
      },
      "outputs": [],
      "source": [
        "test_sum=np.array([0, 0, 0, 0, 0, 0, 0, 0, 0])\n",
        "for i in range(9):\n",
        "    for j in range(9):\n",
        "        test_sum[i]=test_sum[i]+test_confusion_matrix[i][j]"
      ]
    },
    {
      "cell_type": "code",
      "execution_count": 33,
      "metadata": {
        "id": "mvqrdpfOmirm"
      },
      "outputs": [],
      "source": [
        "test_confusion_matrix_percentage = test_confusion_matrix.astype(np.float32)"
      ]
    },
    {
      "cell_type": "code",
      "execution_count": 34,
      "metadata": {
        "id": "7SLZZsX3myNI"
      },
      "outputs": [],
      "source": [
        "for i in range(9):\n",
        "    for j in range(9):\n",
        "        test_confusion_matrix_percentage[i][j]=test_confusion_matrix_percentage[i][j]/test_sum[i]"
      ]
    },
    {
      "cell_type": "code",
      "execution_count": 35,
      "metadata": {
        "colab": {
          "base_uri": "https://localhost:8080/",
          "height": 634
        },
        "id": "_4wLVZ7Thidi",
        "outputId": "709b19c3-7aac-4ab6-d593-1bf917667bb5"
      },
      "outputs": [
        {
          "output_type": "display_data",
          "data": {
            "text/plain": [
              "<Figure size 1080x720 with 2 Axes>"
            ],
            "image/png": "[encoded data removed]"
          },
          "metadata": {
            "needs_background": "light"
          }
        }
      ],
      "source": [
        "plt.figure(figsize = (15,10))\n",
        "ax = sns.heatmap(test_confusion_matrix_percentage, annot=True, \n",
        "            fmt='.1%', cmap='Blues')\n",
        "\n",
        "ax.set_title('Test data');\n",
        "ax.set_xlabel('\\nPredicted')\n",
        "ax.set_ylabel('Actual');\n",
        "\n",
        "## Ticket labels - List must be in alphabetical order\n",
        "ax.xaxis.set_ticklabels(['BLB','BPH','Brown_Spot','False_Smut','Healthy_Plant','Hispa','Neck_Blast','Sheath_Blight_Rot','Stemborer'])\n",
        "ax.yaxis.set_ticklabels(['BLB','BPH','Brown_Spot','False_Smut','Healthy_Plant','Hispa','Neck_Blast','Sheath_Blight_Rot','Stemborer'])\n",
        "\n",
        "## Display the visualization of the Confusion Matrix.\n",
        "plt.show()"
      ]
    },
    {
      "cell_type": "code",
      "source": [
        ""
      ],
      "metadata": {
        "id": "rRgls7JFDa9Q"
      },
      "execution_count": null,
      "outputs": []
    },
    {
      "cell_type": "markdown",
      "source": [
        "**Validation Data Confusion matrix and classification report**"
      ],
      "metadata": {
        "id": "Qt_xUemWGLM-"
      }
    },
    {
      "cell_type": "code",
      "source": [
        "pred_val = model.predict_generator(val_generator)\n",
        "pred_val = np.argmax(pred_val, axis=1)"
      ],
      "metadata": {
        "id": "zJfADqIfGUSJ",
        "colab": {
          "base_uri": "https://localhost:8080/"
        },
        "outputId": "f93f0b74-14cc-4cb4-8018-89fad96a5033"
      },
      "execution_count": 36,
      "outputs": [
        {
          "output_type": "stream",
          "name": "stderr",
          "text": [
            "/usr/local/lib/python3.7/dist-packages/ipykernel_launcher.py:1: UserWarning: `Model.predict_generator` is deprecated and will be removed in a future version. Please use `Model.predict`, which supports generators.\n",
            "  \"\"\"Entry point for launching an IPython kernel.\n"
          ]
        }
      ]
    },
    {
      "cell_type": "code",
      "source": [
        "#Confution Matrix and Classification Report\n",
        "print('Classification Report')\n",
        "target_names = ['BLB','BPH','Brown_Spot','False_Smut','Healthy_Plant','Hispa','Neck_Blast','Sheath_Blight_Rot','Stemborer']\n",
        "print(classification_report(val_generator.classes, pred_val, target_names=target_names))"
      ],
      "metadata": {
        "id": "ACMC920gGe68",
        "colab": {
          "base_uri": "https://localhost:8080/"
        },
        "outputId": "e2a33104-4b9e-46db-817b-0f2548137945"
      },
      "execution_count": 37,
      "outputs": [
        {
          "output_type": "stream",
          "name": "stdout",
          "text": [
            "Classification Report\n",
            "                   precision    recall  f1-score   support\n",
            "\n",
            "              BLB       0.90      0.95      0.93        20\n",
            "              BPH       1.00      0.90      0.95        10\n",
            "       Brown_Spot       1.00      0.94      0.97        16\n",
            "       False_Smut       1.00      1.00      1.00        13\n",
            "    Healthy_Plant       0.97      0.97      0.97        35\n",
            "            Hispa       0.90      0.90      0.90        10\n",
            "       Neck_Blast       1.00      1.00      1.00        42\n",
            "Sheath_Blight_Rot       0.91      0.91      0.91        32\n",
            "        Stemborer       0.97      1.00      0.98        30\n",
            "\n",
            "         accuracy                           0.96       208\n",
            "        macro avg       0.96      0.95      0.96       208\n",
            "     weighted avg       0.96      0.96      0.96       208\n",
            "\n"
          ]
        }
      ]
    },
    {
      "cell_type": "code",
      "source": [
        "val_confusion_matrix = confusion_matrix(val_generator.classes, pred_val)\n",
        "val_confusion_matrix"
      ],
      "metadata": {
        "id": "ZWA4k_YMGvOf",
        "colab": {
          "base_uri": "https://localhost:8080/"
        },
        "outputId": "f71c5844-0be7-4990-dc6f-3db2e623cddb"
      },
      "execution_count": 38,
      "outputs": [
        {
          "output_type": "execute_result",
          "data": {
            "text/plain": [
              "array([[19,  0,  0,  0,  0,  0,  0,  1,  0],\n",
              "       [ 0,  9,  0,  0,  0,  1,  0,  0,  0],\n",
              "       [ 0,  0, 15,  0,  1,  0,  0,  0,  0],\n",
              "       [ 0,  0,  0, 13,  0,  0,  0,  0,  0],\n",
              "       [ 0,  0,  0,  0, 34,  0,  0,  1,  0],\n",
              "       [ 0,  0,  0,  0,  0,  9,  0,  1,  0],\n",
              "       [ 0,  0,  0,  0,  0,  0, 42,  0,  0],\n",
              "       [ 2,  0,  0,  0,  0,  0,  0, 29,  1],\n",
              "       [ 0,  0,  0,  0,  0,  0,  0,  0, 30]])"
            ]
          },
          "metadata": {},
          "execution_count": 38
        }
      ]
    },
    {
      "cell_type": "code",
      "source": [
        "val_sum=np.array([0, 0, 0, 0, 0, 0, 0, 0, 0])\n",
        "for i in range(9):\n",
        "    for j in range(9):\n",
        "        val_sum[i]=val_sum[i]+val_confusion_matrix[i][j]\n",
        "        \n",
        "        \n",
        "val_confusion_matrix_percentage = val_confusion_matrix.astype(np.float32)\n",
        "\n",
        "for i in range(9):\n",
        "    for j in range(9):\n",
        "        val_confusion_matrix_percentage[i][j]=val_confusion_matrix_percentage[i][j]/val_sum[i]\n"
      ],
      "metadata": {
        "id": "v--UyUt4G6xV"
      },
      "execution_count": 39,
      "outputs": []
    },
    {
      "cell_type": "code",
      "execution_count": 40,
      "metadata": {
        "colab": {
          "base_uri": "https://localhost:8080/",
          "height": 634
        },
        "outputId": "6d84b448-682b-44bb-ca72-cad4474ff548",
        "id": "XPAFBU5kHYgV"
      },
      "outputs": [
        {
          "output_type": "display_data",
          "data": {
            "text/plain": [
              "<Figure size 1080x720 with 2 Axes>"
            ],
            "image/png": "[encoded data removed]"
          },
          "metadata": {
            "needs_background": "light"
          }
        }
      ],
      "source": [
        "plt.figure(figsize = (15,10))\n",
        "ax = sns.heatmap(val_confusion_matrix_percentage, annot=True, \n",
        "            fmt='.1%', cmap='Blues')\n",
        "\n",
        "ax.set_title('Validation data');\n",
        "ax.set_xlabel('\\nPredicted')\n",
        "ax.set_ylabel('Actual');\n",
        "\n",
        "## Ticket labels - List must be in alphabetical order\n",
        "ax.xaxis.set_ticklabels(['BLB','BPH','Brown_Spot','False_Smut','Healthy_Plant','Hispa','Neck_Blast','Sheath_Blight_Rot','Stemborer'])\n",
        "ax.yaxis.set_ticklabels(['BLB','BPH','Brown_Spot','False_Smut','Healthy_Plant','Hispa','Neck_Blast','Sheath_Blight_Rot','Stemborer'])\n",
        "\n",
        "## Display the visualization of the Confusion Matrix.\n",
        "plt.show()"
      ]
    },
    {
      "cell_type": "markdown",
      "source": [
        "**Train Data Confusion matrix & Classification report**\n"
      ],
      "metadata": {
        "id": "aVn8jPGkD5Y0"
      }
    },
    {
      "cell_type": "code",
      "source": [
        "train_dir = '/content/drive/MyDrive/buetpaper/train'"
      ],
      "metadata": {
        "id": "yDXkZXeW-ajq"
      },
      "execution_count": 72,
      "outputs": []
    },
    {
      "cell_type": "code",
      "source": [
        "train_datagen = ImageDataGenerator(\n",
        "    rescale=1./255\n",
        ")\n",
        "train_generator = train_datagen.flow_from_directory(train_dir,\n",
        "                                                    target_size=(224, 224),\n",
        "                                                    batch_size=32,\n",
        "                                                    color_mode=\"rgb\",\n",
        "                                                    shuffle=False,\n",
        "                                                    class_mode='categorical',\n",
        "                                                   )"
      ],
      "metadata": {
        "colab": {
          "base_uri": "https://localhost:8080/"
        },
        "id": "ZvjUM4B86Rmp",
        "outputId": "d2a526ea-ff9e-4502-c911-99ee0036c246"
      },
      "execution_count": 73,
      "outputs": [
        {
          "output_type": "stream",
          "name": "stdout",
          "text": [
            "Found 994 images belonging to 9 classes.\n"
          ]
        }
      ]
    },
    {
      "cell_type": "code",
      "source": [
        "model=load_model('/content/drive/MyDrive/VGG16/DenseNetFT.h5')"
      ],
      "metadata": {
        "id": "2NLW8VgsUk6w"
      },
      "execution_count": 74,
      "outputs": []
    },
    {
      "cell_type": "code",
      "execution_count": 75,
      "metadata": {
        "colab": {
          "base_uri": "https://localhost:8080/"
        },
        "outputId": "67922763-2be2-41b7-87cb-96f472ccc20a",
        "id": "Q_0e_UcbEO8e"
      },
      "outputs": [
        {
          "output_type": "stream",
          "name": "stderr",
          "text": [
            "/usr/local/lib/python3.7/dist-packages/ipykernel_launcher.py:1: UserWarning: `Model.predict_generator` is deprecated and will be removed in a future version. Please use `Model.predict`, which supports generators.\n",
            "  \"\"\"Entry point for launching an IPython kernel.\n"
          ]
        }
      ],
      "source": [
        "pred_train = model.predict_generator(train_generator)\n",
        "pred_train = np.argmax(pred_train, axis=1)"
      ]
    },
    {
      "cell_type": "code",
      "source": [
        "#Confution Matrix and Classification Report\n",
        "print('Classification Report')\n",
        "target_names = ['BLB','BPH','Brown_Spot','False_Smut','Healthy_Plant','Hispa','Neck_Blast','Sheath_Blight_Rot','Stemborer']\n",
        "print(classification_report(train_generator.classes, pred_train, target_names=target_names))"
      ],
      "metadata": {
        "colab": {
          "base_uri": "https://localhost:8080/"
        },
        "outputId": "db9bd328-b462-4785-8ede-bde2be2ab4a7",
        "id": "EvcoH5rbETkp"
      },
      "execution_count": 77,
      "outputs": [
        {
          "output_type": "stream",
          "name": "stdout",
          "text": [
            "Classification Report\n",
            "                   precision    recall  f1-score   support\n",
            "\n",
            "              BLB       1.00      1.00      1.00        96\n",
            "              BPH       1.00      1.00      1.00        49\n",
            "       Brown_Spot       1.00      1.00      1.00        77\n",
            "       False_Smut       1.00      1.00      1.00        65\n",
            "    Healthy_Plant       1.00      1.00      1.00       163\n",
            "            Hispa       1.00      1.00      1.00        51\n",
            "       Neck_Blast       1.00      1.00      1.00       200\n",
            "Sheath_Blight_Rot       1.00      1.00      1.00       153\n",
            "        Stemborer       1.00      1.00      1.00       140\n",
            "\n",
            "         accuracy                           1.00       994\n",
            "        macro avg       1.00      1.00      1.00       994\n",
            "     weighted avg       1.00      1.00      1.00       994\n",
            "\n"
          ]
        }
      ]
    },
    {
      "cell_type": "code",
      "execution_count": 76,
      "metadata": {
        "colab": {
          "base_uri": "https://localhost:8080/"
        },
        "outputId": "01a48492-2b19-4f91-ab5d-c65c3148d4e8",
        "id": "zxYWskJXEXQr"
      },
      "outputs": [
        {
          "output_type": "execute_result",
          "data": {
            "text/plain": [
              "array([[ 96,   0,   0,   0,   0,   0,   0,   0,   0],\n",
              "       [  0,  49,   0,   0,   0,   0,   0,   0,   0],\n",
              "       [  0,   0,  77,   0,   0,   0,   0,   0,   0],\n",
              "       [  0,   0,   0,  65,   0,   0,   0,   0,   0],\n",
              "       [  0,   0,   0,   0, 163,   0,   0,   0,   0],\n",
              "       [  0,   0,   0,   0,   0,  51,   0,   0,   0],\n",
              "       [  0,   0,   0,   0,   0,   0, 200,   0,   0],\n",
              "       [  0,   0,   0,   0,   0,   0,   0, 153,   0],\n",
              "       [  0,   0,   0,   0,   0,   0,   0,   0, 140]])"
            ]
          },
          "metadata": {},
          "execution_count": 76
        }
      ],
      "source": [
        "train_confusion_matrix = confusion_matrix(train_generator.classes, pred_train)\n",
        "train_confusion_matrix"
      ]
    },
    {
      "cell_type": "code",
      "execution_count": 78,
      "metadata": {
        "id": "f37ui8ZHEbZ9"
      },
      "outputs": [],
      "source": [
        "train_sum=np.array([0, 0, 0, 0, 0, 0, 0, 0, 0])\n",
        "for i in range(9):\n",
        "    for j in range(9):\n",
        "        train_sum[i]=train_sum[i]+train_confusion_matrix[i][j]\n",
        "        \n",
        "        \n",
        "train_confusion_matrix_percentage = train_confusion_matrix.astype(np.float32)\n",
        "\n",
        "for i in range(9):\n",
        "    for j in range(9):\n",
        "        train_confusion_matrix_percentage[i][j]=train_confusion_matrix_percentage[i][j]/train_sum[i]\n"
      ]
    },
    {
      "cell_type": "code",
      "source": [
        "train_sum"
      ],
      "metadata": {
        "colab": {
          "base_uri": "https://localhost:8080/"
        },
        "id": "Pcbcwd_wbS3W",
        "outputId": "5f6d9649-35b0-42a3-df73-8245df53ca5e"
      },
      "execution_count": 79,
      "outputs": [
        {
          "output_type": "execute_result",
          "data": {
            "text/plain": [
              "array([ 96,  49,  77,  65, 163,  51, 200, 153, 140])"
            ]
          },
          "metadata": {},
          "execution_count": 79
        }
      ]
    },
    {
      "cell_type": "code",
      "execution_count": 80,
      "metadata": {
        "colab": {
          "base_uri": "https://localhost:8080/",
          "height": 634
        },
        "outputId": "3875ba47-9003-45c4-b0d4-c29698e99355",
        "id": "6uzcNylzEwZx"
      },
      "outputs": [
        {
          "output_type": "display_data",
          "data": {
            "text/plain": [
              "<Figure size 1080x720 with 2 Axes>"
            ],
            "image/png": "[encoded data removed]"
          },
          "metadata": {
            "needs_background": "light"
          }
        }
      ],
      "source": [
        "plt.figure(figsize = (15,10))\n",
        "ax = sns.heatmap(train_confusion_matrix_percentage, annot=True, \n",
        "            fmt='.1%', cmap='Blues')\n",
        "\n",
        "ax.set_title('Train data');\n",
        "ax.set_xlabel('\\nPredicted')\n",
        "ax.set_ylabel('Actual');\n",
        "\n",
        "## Ticket labels - List must be in alphabetical order\n",
        "ax.xaxis.set_ticklabels(['BLB','BPH','Brown_Spot','False_Smut','Healthy_Plant','Hispa','Neck_Blast','Sheath_Blight_Rot','Stemborer'])\n",
        "ax.yaxis.set_ticklabels(['BLB','BPH','Brown_Spot','False_Smut','Healthy_Plant','Hispa','Neck_Blast','Sheath_Blight_Rot','Stemborer'])\n",
        "\n",
        "## Display the visualization of the Confusion Matrix.\n",
        "plt.show()"
      ]
    }
  ],
  "metadata": {
    "accelerator": "GPU",
    "colab": {
      "collapsed_sections": [],
      "name": "rice_buetvgg16_.ipynb",
      "provenance": []
    },
    "kernelspec": {
      "display_name": "Python 3",
      "name": "python3"
    },
    "language_info": {
      "name": "python"
    }
  },
  "nbformat": 4,
  "nbformat_minor": 0
}