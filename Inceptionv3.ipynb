{
  "cells": [
    {
      "cell_type": "code",
      "execution_count": 82,
      "metadata": {
        "colab": {
          "base_uri": "https://localhost:8080/"
        },
        "id": "CGvEcUVcJTkY",
        "outputId": "de2ed6fc-dbf4-4c0b-b4e9-5b22043ccea8"
      },
      "outputs": [
        {
          "output_type": "stream",
          "name": "stdout",
          "text": [
            "Drive already mounted at /content/drive; to attempt to forcibly remount, call drive.mount(\"/content/drive\", force_remount=True).\n"
          ]
        }
      ],
      "source": [
        "from google.colab import drive\n",
        "drive.mount('/content/drive')"
      ]
    },
    {
      "cell_type": "code",
      "execution_count": 83,
      "metadata": {
        "id": "5bg816KJMBUp"
      },
      "outputs": [],
      "source": [
        "train_dir = '/content/drive/MyDrive/buetpaper/train'\n",
        "validation_dir = '/content/drive/MyDrive/buetpaper/val'\n",
        "test_dir='/content/drive/MyDrive/buetpaper/test'"
      ]
    },
    {
      "cell_type": "code",
      "execution_count": 84,
      "metadata": {
        "id": "c0f3b60e"
      },
      "outputs": [],
      "source": [
        "import os\n",
        "trainclass_subset=os.listdir(train_dir)\n",
        "validclass_subset =os.listdir(validation_dir)"
      ]
    },
    {
      "cell_type": "code",
      "execution_count": 85,
      "metadata": {
        "colab": {
          "base_uri": "https://localhost:8080/"
        },
        "id": "2fad78de",
        "outputId": "6148ec08-8742-46fe-8b06-7a8cce05086a"
      },
      "outputs": [
        {
          "output_type": "execute_result",
          "data": {
            "text/plain": [
              "['Stemborer',\n",
              " 'Brown_Spot',\n",
              " 'Neck_Blast',\n",
              " 'BLB',\n",
              " 'Healthy_Plant',\n",
              " 'Hispa',\n",
              " 'BPH',\n",
              " 'Sheath_Blight_Rot',\n",
              " 'False_Smut']"
            ]
          },
          "metadata": {},
          "execution_count": 85
        }
      ],
      "source": [
        "trainclass_subset"
      ]
    },
    {
      "cell_type": "code",
      "execution_count": 86,
      "metadata": {
        "colab": {
          "base_uri": "https://localhost:8080/"
        },
        "id": "Im7Lk0kb3ro3",
        "outputId": "2a71457f-e3f0-4f5f-e088-6797814e15e5"
      },
      "outputs": [
        {
          "output_type": "execute_result",
          "data": {
            "text/plain": [
              "['False_Smut',\n",
              " 'BLB',\n",
              " 'Sheath_Blight_Rot',\n",
              " 'Neck_Blast',\n",
              " 'BPH',\n",
              " 'Stemborer',\n",
              " 'Healthy_Plant',\n",
              " 'Brown_Spot',\n",
              " 'Hispa']"
            ]
          },
          "metadata": {},
          "execution_count": 86
        }
      ],
      "source": [
        "validclass_subset"
      ]
    },
    {
      "cell_type": "code",
      "execution_count": 88,
      "metadata": {
        "id": "hZW1jJKe26y7"
      },
      "outputs": [],
      "source": [
        "import tensorflow \n",
        "from tensorflow.keras.layers import Input, Lambda, Dense, Flatten,Dropout\n",
        "from tensorflow.keras.models import Model\n",
        "from tensorflow.keras.applications.inception_v3 import InceptionV3, preprocess_input\n",
        "from tensorflow.keras.preprocessing import image\n",
        "from tensorflow.keras.preprocessing.image import ImageDataGenerator\n",
        "from tensorflow.keras.models import Sequential\n",
        "import numpy as np\n",
        "import pandas as pd\n",
        "import os\n",
        "import cv2\n",
        "import matplotlib.pyplot as plt"
      ]
    },
    {
      "cell_type": "markdown",
      "metadata": {
        "id": "W4WPfH9YcF2u"
      },
      "source": [
        "# **Train Data with simple CNN**"
      ]
    },
    {
      "cell_type": "code",
      "execution_count": 89,
      "metadata": {
        "id": "3iV4LDaUdyow"
      },
      "outputs": [],
      "source": [
        "#image preprocessing\n",
        "train_datagen = ImageDataGenerator(\n",
        "    rescale=1./255,\n",
        "    zoom_range=0.15,\n",
        "    width_shift_range=0.2,\n",
        "    height_shift_range=0.2,\n",
        "    shear_range=0.15\n",
        ")\n",
        "\n",
        "val_datagen = ImageDataGenerator(\n",
        "    rescale=1./255\n",
        ")\n",
        "test_datagen = ImageDataGenerator(\n",
        "    rescale=1./255,\n",
        ")\n"
      ]
    },
    {
      "cell_type": "code",
      "execution_count": 90,
      "metadata": {
        "colab": {
          "base_uri": "https://localhost:8080/"
        },
        "id": "QZ0dMCQZelKr",
        "outputId": "d23b2f65-10c9-436b-e3d9-19671b569cab"
      },
      "outputs": [
        {
          "output_type": "stream",
          "name": "stdout",
          "text": [
            "Found 994 images belonging to 9 classes.\n",
            "Found 208 images belonging to 9 classes.\n",
            "Found 224 images belonging to 9 classes.\n"
          ]
        }
      ],
      "source": [
        "# load train data\n",
        "train_generator = train_datagen.flow_from_directory(train_dir,\n",
        "                                                    target_size=(224, 224),\n",
        "                                                    batch_size=32,\n",
        "                                                    color_mode=\"rgb\",\n",
        "                                                    shuffle=True,\n",
        "                                                    class_mode='categorical',\n",
        "                                                   )\n",
        "#load val data\n",
        "val_generator = val_datagen.flow_from_directory(validation_dir,\n",
        "                                                  target_size=(224,224),\n",
        "                                                  batch_size=32,\n",
        "                                                  color_mode=\"rgb\",\n",
        "                                                  shuffle=False,\n",
        "                                                  class_mode='categorical',\n",
        "                                                  )\n",
        "# load test data\n",
        "test_generator = test_datagen.flow_from_directory(test_dir,\n",
        "                                                  target_size=(224,224),\n",
        "                                                  batch_size=32,\n",
        "                                                  color_mode=\"rgb\",\n",
        "                                                  shuffle=False,\n",
        "                                                  class_mode='categorical',\n",
        "                                                  )"
      ]
    },
    {
      "cell_type": "markdown",
      "metadata": {
        "id": "BJc8cat7Ytys"
      },
      "source": [
        "# **Train with InceptionV3**"
      ]
    },
    {
      "cell_type": "code",
      "execution_count": 91,
      "metadata": {
        "id": "15ZjMRnXTtwO"
      },
      "outputs": [],
      "source": [
        "import tensorflow as tf\n",
        "from tensorflow.keras.models import Sequential, Model\n",
        "from tensorflow.keras.layers import Conv2D, Flatten, MaxPooling2D, Dense, Input, Reshape, Concatenate, GlobalAveragePooling2D, BatchNormalization, Dropout, Activation, GlobalMaxPooling2D\n",
        "from tensorflow.keras.utils import Sequence\n",
        "from keras.callbacks import ModelCheckpoint, EarlyStopping\n"
      ]
    },
    {
      "cell_type": "code",
      "execution_count": 92,
      "metadata": {
        "id": "n63Ax4Y8QTT9",
        "colab": {
          "base_uri": "https://localhost:8080/"
        },
        "outputId": "277de946-0ea4-4af6-a2cd-69ac371ee979"
      },
      "outputs": [
        {
          "output_type": "stream",
          "name": "stdout",
          "text": [
            "Downloading data from https://storage.googleapis.com/tensorflow/keras-applications/inception_v3/inception_v3_weights_tf_dim_ordering_tf_kernels_notop.h5\n",
            "87916544/87910968 [==============================] - 0s 0us/step\n",
            "87924736/87910968 [==============================] - 0s 0us/step\n"
          ]
        }
      ],
      "source": [
        "inception = InceptionV3(input_shape=(224, 224, 3), include_top=False, weights=\"imagenet\")\n"
      ]
    },
    {
      "cell_type": "code",
      "execution_count": 93,
      "metadata": {
        "id": "7Ww9aQPIQwTY"
      },
      "outputs": [],
      "source": [
        "#do not train the pre-trained layers of VGG-19\n",
        "for layer in inception.layers:\n",
        "    layer.trainable = False"
      ]
    },
    {
      "cell_type": "code",
      "execution_count": 94,
      "metadata": {
        "id": "avweld0f5LHG"
      },
      "outputs": [],
      "source": [
        "x = inception.output\n",
        "x = Flatten()(x)\n",
        "x = Dropout(0.3)(x)\n",
        "x = Dense(256, activation='relu', name='fc1')(x)\n",
        "x = Dense(128, activation='relu', name='fc2')(x)\n",
        "output_layer = Dense(9, activation='softmax', name='softmax')(x)\n",
        "model = Model(inputs=inception.input, outputs=output_layer)\n",
        "   "
      ]
    },
    {
      "cell_type": "code",
      "execution_count": 95,
      "metadata": {
        "colab": {
          "base_uri": "https://localhost:8080/"
        },
        "id": "czdwsj6o5WcF",
        "outputId": "9fa73aed-9559-4039-a4d2-e10bb337d902"
      },
      "outputs": [
        {
          "output_type": "stream",
          "name": "stdout",
          "text": [
            "Model: \"model_1\"\n",
            "__________________________________________________________________________________________________\n",
            " Layer (type)                   Output Shape         Param #     Connected to                     \n",
            "==================================================================================================\n",
            " input_2 (InputLayer)           [(None, 224, 224, 3  0           []                               \n",
            "                                )]                                                                \n",
            "                                                                                                  \n",
            " conv2d (Conv2D)                (None, 111, 111, 32  864         ['input_2[0][0]']                \n",
            "                                )                                                                 \n",
            "                                                                                                  \n",
            " batch_normalization (BatchNorm  (None, 111, 111, 32  96         ['conv2d[0][0]']                 \n",
            " alization)                     )                                                                 \n",
            "                                                                                                  \n",
            " activation (Activation)        (None, 111, 111, 32  0           ['batch_normalization[0][0]']    \n",
            "                                )                                                                 \n",
            "                                                                                                  \n",
            " conv2d_1 (Conv2D)              (None, 109, 109, 32  9216        ['activation[0][0]']             \n",
            "                                )                                                                 \n",
            "                                                                                                  \n",
            " batch_normalization_1 (BatchNo  (None, 109, 109, 32  96         ['conv2d_1[0][0]']               \n",
            " rmalization)                   )                                                                 \n",
            "                                                                                                  \n",
            " activation_1 (Activation)      (None, 109, 109, 32  0           ['batch_normalization_1[0][0]']  \n",
            "                                )                                                                 \n",
            "                                                                                                  \n",
            " conv2d_2 (Conv2D)              (None, 109, 109, 64  18432       ['activation_1[0][0]']           \n",
            "                                )                                                                 \n",
            "                                                                                                  \n",
            " batch_normalization_2 (BatchNo  (None, 109, 109, 64  192        ['conv2d_2[0][0]']               \n",
            " rmalization)                   )                                                                 \n",
            "                                                                                                  \n",
            " activation_2 (Activation)      (None, 109, 109, 64  0           ['batch_normalization_2[0][0]']  \n",
            "                                )                                                                 \n",
            "                                                                                                  \n",
            " max_pooling2d (MaxPooling2D)   (None, 54, 54, 64)   0           ['activation_2[0][0]']           \n",
            "                                                                                                  \n",
            " conv2d_3 (Conv2D)              (None, 54, 54, 80)   5120        ['max_pooling2d[0][0]']          \n",
            "                                                                                                  \n",
            " batch_normalization_3 (BatchNo  (None, 54, 54, 80)  240         ['conv2d_3[0][0]']               \n",
            " rmalization)                                                                                     \n",
            "                                                                                                  \n",
            " activation_3 (Activation)      (None, 54, 54, 80)   0           ['batch_normalization_3[0][0]']  \n",
            "                                                                                                  \n",
            " conv2d_4 (Conv2D)              (None, 52, 52, 192)  138240      ['activation_3[0][0]']           \n",
            "                                                                                                  \n",
            " batch_normalization_4 (BatchNo  (None, 52, 52, 192)  576        ['conv2d_4[0][0]']               \n",
            " rmalization)                                                                                     \n",
            "                                                                                                  \n",
            " activation_4 (Activation)      (None, 52, 52, 192)  0           ['batch_normalization_4[0][0]']  \n",
            "                                                                                                  \n",
            " max_pooling2d_1 (MaxPooling2D)  (None, 25, 25, 192)  0          ['activation_4[0][0]']           \n",
            "                                                                                                  \n",
            " conv2d_8 (Conv2D)              (None, 25, 25, 64)   12288       ['max_pooling2d_1[0][0]']        \n",
            "                                                                                                  \n",
            " batch_normalization_8 (BatchNo  (None, 25, 25, 64)  192         ['conv2d_8[0][0]']               \n",
            " rmalization)                                                                                     \n",
            "                                                                                                  \n",
            " activation_8 (Activation)      (None, 25, 25, 64)   0           ['batch_normalization_8[0][0]']  \n",
            "                                                                                                  \n",
            " conv2d_6 (Conv2D)              (None, 25, 25, 48)   9216        ['max_pooling2d_1[0][0]']        \n",
            "                                                                                                  \n",
            " conv2d_9 (Conv2D)              (None, 25, 25, 96)   55296       ['activation_8[0][0]']           \n",
            "                                                                                                  \n",
            " batch_normalization_6 (BatchNo  (None, 25, 25, 48)  144         ['conv2d_6[0][0]']               \n",
            " rmalization)                                                                                     \n",
            "                                                                                                  \n",
            " batch_normalization_9 (BatchNo  (None, 25, 25, 96)  288         ['conv2d_9[0][0]']               \n",
            " rmalization)                                                                                     \n",
            "                                                                                                  \n",
            " activation_6 (Activation)      (None, 25, 25, 48)   0           ['batch_normalization_6[0][0]']  \n",
            "                                                                                                  \n",
            " activation_9 (Activation)      (None, 25, 25, 96)   0           ['batch_normalization_9[0][0]']  \n",
            "                                                                                                  \n",
            " average_pooling2d (AveragePool  (None, 25, 25, 192)  0          ['max_pooling2d_1[0][0]']        \n",
            " ing2D)                                                                                           \n",
            "                                                                                                  \n",
            " conv2d_5 (Conv2D)              (None, 25, 25, 64)   12288       ['max_pooling2d_1[0][0]']        \n",
            "                                                                                                  \n",
            " conv2d_7 (Conv2D)              (None, 25, 25, 64)   76800       ['activation_6[0][0]']           \n",
            "                                                                                                  \n",
            " conv2d_10 (Conv2D)             (None, 25, 25, 96)   82944       ['activation_9[0][0]']           \n",
            "                                                                                                  \n",
            " conv2d_11 (Conv2D)             (None, 25, 25, 32)   6144        ['average_pooling2d[0][0]']      \n",
            "                                                                                                  \n",
            " batch_normalization_5 (BatchNo  (None, 25, 25, 64)  192         ['conv2d_5[0][0]']               \n",
            " rmalization)                                                                                     \n",
            "                                                                                                  \n",
            " batch_normalization_7 (BatchNo  (None, 25, 25, 64)  192         ['conv2d_7[0][0]']               \n",
            " rmalization)                                                                                     \n",
            "                                                                                                  \n",
            " batch_normalization_10 (BatchN  (None, 25, 25, 96)  288         ['conv2d_10[0][0]']              \n",
            " ormalization)                                                                                    \n",
            "                                                                                                  \n",
            " batch_normalization_11 (BatchN  (None, 25, 25, 32)  96          ['conv2d_11[0][0]']              \n",
            " ormalization)                                                                                    \n",
            "                                                                                                  \n",
            " activation_5 (Activation)      (None, 25, 25, 64)   0           ['batch_normalization_5[0][0]']  \n",
            "                                                                                                  \n",
            " activation_7 (Activation)      (None, 25, 25, 64)   0           ['batch_normalization_7[0][0]']  \n",
            "                                                                                                  \n",
            " activation_10 (Activation)     (None, 25, 25, 96)   0           ['batch_normalization_10[0][0]'] \n",
            "                                                                                                  \n",
            " activation_11 (Activation)     (None, 25, 25, 32)   0           ['batch_normalization_11[0][0]'] \n",
            "                                                                                                  \n",
            " mixed0 (Concatenate)           (None, 25, 25, 256)  0           ['activation_5[0][0]',           \n",
            "                                                                  'activation_7[0][0]',           \n",
            "                                                                  'activation_10[0][0]',          \n",
            "                                                                  'activation_11[0][0]']          \n",
            "                                                                                                  \n",
            " conv2d_15 (Conv2D)             (None, 25, 25, 64)   16384       ['mixed0[0][0]']                 \n",
            "                                                                                                  \n",
            " batch_normalization_15 (BatchN  (None, 25, 25, 64)  192         ['conv2d_15[0][0]']              \n",
            " ormalization)                                                                                    \n",
            "                                                                                                  \n",
            " activation_15 (Activation)     (None, 25, 25, 64)   0           ['batch_normalization_15[0][0]'] \n",
            "                                                                                                  \n",
            " conv2d_13 (Conv2D)             (None, 25, 25, 48)   12288       ['mixed0[0][0]']                 \n",
            "                                                                                                  \n",
            " conv2d_16 (Conv2D)             (None, 25, 25, 96)   55296       ['activation_15[0][0]']          \n",
            "                                                                                                  \n",
            " batch_normalization_13 (BatchN  (None, 25, 25, 48)  144         ['conv2d_13[0][0]']              \n",
            " ormalization)                                                                                    \n",
            "                                                                                                  \n",
            " batch_normalization_16 (BatchN  (None, 25, 25, 96)  288         ['conv2d_16[0][0]']              \n",
            " ormalization)                                                                                    \n",
            "                                                                                                  \n",
            " activation_13 (Activation)     (None, 25, 25, 48)   0           ['batch_normalization_13[0][0]'] \n",
            "                                                                                                  \n",
            " activation_16 (Activation)     (None, 25, 25, 96)   0           ['batch_normalization_16[0][0]'] \n",
            "                                                                                                  \n",
            " average_pooling2d_1 (AveragePo  (None, 25, 25, 256)  0          ['mixed0[0][0]']                 \n",
            " oling2D)                                                                                         \n",
            "                                                                                                  \n",
            " conv2d_12 (Conv2D)             (None, 25, 25, 64)   16384       ['mixed0[0][0]']                 \n",
            "                                                                                                  \n",
            " conv2d_14 (Conv2D)             (None, 25, 25, 64)   76800       ['activation_13[0][0]']          \n",
            "                                                                                                  \n",
            " conv2d_17 (Conv2D)             (None, 25, 25, 96)   82944       ['activation_16[0][0]']          \n",
            "                                                                                                  \n",
            " conv2d_18 (Conv2D)             (None, 25, 25, 64)   16384       ['average_pooling2d_1[0][0]']    \n",
            "                                                                                                  \n",
            " batch_normalization_12 (BatchN  (None, 25, 25, 64)  192         ['conv2d_12[0][0]']              \n",
            " ormalization)                                                                                    \n",
            "                                                                                                  \n",
            " batch_normalization_14 (BatchN  (None, 25, 25, 64)  192         ['conv2d_14[0][0]']              \n",
            " ormalization)                                                                                    \n",
            "                                                                                                  \n",
            " batch_normalization_17 (BatchN  (None, 25, 25, 96)  288         ['conv2d_17[0][0]']              \n",
            " ormalization)                                                                                    \n",
            "                                                                                                  \n",
            " batch_normalization_18 (BatchN  (None, 25, 25, 64)  192         ['conv2d_18[0][0]']              \n",
            " ormalization)                                                                                    \n",
            "                                                                                                  \n",
            " activation_12 (Activation)     (None, 25, 25, 64)   0           ['batch_normalization_12[0][0]'] \n",
            "                                                                                                  \n",
            " activation_14 (Activation)     (None, 25, 25, 64)   0           ['batch_normalization_14[0][0]'] \n",
            "                                                                                                  \n",
            " activation_17 (Activation)     (None, 25, 25, 96)   0           ['batch_normalization_17[0][0]'] \n",
            "                                                                                                  \n",
            " activation_18 (Activation)     (None, 25, 25, 64)   0           ['batch_normalization_18[0][0]'] \n",
            "                                                                                                  \n",
            " mixed1 (Concatenate)           (None, 25, 25, 288)  0           ['activation_12[0][0]',          \n",
            "                                                                  'activation_14[0][0]',          \n",
            "                                                                  'activation_17[0][0]',          \n",
            "                                                                  'activation_18[0][0]']          \n",
            "                                                                                                  \n",
            " conv2d_22 (Conv2D)             (None, 25, 25, 64)   18432       ['mixed1[0][0]']                 \n",
            "                                                                                                  \n",
            " batch_normalization_22 (BatchN  (None, 25, 25, 64)  192         ['conv2d_22[0][0]']              \n",
            " ormalization)                                                                                    \n",
            "                                                                                                  \n",
            " activation_22 (Activation)     (None, 25, 25, 64)   0           ['batch_normalization_22[0][0]'] \n",
            "                                                                                                  \n",
            " conv2d_20 (Conv2D)             (None, 25, 25, 48)   13824       ['mixed1[0][0]']                 \n",
            "                                                                                                  \n",
            " conv2d_23 (Conv2D)             (None, 25, 25, 96)   55296       ['activation_22[0][0]']          \n",
            "                                                                                                  \n",
            " batch_normalization_20 (BatchN  (None, 25, 25, 48)  144         ['conv2d_20[0][0]']              \n",
            " ormalization)                                                                                    \n",
            "                                                                                                  \n",
            " batch_normalization_23 (BatchN  (None, 25, 25, 96)  288         ['conv2d_23[0][0]']              \n",
            " ormalization)                                                                                    \n",
            "                                                                                                  \n",
            " activation_20 (Activation)     (None, 25, 25, 48)   0           ['batch_normalization_20[0][0]'] \n",
            "                                                                                                  \n",
            " activation_23 (Activation)     (None, 25, 25, 96)   0           ['batch_normalization_23[0][0]'] \n",
            "                                                                                                  \n",
            " average_pooling2d_2 (AveragePo  (None, 25, 25, 288)  0          ['mixed1[0][0]']                 \n",
            " oling2D)                                                                                         \n",
            "                                                                                                  \n",
            " conv2d_19 (Conv2D)             (None, 25, 25, 64)   18432       ['mixed1[0][0]']                 \n",
            "                                                                                                  \n",
            " conv2d_21 (Conv2D)             (None, 25, 25, 64)   76800       ['activation_20[0][0]']          \n",
            "                                                                                                  \n",
            " conv2d_24 (Conv2D)             (None, 25, 25, 96)   82944       ['activation_23[0][0]']          \n",
            "                                                                                                  \n",
            " conv2d_25 (Conv2D)             (None, 25, 25, 64)   18432       ['average_pooling2d_2[0][0]']    \n",
            "                                                                                                  \n",
            " batch_normalization_19 (BatchN  (None, 25, 25, 64)  192         ['conv2d_19[0][0]']              \n",
            " ormalization)                                                                                    \n",
            "                                                                                                  \n",
            " batch_normalization_21 (BatchN  (None, 25, 25, 64)  192         ['conv2d_21[0][0]']              \n",
            " ormalization)                                                                                    \n",
            "                                                                                                  \n",
            " batch_normalization_24 (BatchN  (None, 25, 25, 96)  288         ['conv2d_24[0][0]']              \n",
            " ormalization)                                                                                    \n",
            "                                                                                                  \n",
            " batch_normalization_25 (BatchN  (None, 25, 25, 64)  192         ['conv2d_25[0][0]']              \n",
            " ormalization)                                                                                    \n",
            "                                                                                                  \n",
            " activation_19 (Activation)     (None, 25, 25, 64)   0           ['batch_normalization_19[0][0]'] \n",
            "                                                                                                  \n",
            " activation_21 (Activation)     (None, 25, 25, 64)   0           ['batch_normalization_21[0][0]'] \n",
            "                                                                                                  \n",
            " activation_24 (Activation)     (None, 25, 25, 96)   0           ['batch_normalization_24[0][0]'] \n",
            "                                                                                                  \n",
            " activation_25 (Activation)     (None, 25, 25, 64)   0           ['batch_normalization_25[0][0]'] \n",
            "                                                                                                  \n",
            " mixed2 (Concatenate)           (None, 25, 25, 288)  0           ['activation_19[0][0]',          \n",
            "                                                                  'activation_21[0][0]',          \n",
            "                                                                  'activation_24[0][0]',          \n",
            "                                                                  'activation_25[0][0]']          \n",
            "                                                                                                  \n",
            " conv2d_27 (Conv2D)             (None, 25, 25, 64)   18432       ['mixed2[0][0]']                 \n",
            "                                                                                                  \n",
            " batch_normalization_27 (BatchN  (None, 25, 25, 64)  192         ['conv2d_27[0][0]']              \n",
            " ormalization)                                                                                    \n",
            "                                                                                                  \n",
            " activation_27 (Activation)     (None, 25, 25, 64)   0           ['batch_normalization_27[0][0]'] \n",
            "                                                                                                  \n",
            " conv2d_28 (Conv2D)             (None, 25, 25, 96)   55296       ['activation_27[0][0]']          \n",
            "                                                                                                  \n",
            " batch_normalization_28 (BatchN  (None, 25, 25, 96)  288         ['conv2d_28[0][0]']              \n",
            " ormalization)                                                                                    \n",
            "                                                                                                  \n",
            " activation_28 (Activation)     (None, 25, 25, 96)   0           ['batch_normalization_28[0][0]'] \n",
            "                                                                                                  \n",
            " conv2d_26 (Conv2D)             (None, 12, 12, 384)  995328      ['mixed2[0][0]']                 \n",
            "                                                                                                  \n",
            " conv2d_29 (Conv2D)             (None, 12, 12, 96)   82944       ['activation_28[0][0]']          \n",
            "                                                                                                  \n",
            " batch_normalization_26 (BatchN  (None, 12, 12, 384)  1152       ['conv2d_26[0][0]']              \n",
            " ormalization)                                                                                    \n",
            "                                                                                                  \n",
            " batch_normalization_29 (BatchN  (None, 12, 12, 96)  288         ['conv2d_29[0][0]']              \n",
            " ormalization)                                                                                    \n",
            "                                                                                                  \n",
            " activation_26 (Activation)     (None, 12, 12, 384)  0           ['batch_normalization_26[0][0]'] \n",
            "                                                                                                  \n",
            " activation_29 (Activation)     (None, 12, 12, 96)   0           ['batch_normalization_29[0][0]'] \n",
            "                                                                                                  \n",
            " max_pooling2d_2 (MaxPooling2D)  (None, 12, 12, 288)  0          ['mixed2[0][0]']                 \n",
            "                                                                                                  \n",
            " mixed3 (Concatenate)           (None, 12, 12, 768)  0           ['activation_26[0][0]',          \n",
            "                                                                  'activation_29[0][0]',          \n",
            "                                                                  'max_pooling2d_2[0][0]']        \n",
            "                                                                                                  \n",
            " conv2d_34 (Conv2D)             (None, 12, 12, 128)  98304       ['mixed3[0][0]']                 \n",
            "                                                                                                  \n",
            " batch_normalization_34 (BatchN  (None, 12, 12, 128)  384        ['conv2d_34[0][0]']              \n",
            " ormalization)                                                                                    \n",
            "                                                                                                  \n",
            " activation_34 (Activation)     (None, 12, 12, 128)  0           ['batch_normalization_34[0][0]'] \n",
            "                                                                                                  \n",
            " conv2d_35 (Conv2D)             (None, 12, 12, 128)  114688      ['activation_34[0][0]']          \n",
            "                                                                                                  \n",
            " batch_normalization_35 (BatchN  (None, 12, 12, 128)  384        ['conv2d_35[0][0]']              \n",
            " ormalization)                                                                                    \n",
            "                                                                                                  \n",
            " activation_35 (Activation)     (None, 12, 12, 128)  0           ['batch_normalization_35[0][0]'] \n",
            "                                                                                                  \n",
            " conv2d_31 (Conv2D)             (None, 12, 12, 128)  98304       ['mixed3[0][0]']                 \n",
            "                                                                                                  \n",
            " conv2d_36 (Conv2D)             (None, 12, 12, 128)  114688      ['activation_35[0][0]']          \n",
            "                                                                                                  \n",
            " batch_normalization_31 (BatchN  (None, 12, 12, 128)  384        ['conv2d_31[0][0]']              \n",
            " ormalization)                                                                                    \n",
            "                                                                                                  \n",
            " batch_normalization_36 (BatchN  (None, 12, 12, 128)  384        ['conv2d_36[0][0]']              \n",
            " ormalization)                                                                                    \n",
            "                                                                                                  \n",
            " activation_31 (Activation)     (None, 12, 12, 128)  0           ['batch_normalization_31[0][0]'] \n",
            "                                                                                                  \n",
            " activation_36 (Activation)     (None, 12, 12, 128)  0           ['batch_normalization_36[0][0]'] \n",
            "                                                                                                  \n",
            " conv2d_32 (Conv2D)             (None, 12, 12, 128)  114688      ['activation_31[0][0]']          \n",
            "                                                                                                  \n",
            " conv2d_37 (Conv2D)             (None, 12, 12, 128)  114688      ['activation_36[0][0]']          \n",
            "                                                                                                  \n",
            " batch_normalization_32 (BatchN  (None, 12, 12, 128)  384        ['conv2d_32[0][0]']              \n",
            " ormalization)                                                                                    \n",
            "                                                                                                  \n",
            " batch_normalization_37 (BatchN  (None, 12, 12, 128)  384        ['conv2d_37[0][0]']              \n",
            " ormalization)                                                                                    \n",
            "                                                                                                  \n",
            " activation_32 (Activation)     (None, 12, 12, 128)  0           ['batch_normalization_32[0][0]'] \n",
            "                                                                                                  \n",
            " activation_37 (Activation)     (None, 12, 12, 128)  0           ['batch_normalization_37[0][0]'] \n",
            "                                                                                                  \n",
            " average_pooling2d_3 (AveragePo  (None, 12, 12, 768)  0          ['mixed3[0][0]']                 \n",
            " oling2D)                                                                                         \n",
            "                                                                                                  \n",
            " conv2d_30 (Conv2D)             (None, 12, 12, 192)  147456      ['mixed3[0][0]']                 \n",
            "                                                                                                  \n",
            " conv2d_33 (Conv2D)             (None, 12, 12, 192)  172032      ['activation_32[0][0]']          \n",
            "                                                                                                  \n",
            " conv2d_38 (Conv2D)             (None, 12, 12, 192)  172032      ['activation_37[0][0]']          \n",
            "                                                                                                  \n",
            " conv2d_39 (Conv2D)             (None, 12, 12, 192)  147456      ['average_pooling2d_3[0][0]']    \n",
            "                                                                                                  \n",
            " batch_normalization_30 (BatchN  (None, 12, 12, 192)  576        ['conv2d_30[0][0]']              \n",
            " ormalization)                                                                                    \n",
            "                                                                                                  \n",
            " batch_normalization_33 (BatchN  (None, 12, 12, 192)  576        ['conv2d_33[0][0]']              \n",
            " ormalization)                                                                                    \n",
            "                                                                                                  \n",
            " batch_normalization_38 (BatchN  (None, 12, 12, 192)  576        ['conv2d_38[0][0]']              \n",
            " ormalization)                                                                                    \n",
            "                                                                                                  \n",
            " batch_normalization_39 (BatchN  (None, 12, 12, 192)  576        ['conv2d_39[0][0]']              \n",
            " ormalization)                                                                                    \n",
            "                                                                                                  \n",
            " activation_30 (Activation)     (None, 12, 12, 192)  0           ['batch_normalization_30[0][0]'] \n",
            "                                                                                                  \n",
            " activation_33 (Activation)     (None, 12, 12, 192)  0           ['batch_normalization_33[0][0]'] \n",
            "                                                                                                  \n",
            " activation_38 (Activation)     (None, 12, 12, 192)  0           ['batch_normalization_38[0][0]'] \n",
            "                                                                                                  \n",
            " activation_39 (Activation)     (None, 12, 12, 192)  0           ['batch_normalization_39[0][0]'] \n",
            "                                                                                                  \n",
            " mixed4 (Concatenate)           (None, 12, 12, 768)  0           ['activation_30[0][0]',          \n",
            "                                                                  'activation_33[0][0]',          \n",
            "                                                                  'activation_38[0][0]',          \n",
            "                                                                  'activation_39[0][0]']          \n",
            "                                                                                                  \n",
            " conv2d_44 (Conv2D)             (None, 12, 12, 160)  122880      ['mixed4[0][0]']                 \n",
            "                                                                                                  \n",
            " batch_normalization_44 (BatchN  (None, 12, 12, 160)  480        ['conv2d_44[0][0]']              \n",
            " ormalization)                                                                                    \n",
            "                                                                                                  \n",
            " activation_44 (Activation)     (None, 12, 12, 160)  0           ['batch_normalization_44[0][0]'] \n",
            "                                                                                                  \n",
            " conv2d_45 (Conv2D)             (None, 12, 12, 160)  179200      ['activation_44[0][0]']          \n",
            "                                                                                                  \n",
            " batch_normalization_45 (BatchN  (None, 12, 12, 160)  480        ['conv2d_45[0][0]']              \n",
            " ormalization)                                                                                    \n",
            "                                                                                                  \n",
            " activation_45 (Activation)     (None, 12, 12, 160)  0           ['batch_normalization_45[0][0]'] \n",
            "                                                                                                  \n",
            " conv2d_41 (Conv2D)             (None, 12, 12, 160)  122880      ['mixed4[0][0]']                 \n",
            "                                                                                                  \n",
            " conv2d_46 (Conv2D)             (None, 12, 12, 160)  179200      ['activation_45[0][0]']          \n",
            "                                                                                                  \n",
            " batch_normalization_41 (BatchN  (None, 12, 12, 160)  480        ['conv2d_41[0][0]']              \n",
            " ormalization)                                                                                    \n",
            "                                                                                                  \n",
            " batch_normalization_46 (BatchN  (None, 12, 12, 160)  480        ['conv2d_46[0][0]']              \n",
            " ormalization)                                                                                    \n",
            "                                                                                                  \n",
            " activation_41 (Activation)     (None, 12, 12, 160)  0           ['batch_normalization_41[0][0]'] \n",
            "                                                                                                  \n",
            " activation_46 (Activation)     (None, 12, 12, 160)  0           ['batch_normalization_46[0][0]'] \n",
            "                                                                                                  \n",
            " conv2d_42 (Conv2D)             (None, 12, 12, 160)  179200      ['activation_41[0][0]']          \n",
            "                                                                                                  \n",
            " conv2d_47 (Conv2D)             (None, 12, 12, 160)  179200      ['activation_46[0][0]']          \n",
            "                                                                                                  \n",
            " batch_normalization_42 (BatchN  (None, 12, 12, 160)  480        ['conv2d_42[0][0]']              \n",
            " ormalization)                                                                                    \n",
            "                                                                                                  \n",
            " batch_normalization_47 (BatchN  (None, 12, 12, 160)  480        ['conv2d_47[0][0]']              \n",
            " ormalization)                                                                                    \n",
            "                                                                                                  \n",
            " activation_42 (Activation)     (None, 12, 12, 160)  0           ['batch_normalization_42[0][0]'] \n",
            "                                                                                                  \n",
            " activation_47 (Activation)     (None, 12, 12, 160)  0           ['batch_normalization_47[0][0]'] \n",
            "                                                                                                  \n",
            " average_pooling2d_4 (AveragePo  (None, 12, 12, 768)  0          ['mixed4[0][0]']                 \n",
            " oling2D)                                                                                         \n",
            "                                                                                                  \n",
            " conv2d_40 (Conv2D)             (None, 12, 12, 192)  147456      ['mixed4[0][0]']                 \n",
            "                                                                                                  \n",
            " conv2d_43 (Conv2D)             (None, 12, 12, 192)  215040      ['activation_42[0][0]']          \n",
            "                                                                                                  \n",
            " conv2d_48 (Conv2D)             (None, 12, 12, 192)  215040      ['activation_47[0][0]']          \n",
            "                                                                                                  \n",
            " conv2d_49 (Conv2D)             (None, 12, 12, 192)  147456      ['average_pooling2d_4[0][0]']    \n",
            "                                                                                                  \n",
            " batch_normalization_40 (BatchN  (None, 12, 12, 192)  576        ['conv2d_40[0][0]']              \n",
            " ormalization)                                                                                    \n",
            "                                                                                                  \n",
            " batch_normalization_43 (BatchN  (None, 12, 12, 192)  576        ['conv2d_43[0][0]']              \n",
            " ormalization)                                                                                    \n",
            "                                                                                                  \n",
            " batch_normalization_48 (BatchN  (None, 12, 12, 192)  576        ['conv2d_48[0][0]']              \n",
            " ormalization)                                                                                    \n",
            "                                                                                                  \n",
            " batch_normalization_49 (BatchN  (None, 12, 12, 192)  576        ['conv2d_49[0][0]']              \n",
            " ormalization)                                                                                    \n",
            "                                                                                                  \n",
            " activation_40 (Activation)     (None, 12, 12, 192)  0           ['batch_normalization_40[0][0]'] \n",
            "                                                                                                  \n",
            " activation_43 (Activation)     (None, 12, 12, 192)  0           ['batch_normalization_43[0][0]'] \n",
            "                                                                                                  \n",
            " activation_48 (Activation)     (None, 12, 12, 192)  0           ['batch_normalization_48[0][0]'] \n",
            "                                                                                                  \n",
            " activation_49 (Activation)     (None, 12, 12, 192)  0           ['batch_normalization_49[0][0]'] \n",
            "                                                                                                  \n",
            " mixed5 (Concatenate)           (None, 12, 12, 768)  0           ['activation_40[0][0]',          \n",
            "                                                                  'activation_43[0][0]',          \n",
            "                                                                  'activation_48[0][0]',          \n",
            "                                                                  'activation_49[0][0]']          \n",
            "                                                                                                  \n",
            " conv2d_54 (Conv2D)             (None, 12, 12, 160)  122880      ['mixed5[0][0]']                 \n",
            "                                                                                                  \n",
            " batch_normalization_54 (BatchN  (None, 12, 12, 160)  480        ['conv2d_54[0][0]']              \n",
            " ormalization)                                                                                    \n",
            "                                                                                                  \n",
            " activation_54 (Activation)     (None, 12, 12, 160)  0           ['batch_normalization_54[0][0]'] \n",
            "                                                                                                  \n",
            " conv2d_55 (Conv2D)             (None, 12, 12, 160)  179200      ['activation_54[0][0]']          \n",
            "                                                                                                  \n",
            " batch_normalization_55 (BatchN  (None, 12, 12, 160)  480        ['conv2d_55[0][0]']              \n",
            " ormalization)                                                                                    \n",
            "                                                                                                  \n",
            " activation_55 (Activation)     (None, 12, 12, 160)  0           ['batch_normalization_55[0][0]'] \n",
            "                                                                                                  \n",
            " conv2d_51 (Conv2D)             (None, 12, 12, 160)  122880      ['mixed5[0][0]']                 \n",
            "                                                                                                  \n",
            " conv2d_56 (Conv2D)             (None, 12, 12, 160)  179200      ['activation_55[0][0]']          \n",
            "                                                                                                  \n",
            " batch_normalization_51 (BatchN  (None, 12, 12, 160)  480        ['conv2d_51[0][0]']              \n",
            " ormalization)                                                                                    \n",
            "                                                                                                  \n",
            " batch_normalization_56 (BatchN  (None, 12, 12, 160)  480        ['conv2d_56[0][0]']              \n",
            " ormalization)                                                                                    \n",
            "                                                                                                  \n",
            " activation_51 (Activation)     (None, 12, 12, 160)  0           ['batch_normalization_51[0][0]'] \n",
            "                                                                                                  \n",
            " activation_56 (Activation)     (None, 12, 12, 160)  0           ['batch_normalization_56[0][0]'] \n",
            "                                                                                                  \n",
            " conv2d_52 (Conv2D)             (None, 12, 12, 160)  179200      ['activation_51[0][0]']          \n",
            "                                                                                                  \n",
            " conv2d_57 (Conv2D)             (None, 12, 12, 160)  179200      ['activation_56[0][0]']          \n",
            "                                                                                                  \n",
            " batch_normalization_52 (BatchN  (None, 12, 12, 160)  480        ['conv2d_52[0][0]']              \n",
            " ormalization)                                                                                    \n",
            "                                                                                                  \n",
            " batch_normalization_57 (BatchN  (None, 12, 12, 160)  480        ['conv2d_57[0][0]']              \n",
            " ormalization)                                                                                    \n",
            "                                                                                                  \n",
            " activation_52 (Activation)     (None, 12, 12, 160)  0           ['batch_normalization_52[0][0]'] \n",
            "                                                                                                  \n",
            " activation_57 (Activation)     (None, 12, 12, 160)  0           ['batch_normalization_57[0][0]'] \n",
            "                                                                                                  \n",
            " average_pooling2d_5 (AveragePo  (None, 12, 12, 768)  0          ['mixed5[0][0]']                 \n",
            " oling2D)                                                                                         \n",
            "                                                                                                  \n",
            " conv2d_50 (Conv2D)             (None, 12, 12, 192)  147456      ['mixed5[0][0]']                 \n",
            "                                                                                                  \n",
            " conv2d_53 (Conv2D)             (None, 12, 12, 192)  215040      ['activation_52[0][0]']          \n",
            "                                                                                                  \n",
            " conv2d_58 (Conv2D)             (None, 12, 12, 192)  215040      ['activation_57[0][0]']          \n",
            "                                                                                                  \n",
            " conv2d_59 (Conv2D)             (None, 12, 12, 192)  147456      ['average_pooling2d_5[0][0]']    \n",
            "                                                                                                  \n",
            " batch_normalization_50 (BatchN  (None, 12, 12, 192)  576        ['conv2d_50[0][0]']              \n",
            " ormalization)                                                                                    \n",
            "                                                                                                  \n",
            " batch_normalization_53 (BatchN  (None, 12, 12, 192)  576        ['conv2d_53[0][0]']              \n",
            " ormalization)                                                                                    \n",
            "                                                                                                  \n",
            " batch_normalization_58 (BatchN  (None, 12, 12, 192)  576        ['conv2d_58[0][0]']              \n",
            " ormalization)                                                                                    \n",
            "                                                                                                  \n",
            " batch_normalization_59 (BatchN  (None, 12, 12, 192)  576        ['conv2d_59[0][0]']              \n",
            " ormalization)                                                                                    \n",
            "                                                                                                  \n",
            " activation_50 (Activation)     (None, 12, 12, 192)  0           ['batch_normalization_50[0][0]'] \n",
            "                                                                                                  \n",
            " activation_53 (Activation)     (None, 12, 12, 192)  0           ['batch_normalization_53[0][0]'] \n",
            "                                                                                                  \n",
            " activation_58 (Activation)     (None, 12, 12, 192)  0           ['batch_normalization_58[0][0]'] \n",
            "                                                                                                  \n",
            " activation_59 (Activation)     (None, 12, 12, 192)  0           ['batch_normalization_59[0][0]'] \n",
            "                                                                                                  \n",
            " mixed6 (Concatenate)           (None, 12, 12, 768)  0           ['activation_50[0][0]',          \n",
            "                                                                  'activation_53[0][0]',          \n",
            "                                                                  'activation_58[0][0]',          \n",
            "                                                                  'activation_59[0][0]']          \n",
            "                                                                                                  \n",
            " conv2d_64 (Conv2D)             (None, 12, 12, 192)  147456      ['mixed6[0][0]']                 \n",
            "                                                                                                  \n",
            " batch_normalization_64 (BatchN  (None, 12, 12, 192)  576        ['conv2d_64[0][0]']              \n",
            " ormalization)                                                                                    \n",
            "                                                                                                  \n",
            " activation_64 (Activation)     (None, 12, 12, 192)  0           ['batch_normalization_64[0][0]'] \n",
            "                                                                                                  \n",
            " conv2d_65 (Conv2D)             (None, 12, 12, 192)  258048      ['activation_64[0][0]']          \n",
            "                                                                                                  \n",
            " batch_normalization_65 (BatchN  (None, 12, 12, 192)  576        ['conv2d_65[0][0]']              \n",
            " ormalization)                                                                                    \n",
            "                                                                                                  \n",
            " activation_65 (Activation)     (None, 12, 12, 192)  0           ['batch_normalization_65[0][0]'] \n",
            "                                                                                                  \n",
            " conv2d_61 (Conv2D)             (None, 12, 12, 192)  147456      ['mixed6[0][0]']                 \n",
            "                                                                                                  \n",
            " conv2d_66 (Conv2D)             (None, 12, 12, 192)  258048      ['activation_65[0][0]']          \n",
            "                                                                                                  \n",
            " batch_normalization_61 (BatchN  (None, 12, 12, 192)  576        ['conv2d_61[0][0]']              \n",
            " ormalization)                                                                                    \n",
            "                                                                                                  \n",
            " batch_normalization_66 (BatchN  (None, 12, 12, 192)  576        ['conv2d_66[0][0]']              \n",
            " ormalization)                                                                                    \n",
            "                                                                                                  \n",
            " activation_61 (Activation)     (None, 12, 12, 192)  0           ['batch_normalization_61[0][0]'] \n",
            "                                                                                                  \n",
            " activation_66 (Activation)     (None, 12, 12, 192)  0           ['batch_normalization_66[0][0]'] \n",
            "                                                                                                  \n",
            " conv2d_62 (Conv2D)             (None, 12, 12, 192)  258048      ['activation_61[0][0]']          \n",
            "                                                                                                  \n",
            " conv2d_67 (Conv2D)             (None, 12, 12, 192)  258048      ['activation_66[0][0]']          \n",
            "                                                                                                  \n",
            " batch_normalization_62 (BatchN  (None, 12, 12, 192)  576        ['conv2d_62[0][0]']              \n",
            " ormalization)                                                                                    \n",
            "                                                                                                  \n",
            " batch_normalization_67 (BatchN  (None, 12, 12, 192)  576        ['conv2d_67[0][0]']              \n",
            " ormalization)                                                                                    \n",
            "                                                                                                  \n",
            " activation_62 (Activation)     (None, 12, 12, 192)  0           ['batch_normalization_62[0][0]'] \n",
            "                                                                                                  \n",
            " activation_67 (Activation)     (None, 12, 12, 192)  0           ['batch_normalization_67[0][0]'] \n",
            "                                                                                                  \n",
            " average_pooling2d_6 (AveragePo  (None, 12, 12, 768)  0          ['mixed6[0][0]']                 \n",
            " oling2D)                                                                                         \n",
            "                                                                                                  \n",
            " conv2d_60 (Conv2D)             (None, 12, 12, 192)  147456      ['mixed6[0][0]']                 \n",
            "                                                                                                  \n",
            " conv2d_63 (Conv2D)             (None, 12, 12, 192)  258048      ['activation_62[0][0]']          \n",
            "                                                                                                  \n",
            " conv2d_68 (Conv2D)             (None, 12, 12, 192)  258048      ['activation_67[0][0]']          \n",
            "                                                                                                  \n",
            " conv2d_69 (Conv2D)             (None, 12, 12, 192)  147456      ['average_pooling2d_6[0][0]']    \n",
            "                                                                                                  \n",
            " batch_normalization_60 (BatchN  (None, 12, 12, 192)  576        ['conv2d_60[0][0]']              \n",
            " ormalization)                                                                                    \n",
            "                                                                                                  \n",
            " batch_normalization_63 (BatchN  (None, 12, 12, 192)  576        ['conv2d_63[0][0]']              \n",
            " ormalization)                                                                                    \n",
            "                                                                                                  \n",
            " batch_normalization_68 (BatchN  (None, 12, 12, 192)  576        ['conv2d_68[0][0]']              \n",
            " ormalization)                                                                                    \n",
            "                                                                                                  \n",
            " batch_normalization_69 (BatchN  (None, 12, 12, 192)  576        ['conv2d_69[0][0]']              \n",
            " ormalization)                                                                                    \n",
            "                                                                                                  \n",
            " activation_60 (Activation)     (None, 12, 12, 192)  0           ['batch_normalization_60[0][0]'] \n",
            "                                                                                                  \n",
            " activation_63 (Activation)     (None, 12, 12, 192)  0           ['batch_normalization_63[0][0]'] \n",
            "                                                                                                  \n",
            " activation_68 (Activation)     (None, 12, 12, 192)  0           ['batch_normalization_68[0][0]'] \n",
            "                                                                                                  \n",
            " activation_69 (Activation)     (None, 12, 12, 192)  0           ['batch_normalization_69[0][0]'] \n",
            "                                                                                                  \n",
            " mixed7 (Concatenate)           (None, 12, 12, 768)  0           ['activation_60[0][0]',          \n",
            "                                                                  'activation_63[0][0]',          \n",
            "                                                                  'activation_68[0][0]',          \n",
            "                                                                  'activation_69[0][0]']          \n",
            "                                                                                                  \n",
            " conv2d_72 (Conv2D)             (None, 12, 12, 192)  147456      ['mixed7[0][0]']                 \n",
            "                                                                                                  \n",
            " batch_normalization_72 (BatchN  (None, 12, 12, 192)  576        ['conv2d_72[0][0]']              \n",
            " ormalization)                                                                                    \n",
            "                                                                                                  \n",
            " activation_72 (Activation)     (None, 12, 12, 192)  0           ['batch_normalization_72[0][0]'] \n",
            "                                                                                                  \n",
            " conv2d_73 (Conv2D)             (None, 12, 12, 192)  258048      ['activation_72[0][0]']          \n",
            "                                                                                                  \n",
            " batch_normalization_73 (BatchN  (None, 12, 12, 192)  576        ['conv2d_73[0][0]']              \n",
            " ormalization)                                                                                    \n",
            "                                                                                                  \n",
            " activation_73 (Activation)     (None, 12, 12, 192)  0           ['batch_normalization_73[0][0]'] \n",
            "                                                                                                  \n",
            " conv2d_70 (Conv2D)             (None, 12, 12, 192)  147456      ['mixed7[0][0]']                 \n",
            "                                                                                                  \n",
            " conv2d_74 (Conv2D)             (None, 12, 12, 192)  258048      ['activation_73[0][0]']          \n",
            "                                                                                                  \n",
            " batch_normalization_70 (BatchN  (None, 12, 12, 192)  576        ['conv2d_70[0][0]']              \n",
            " ormalization)                                                                                    \n",
            "                                                                                                  \n",
            " batch_normalization_74 (BatchN  (None, 12, 12, 192)  576        ['conv2d_74[0][0]']              \n",
            " ormalization)                                                                                    \n",
            "                                                                                                  \n",
            " activation_70 (Activation)     (None, 12, 12, 192)  0           ['batch_normalization_70[0][0]'] \n",
            "                                                                                                  \n",
            " activation_74 (Activation)     (None, 12, 12, 192)  0           ['batch_normalization_74[0][0]'] \n",
            "                                                                                                  \n",
            " conv2d_71 (Conv2D)             (None, 5, 5, 320)    552960      ['activation_70[0][0]']          \n",
            "                                                                                                  \n",
            " conv2d_75 (Conv2D)             (None, 5, 5, 192)    331776      ['activation_74[0][0]']          \n",
            "                                                                                                  \n",
            " batch_normalization_71 (BatchN  (None, 5, 5, 320)   960         ['conv2d_71[0][0]']              \n",
            " ormalization)                                                                                    \n",
            "                                                                                                  \n",
            " batch_normalization_75 (BatchN  (None, 5, 5, 192)   576         ['conv2d_75[0][0]']              \n",
            " ormalization)                                                                                    \n",
            "                                                                                                  \n",
            " activation_71 (Activation)     (None, 5, 5, 320)    0           ['batch_normalization_71[0][0]'] \n",
            "                                                                                                  \n",
            " activation_75 (Activation)     (None, 5, 5, 192)    0           ['batch_normalization_75[0][0]'] \n",
            "                                                                                                  \n",
            " max_pooling2d_3 (MaxPooling2D)  (None, 5, 5, 768)   0           ['mixed7[0][0]']                 \n",
            "                                                                                                  \n",
            " mixed8 (Concatenate)           (None, 5, 5, 1280)   0           ['activation_71[0][0]',          \n",
            "                                                                  'activation_75[0][0]',          \n",
            "                                                                  'max_pooling2d_3[0][0]']        \n",
            "                                                                                                  \n",
            " conv2d_80 (Conv2D)             (None, 5, 5, 448)    573440      ['mixed8[0][0]']                 \n",
            "                                                                                                  \n",
            " batch_normalization_80 (BatchN  (None, 5, 5, 448)   1344        ['conv2d_80[0][0]']              \n",
            " ormalization)                                                                                    \n",
            "                                                                                                  \n",
            " activation_80 (Activation)     (None, 5, 5, 448)    0           ['batch_normalization_80[0][0]'] \n",
            "                                                                                                  \n",
            " conv2d_77 (Conv2D)             (None, 5, 5, 384)    491520      ['mixed8[0][0]']                 \n",
            "                                                                                                  \n",
            " conv2d_81 (Conv2D)             (None, 5, 5, 384)    1548288     ['activation_80[0][0]']          \n",
            "                                                                                                  \n",
            " batch_normalization_77 (BatchN  (None, 5, 5, 384)   1152        ['conv2d_77[0][0]']              \n",
            " ormalization)                                                                                    \n",
            "                                                                                                  \n",
            " batch_normalization_81 (BatchN  (None, 5, 5, 384)   1152        ['conv2d_81[0][0]']              \n",
            " ormalization)                                                                                    \n",
            "                                                                                                  \n",
            " activation_77 (Activation)     (None, 5, 5, 384)    0           ['batch_normalization_77[0][0]'] \n",
            "                                                                                                  \n",
            " activation_81 (Activation)     (None, 5, 5, 384)    0           ['batch_normalization_81[0][0]'] \n",
            "                                                                                                  \n",
            " conv2d_78 (Conv2D)             (None, 5, 5, 384)    442368      ['activation_77[0][0]']          \n",
            "                                                                                                  \n",
            " conv2d_79 (Conv2D)             (None, 5, 5, 384)    442368      ['activation_77[0][0]']          \n",
            "                                                                                                  \n",
            " conv2d_82 (Conv2D)             (None, 5, 5, 384)    442368      ['activation_81[0][0]']          \n",
            "                                                                                                  \n",
            " conv2d_83 (Conv2D)             (None, 5, 5, 384)    442368      ['activation_81[0][0]']          \n",
            "                                                                                                  \n",
            " average_pooling2d_7 (AveragePo  (None, 5, 5, 1280)  0           ['mixed8[0][0]']                 \n",
            " oling2D)                                                                                         \n",
            "                                                                                                  \n",
            " conv2d_76 (Conv2D)             (None, 5, 5, 320)    409600      ['mixed8[0][0]']                 \n",
            "                                                                                                  \n",
            " batch_normalization_78 (BatchN  (None, 5, 5, 384)   1152        ['conv2d_78[0][0]']              \n",
            " ormalization)                                                                                    \n",
            "                                                                                                  \n",
            " batch_normalization_79 (BatchN  (None, 5, 5, 384)   1152        ['conv2d_79[0][0]']              \n",
            " ormalization)                                                                                    \n",
            "                                                                                                  \n",
            " batch_normalization_82 (BatchN  (None, 5, 5, 384)   1152        ['conv2d_82[0][0]']              \n",
            " ormalization)                                                                                    \n",
            "                                                                                                  \n",
            " batch_normalization_83 (BatchN  (None, 5, 5, 384)   1152        ['conv2d_83[0][0]']              \n",
            " ormalization)                                                                                    \n",
            "                                                                                                  \n",
            " conv2d_84 (Conv2D)             (None, 5, 5, 192)    245760      ['average_pooling2d_7[0][0]']    \n",
            "                                                                                                  \n",
            " batch_normalization_76 (BatchN  (None, 5, 5, 320)   960         ['conv2d_76[0][0]']              \n",
            " ormalization)                                                                                    \n",
            "                                                                                                  \n",
            " activation_78 (Activation)     (None, 5, 5, 384)    0           ['batch_normalization_78[0][0]'] \n",
            "                                                                                                  \n",
            " activation_79 (Activation)     (None, 5, 5, 384)    0           ['batch_normalization_79[0][0]'] \n",
            "                                                                                                  \n",
            " activation_82 (Activation)     (None, 5, 5, 384)    0           ['batch_normalization_82[0][0]'] \n",
            "                                                                                                  \n",
            " activation_83 (Activation)     (None, 5, 5, 384)    0           ['batch_normalization_83[0][0]'] \n",
            "                                                                                                  \n",
            " batch_normalization_84 (BatchN  (None, 5, 5, 192)   576         ['conv2d_84[0][0]']              \n",
            " ormalization)                                                                                    \n",
            "                                                                                                  \n",
            " activation_76 (Activation)     (None, 5, 5, 320)    0           ['batch_normalization_76[0][0]'] \n",
            "                                                                                                  \n",
            " mixed9_0 (Concatenate)         (None, 5, 5, 768)    0           ['activation_78[0][0]',          \n",
            "                                                                  'activation_79[0][0]']          \n",
            "                                                                                                  \n",
            " concatenate (Concatenate)      (None, 5, 5, 768)    0           ['activation_82[0][0]',          \n",
            "                                                                  'activation_83[0][0]']          \n",
            "                                                                                                  \n",
            " activation_84 (Activation)     (None, 5, 5, 192)    0           ['batch_normalization_84[0][0]'] \n",
            "                                                                                                  \n",
            " mixed9 (Concatenate)           (None, 5, 5, 2048)   0           ['activation_76[0][0]',          \n",
            "                                                                  'mixed9_0[0][0]',               \n",
            "                                                                  'concatenate[0][0]',            \n",
            "                                                                  'activation_84[0][0]']          \n",
            "                                                                                                  \n",
            " conv2d_89 (Conv2D)             (None, 5, 5, 448)    917504      ['mixed9[0][0]']                 \n",
            "                                                                                                  \n",
            " batch_normalization_89 (BatchN  (None, 5, 5, 448)   1344        ['conv2d_89[0][0]']              \n",
            " ormalization)                                                                                    \n",
            "                                                                                                  \n",
            " activation_89 (Activation)     (None, 5, 5, 448)    0           ['batch_normalization_89[0][0]'] \n",
            "                                                                                                  \n",
            " conv2d_86 (Conv2D)             (None, 5, 5, 384)    786432      ['mixed9[0][0]']                 \n",
            "                                                                                                  \n",
            " conv2d_90 (Conv2D)             (None, 5, 5, 384)    1548288     ['activation_89[0][0]']          \n",
            "                                                                                                  \n",
            " batch_normalization_86 (BatchN  (None, 5, 5, 384)   1152        ['conv2d_86[0][0]']              \n",
            " ormalization)                                                                                    \n",
            "                                                                                                  \n",
            " batch_normalization_90 (BatchN  (None, 5, 5, 384)   1152        ['conv2d_90[0][0]']              \n",
            " ormalization)                                                                                    \n",
            "                                                                                                  \n",
            " activation_86 (Activation)     (None, 5, 5, 384)    0           ['batch_normalization_86[0][0]'] \n",
            "                                                                                                  \n",
            " activation_90 (Activation)     (None, 5, 5, 384)    0           ['batch_normalization_90[0][0]'] \n",
            "                                                                                                  \n",
            " conv2d_87 (Conv2D)             (None, 5, 5, 384)    442368      ['activation_86[0][0]']          \n",
            "                                                                                                  \n",
            " conv2d_88 (Conv2D)             (None, 5, 5, 384)    442368      ['activation_86[0][0]']          \n",
            "                                                                                                  \n",
            " conv2d_91 (Conv2D)             (None, 5, 5, 384)    442368      ['activation_90[0][0]']          \n",
            "                                                                                                  \n",
            " conv2d_92 (Conv2D)             (None, 5, 5, 384)    442368      ['activation_90[0][0]']          \n",
            "                                                                                                  \n",
            " average_pooling2d_8 (AveragePo  (None, 5, 5, 2048)  0           ['mixed9[0][0]']                 \n",
            " oling2D)                                                                                         \n",
            "                                                                                                  \n",
            " conv2d_85 (Conv2D)             (None, 5, 5, 320)    655360      ['mixed9[0][0]']                 \n",
            "                                                                                                  \n",
            " batch_normalization_87 (BatchN  (None, 5, 5, 384)   1152        ['conv2d_87[0][0]']              \n",
            " ormalization)                                                                                    \n",
            "                                                                                                  \n",
            " batch_normalization_88 (BatchN  (None, 5, 5, 384)   1152        ['conv2d_88[0][0]']              \n",
            " ormalization)                                                                                    \n",
            "                                                                                                  \n",
            " batch_normalization_91 (BatchN  (None, 5, 5, 384)   1152        ['conv2d_91[0][0]']              \n",
            " ormalization)                                                                                    \n",
            "                                                                                                  \n",
            " batch_normalization_92 (BatchN  (None, 5, 5, 384)   1152        ['conv2d_92[0][0]']              \n",
            " ormalization)                                                                                    \n",
            "                                                                                                  \n",
            " conv2d_93 (Conv2D)             (None, 5, 5, 192)    393216      ['average_pooling2d_8[0][0]']    \n",
            "                                                                                                  \n",
            " batch_normalization_85 (BatchN  (None, 5, 5, 320)   960         ['conv2d_85[0][0]']              \n",
            " ormalization)                                                                                    \n",
            "                                                                                                  \n",
            " activation_87 (Activation)     (None, 5, 5, 384)    0           ['batch_normalization_87[0][0]'] \n",
            "                                                                                                  \n",
            " activation_88 (Activation)     (None, 5, 5, 384)    0           ['batch_normalization_88[0][0]'] \n",
            "                                                                                                  \n",
            " activation_91 (Activation)     (None, 5, 5, 384)    0           ['batch_normalization_91[0][0]'] \n",
            "                                                                                                  \n",
            " activation_92 (Activation)     (None, 5, 5, 384)    0           ['batch_normalization_92[0][0]'] \n",
            "                                                                                                  \n",
            " batch_normalization_93 (BatchN  (None, 5, 5, 192)   576         ['conv2d_93[0][0]']              \n",
            " ormalization)                                                                                    \n",
            "                                                                                                  \n",
            " activation_85 (Activation)     (None, 5, 5, 320)    0           ['batch_normalization_85[0][0]'] \n",
            "                                                                                                  \n",
            " mixed9_1 (Concatenate)         (None, 5, 5, 768)    0           ['activation_87[0][0]',          \n",
            "                                                                  'activation_88[0][0]']          \n",
            "                                                                                                  \n",
            " concatenate_1 (Concatenate)    (None, 5, 5, 768)    0           ['activation_91[0][0]',          \n",
            "                                                                  'activation_92[0][0]']          \n",
            "                                                                                                  \n",
            " activation_93 (Activation)     (None, 5, 5, 192)    0           ['batch_normalization_93[0][0]'] \n",
            "                                                                                                  \n",
            " mixed10 (Concatenate)          (None, 5, 5, 2048)   0           ['activation_85[0][0]',          \n",
            "                                                                  'mixed9_1[0][0]',               \n",
            "                                                                  'concatenate_1[0][0]',          \n",
            "                                                                  'activation_93[0][0]']          \n",
            "                                                                                                  \n",
            " flatten_1 (Flatten)            (None, 51200)        0           ['mixed10[0][0]']                \n",
            "                                                                                                  \n",
            " dropout_1 (Dropout)            (None, 51200)        0           ['flatten_1[0][0]']              \n",
            "                                                                                                  \n",
            " fc1 (Dense)                    (None, 256)          13107456    ['dropout_1[0][0]']              \n",
            "                                                                                                  \n",
            " fc2 (Dense)                    (None, 128)          32896       ['fc1[0][0]']                    \n",
            "                                                                                                  \n",
            " softmax (Dense)                (None, 9)            1161        ['fc2[0][0]']                    \n",
            "                                                                                                  \n",
            "==================================================================================================\n",
            "Total params: 34,944,297\n",
            "Trainable params: 13,141,513\n",
            "Non-trainable params: 21,802,784\n",
            "__________________________________________________________________________________________________\n"
          ]
        }
      ],
      "source": [
        "model.summary()\n"
      ]
    },
    {
      "cell_type": "code",
      "execution_count": 96,
      "metadata": {
        "colab": {
          "base_uri": "https://localhost:8080/"
        },
        "id": "9ZGh-3sZ7PkD",
        "outputId": "7fac809f-2174-406e-d9a9-5e4df3d358f5"
      },
      "outputs": [
        {
          "output_type": "stream",
          "name": "stdout",
          "text": [
            "<keras.engine.input_layer.InputLayer object at 0x7f0a757747d0> False\n",
            "<keras.layers.convolutional.Conv2D object at 0x7f0a75774710> False\n",
            "<keras.layers.normalization.batch_normalization.BatchNormalization object at 0x7f0a7578fa50> False\n",
            "<keras.layers.core.activation.Activation object at 0x7f0a75a09490> False\n",
            "<keras.layers.convolutional.Conv2D object at 0x7f0a75776c90> False\n",
            "<keras.layers.normalization.batch_normalization.BatchNormalization object at 0x7f0a7594c490> False\n",
            "<keras.layers.core.activation.Activation object at 0x7f0a7570e0d0> False\n",
            "<keras.layers.convolutional.Conv2D object at 0x7f0a75714bd0> False\n",
            "<keras.layers.normalization.batch_normalization.BatchNormalization object at 0x7f0a75914510> False\n",
            "<keras.layers.core.activation.Activation object at 0x7f0a75714f90> False\n",
            "<keras.layers.pooling.MaxPooling2D object at 0x7f0a75721c10> False\n",
            "<keras.layers.convolutional.Conv2D object at 0x7f0a75914a10> False\n",
            "<keras.layers.normalization.batch_normalization.BatchNormalization object at 0x7f0a756b07d0> False\n",
            "<keras.layers.core.activation.Activation object at 0x7f0a7572be90> False\n",
            "<keras.layers.convolutional.Conv2D object at 0x7f0a756b0910> False\n",
            "<keras.layers.normalization.batch_normalization.BatchNormalization object at 0x7f0a7572bb90> False\n",
            "<keras.layers.core.activation.Activation object at 0x7f0a756c5190> False\n",
            "<keras.layers.pooling.MaxPooling2D object at 0x7f0a75717710> False\n",
            "<keras.layers.convolutional.Conv2D object at 0x7f0a7567a4d0> False\n",
            "<keras.layers.normalization.batch_normalization.BatchNormalization object at 0x7f0a75676250> False\n",
            "<keras.layers.core.activation.Activation object at 0x7f0a7567a890> False\n",
            "<keras.layers.convolutional.Conv2D object at 0x7f0a756d4450> False\n",
            "<keras.layers.convolutional.Conv2D object at 0x7f0a75670990> False\n",
            "<keras.layers.normalization.batch_normalization.BatchNormalization object at 0x7f0a756d4f90> False\n",
            "<keras.layers.normalization.batch_normalization.BatchNormalization object at 0x7f0a75694b10> False\n",
            "<keras.layers.core.activation.Activation object at 0x7f0a756ddf90> False\n",
            "<keras.layers.core.activation.Activation object at 0x7f0a7568da10> False\n",
            "<keras.layers.pooling.AveragePooling2D object at 0x7f0a756a3e50> False\n",
            "<keras.layers.convolutional.Conv2D object at 0x7f0a756c5410> False\n",
            "<keras.layers.convolutional.Conv2D object at 0x7f0a756dd990> False\n",
            "<keras.layers.convolutional.Conv2D object at 0x7f0a75694a10> False\n",
            "<keras.layers.convolutional.Conv2D object at 0x7f0a75630090> False\n",
            "<keras.layers.normalization.batch_normalization.BatchNormalization object at 0x7f0a756bffd0> False\n",
            "<keras.layers.normalization.batch_normalization.BatchNormalization object at 0x7f0a75866810> False\n",
            "<keras.layers.normalization.batch_normalization.BatchNormalization object at 0x7f0a7568d250> False\n",
            "<keras.layers.normalization.batch_normalization.BatchNormalization object at 0x7f0a756a3150> False\n",
            "<keras.layers.core.activation.Activation object at 0x7f0a756d4050> False\n",
            "<keras.layers.core.activation.Activation object at 0x7f0a75670f50> False\n",
            "<keras.layers.core.activation.Activation object at 0x7f0a756a3f50> False\n",
            "<keras.layers.core.activation.Activation object at 0x7f0a758d8410> False\n",
            "<keras.layers.merge.Concatenate object at 0x7f0a7563c410> False\n",
            "<keras.layers.convolutional.Conv2D object at 0x7f0a756d4a50> False\n",
            "<keras.layers.normalization.batch_normalization.BatchNormalization object at 0x7f0a756bfc50> False\n",
            "<keras.layers.core.activation.Activation object at 0x7f0a75967ad0> False\n",
            "<keras.layers.convolutional.Conv2D object at 0x7f0a7564de10> False\n",
            "<keras.layers.convolutional.Conv2D object at 0x7f0a75651750> False\n",
            "<keras.layers.normalization.batch_normalization.BatchNormalization object at 0x7f0a756442d0> False\n",
            "<keras.layers.normalization.batch_normalization.BatchNormalization object at 0x7f0a758d8610> False\n",
            "<keras.layers.core.activation.Activation object at 0x7f0a75670750> False\n",
            "<keras.layers.core.activation.Activation object at 0x7f0a756dbfd0> False\n",
            "<keras.layers.pooling.AveragePooling2D object at 0x7f0a7565dd10> False\n",
            "<keras.layers.convolutional.Conv2D object at 0x7f0a75632cd0> False\n",
            "<keras.layers.convolutional.Conv2D object at 0x7f0a756dd450> False\n",
            "<keras.layers.convolutional.Conv2D object at 0x7f0a75727c90> False\n",
            "<keras.layers.convolutional.Conv2D object at 0x7f0a7565d750> False\n",
            "<keras.layers.normalization.batch_normalization.BatchNormalization object at 0x7f0a756a0910> False\n",
            "<keras.layers.normalization.batch_normalization.BatchNormalization object at 0x7f0a756dd9d0> False\n",
            "<keras.layers.normalization.batch_normalization.BatchNormalization object at 0x7f0a75717790> False\n",
            "<keras.layers.normalization.batch_normalization.BatchNormalization object at 0x7f0a7565d190> False\n",
            "<keras.layers.core.activation.Activation object at 0x7f0a7564d050> False\n",
            "<keras.layers.core.activation.Activation object at 0x7f0a756d4d10> False\n",
            "<keras.layers.core.activation.Activation object at 0x7f0a7565d090> False\n",
            "<keras.layers.core.activation.Activation object at 0x7f0a755ed2d0> False\n",
            "<keras.layers.merge.Concatenate object at 0x7f0a755ed450> False\n",
            "<keras.layers.convolutional.Conv2D object at 0x7f0a75669d90> False\n",
            "<keras.layers.normalization.batch_normalization.BatchNormalization object at 0x7f0a75644b90> False\n",
            "<keras.layers.core.activation.Activation object at 0x7f0a7560a210> False\n",
            "<keras.layers.convolutional.Conv2D object at 0x7f0a75602c90> False\n",
            "<keras.layers.convolutional.Conv2D object at 0x7f0a7562c090> False\n",
            "<keras.layers.normalization.batch_normalization.BatchNormalization object at 0x7f0a75611250> False\n",
            "<keras.layers.normalization.batch_normalization.BatchNormalization object at 0x7f0a755b4810> False\n",
            "<keras.layers.core.activation.Activation object at 0x7f0a75611850> False\n",
            "<keras.layers.core.activation.Activation object at 0x7f0a75621f10> False\n",
            "<keras.layers.pooling.AveragePooling2D object at 0x7f0a755d61d0> False\n",
            "<keras.layers.convolutional.Conv2D object at 0x7f0a7565e290> False\n",
            "<keras.layers.convolutional.Conv2D object at 0x7f0a75611190> False\n",
            "<keras.layers.convolutional.Conv2D object at 0x7f0a755c8f10> False\n",
            "<keras.layers.convolutional.Conv2D object at 0x7f0a755b4990> False\n",
            "<keras.layers.normalization.batch_normalization.BatchNormalization object at 0x7f0a7563ca10> False\n",
            "<keras.layers.normalization.batch_normalization.BatchNormalization object at 0x7f0a7560a310> False\n",
            "<keras.layers.normalization.batch_normalization.BatchNormalization object at 0x7f0a755c8350> False\n",
            "<keras.layers.normalization.batch_normalization.BatchNormalization object at 0x7f0a755bd310> False\n",
            "<keras.layers.core.activation.Activation object at 0x7f0a75602750> False\n",
            "<keras.layers.core.activation.Activation object at 0x7f0a75621490> False\n",
            "<keras.layers.core.activation.Activation object at 0x7f0a7562c8d0> False\n",
            "<keras.layers.core.activation.Activation object at 0x7f0a75665f10> False\n",
            "<keras.layers.merge.Concatenate object at 0x7f0a755ebc50> False\n",
            "<keras.layers.convolutional.Conv2D object at 0x7f0a75621110> False\n",
            "<keras.layers.normalization.batch_normalization.BatchNormalization object at 0x7f0a755ccf90> False\n",
            "<keras.layers.core.activation.Activation object at 0x7f0a755b4250> False\n",
            "<keras.layers.convolutional.Conv2D object at 0x7f0a7562cc10> False\n",
            "<keras.layers.normalization.batch_normalization.BatchNormalization object at 0x7f0a756510d0> False\n",
            "<keras.layers.core.activation.Activation object at 0x7f0a75721910> False\n",
            "<keras.layers.convolutional.Conv2D object at 0x7f0a755bd890> False\n",
            "<keras.layers.convolutional.Conv2D object at 0x7f0a75776990> False\n",
            "<keras.layers.normalization.batch_normalization.BatchNormalization object at 0x7f0a755e7450> False\n",
            "<keras.layers.normalization.batch_normalization.BatchNormalization object at 0x7f0a7565d450> False\n",
            "<keras.layers.core.activation.Activation object at 0x7f0a755d0410> False\n",
            "<keras.layers.core.activation.Activation object at 0x7f0a7567a390> False\n",
            "<keras.layers.pooling.MaxPooling2D object at 0x7f0a7567a250> False\n",
            "<keras.layers.merge.Concatenate object at 0x7f0a75642850> False\n",
            "<keras.layers.convolutional.Conv2D object at 0x7f0a7552f050> False\n",
            "<keras.layers.normalization.batch_normalization.BatchNormalization object at 0x7f0a7552ff10> False\n",
            "<keras.layers.core.activation.Activation object at 0x7f0a75539c10> False\n",
            "<keras.layers.convolutional.Conv2D object at 0x7f0a7559f550> False\n",
            "<keras.layers.normalization.batch_normalization.BatchNormalization object at 0x7f0a755403d0> False\n",
            "<keras.layers.core.activation.Activation object at 0x7f0a75535510> False\n",
            "<keras.layers.convolutional.Conv2D object at 0x7f0a75571fd0> False\n",
            "<keras.layers.convolutional.Conv2D object at 0x7f0a75540b90> False\n",
            "<keras.layers.normalization.batch_normalization.BatchNormalization object at 0x7f0a755787d0> False\n",
            "<keras.layers.normalization.batch_normalization.BatchNormalization object at 0x7f0a7552fed0> False\n",
            "<keras.layers.core.activation.Activation object at 0x7f0a75584f50> False\n",
            "<keras.layers.core.activation.Activation object at 0x7f0a75559a90> False\n",
            "<keras.layers.convolutional.Conv2D object at 0x7f0a75584f10> False\n",
            "<keras.layers.convolutional.Conv2D object at 0x7f0a7553ded0> False\n",
            "<keras.layers.normalization.batch_normalization.BatchNormalization object at 0x7f0a7558a490> False\n",
            "<keras.layers.normalization.batch_normalization.BatchNormalization object at 0x7f0a75554f90> False\n",
            "<keras.layers.core.activation.Activation object at 0x7f0a75590c10> False\n",
            "<keras.layers.core.activation.Activation object at 0x7f0a755648d0> False\n",
            "<keras.layers.pooling.AveragePooling2D object at 0x7f0a754f7e50> False\n",
            "<keras.layers.convolutional.Conv2D object at 0x7f0a756ddb90> False\n",
            "<keras.layers.convolutional.Conv2D object at 0x7f0a75590e10> False\n",
            "<keras.layers.convolutional.Conv2D object at 0x7f0a75560710> False\n",
            "<keras.layers.convolutional.Conv2D object at 0x7f0a754f7350> False\n",
            "<keras.layers.normalization.batch_normalization.BatchNormalization object at 0x7f0a7557ccd0> False\n",
            "<keras.layers.normalization.batch_normalization.BatchNormalization object at 0x7f0a7557fcd0> False\n",
            "<keras.layers.normalization.batch_normalization.BatchNormalization object at 0x7f0a755449d0> False\n",
            "<keras.layers.normalization.batch_normalization.BatchNormalization object at 0x7f0a7556ced0> False\n",
            "<keras.layers.core.activation.Activation object at 0x7f0a7557cb90> False\n",
            "<keras.layers.core.activation.Activation object at 0x7f0a7558aad0> False\n",
            "<keras.layers.core.activation.Activation object at 0x7f0a7556cf90> False\n",
            "<keras.layers.core.activation.Activation object at 0x7f0a7550c210> False\n",
            "<keras.layers.merge.Concatenate object at 0x7f0a7550c810> False\n",
            "<keras.layers.convolutional.Conv2D object at 0x7f0a75515690> False\n",
            "<keras.layers.normalization.batch_normalization.BatchNormalization object at 0x7f0a7551dc90> False\n",
            "<keras.layers.core.activation.Activation object at 0x7f0a7551d850> False\n",
            "<keras.layers.convolutional.Conv2D object at 0x7f0a75669950> False\n",
            "<keras.layers.normalization.batch_normalization.BatchNormalization object at 0x7f0a75515490> False\n",
            "<keras.layers.core.activation.Activation object at 0x7f0a7552c6d0> False\n",
            "<keras.layers.convolutional.Conv2D object at 0x7f0a754f1d10> False\n",
            "<keras.layers.convolutional.Conv2D object at 0x7f0a7552cc50> False\n",
            "<keras.layers.normalization.batch_normalization.BatchNormalization object at 0x7f0a75535a10> False\n",
            "<keras.layers.normalization.batch_normalization.BatchNormalization object at 0x7f0a75516490> False\n",
            "<keras.layers.core.activation.Activation object at 0x7f0a754f75d0> False\n",
            "<keras.layers.core.activation.Activation object at 0x7f0a755fb050> False\n",
            "<keras.layers.convolutional.Conv2D object at 0x7f0a7558af50> False\n",
            "<keras.layers.convolutional.Conv2D object at 0x7f0a754c0ad0> False\n",
            "<keras.layers.normalization.batch_normalization.BatchNormalization object at 0x7f0a755c0c90> False\n",
            "<keras.layers.normalization.batch_normalization.BatchNormalization object at 0x7f0a754c0d90> False\n",
            "<keras.layers.core.activation.Activation object at 0x7f0a75571750> False\n",
            "<keras.layers.core.activation.Activation object at 0x7f0a7552c110> False\n",
            "<keras.layers.pooling.AveragePooling2D object at 0x7f0a754c0d50> False\n",
            "<keras.layers.convolutional.Conv2D object at 0x7f0a7550c350> False\n",
            "<keras.layers.convolutional.Conv2D object at 0x7f0a755ae810> False\n",
            "<keras.layers.convolutional.Conv2D object at 0x7f0a754d2490> False\n",
            "<keras.layers.convolutional.Conv2D object at 0x7f0a754c0ed0> False\n",
            "<keras.layers.normalization.batch_normalization.BatchNormalization object at 0x7f0a75560d10> False\n",
            "<keras.layers.normalization.batch_normalization.BatchNormalization object at 0x7f0a758d8590> False\n",
            "<keras.layers.normalization.batch_normalization.BatchNormalization object at 0x7f0a754d2810> False\n",
            "<keras.layers.normalization.batch_normalization.BatchNormalization object at 0x7f0a754c8490> False\n",
            "<keras.layers.core.activation.Activation object at 0x7f0a75559610> False\n",
            "<keras.layers.core.activation.Activation object at 0x7f0a75582bd0> False\n",
            "<keras.layers.core.activation.Activation object at 0x7f0a754b73d0> False\n",
            "<keras.layers.core.activation.Activation object at 0x7f0a754e6b90> False\n",
            "<keras.layers.merge.Concatenate object at 0x7f0a7547be90> False\n",
            "<keras.layers.convolutional.Conv2D object at 0x7f0a754a4650> False\n",
            "<keras.layers.normalization.batch_normalization.BatchNormalization object at 0x7f0a754e6690> False\n",
            "<keras.layers.core.activation.Activation object at 0x7f0a754d8690> False\n",
            "<keras.layers.convolutional.Conv2D object at 0x7f0a754d2ad0> False\n",
            "<keras.layers.normalization.batch_normalization.BatchNormalization object at 0x7f0a754cb950> False\n",
            "<keras.layers.core.activation.Activation object at 0x7f0a754b0750> False\n",
            "<keras.layers.convolutional.Conv2D object at 0x7f0a75483810> False\n",
            "<keras.layers.convolutional.Conv2D object at 0x7f0a7551a410> False\n",
            "<keras.layers.normalization.batch_normalization.BatchNormalization object at 0x7f0a75483ad0> False\n",
            "<keras.layers.normalization.batch_normalization.BatchNormalization object at 0x7f0a754b04d0> False\n",
            "<keras.layers.core.activation.Activation object at 0x7f0a7548be90> False\n",
            "<keras.layers.core.activation.Activation object at 0x7f0a755904d0> False\n",
            "<keras.layers.convolutional.Conv2D object at 0x7f0a754976d0> False\n",
            "<keras.layers.convolutional.Conv2D object at 0x7f0a7552f350> False\n",
            "<keras.layers.normalization.batch_normalization.BatchNormalization object at 0x7f0a7548e4d0> False\n",
            "<keras.layers.normalization.batch_normalization.BatchNormalization object at 0x7f0a7556cbd0> False\n",
            "<keras.layers.core.activation.Activation object at 0x7f0a7548b450> False\n",
            "<keras.layers.core.activation.Activation object at 0x7f0a75572350> False\n",
            "<keras.layers.pooling.AveragePooling2D object at 0x7f0a7542e250> False\n",
            "<keras.layers.convolutional.Conv2D object at 0x7f0a75476e90> False\n",
            "<keras.layers.convolutional.Conv2D object at 0x7f0a7549b490> False\n",
            "<keras.layers.convolutional.Conv2D object at 0x7f0a7572ba10> False\n",
            "<keras.layers.convolutional.Conv2D object at 0x7f0a7543a450> False\n",
            "<keras.layers.normalization.batch_normalization.BatchNormalization object at 0x7f0a754d8290> False\n",
            "<keras.layers.normalization.batch_normalization.BatchNormalization object at 0x7f0a754aad90> False\n",
            "<keras.layers.normalization.batch_normalization.BatchNormalization object at 0x7f0a75539bd0> False\n",
            "<keras.layers.normalization.batch_normalization.BatchNormalization object at 0x7f0a7543cb10> False\n",
            "<keras.layers.core.activation.Activation object at 0x7f0a754dda90> False\n",
            "<keras.layers.core.activation.Activation object at 0x7f0a754aa190> False\n",
            "<keras.layers.core.activation.Activation object at 0x7f0a7543cc90> False\n",
            "<keras.layers.core.activation.Activation object at 0x7f0a7544f250> False\n",
            "<keras.layers.merge.Concatenate object at 0x7f0a75447950> False\n",
            "<keras.layers.convolutional.Conv2D object at 0x7f0a75411910> False\n",
            "<keras.layers.normalization.batch_normalization.BatchNormalization object at 0x7f0a75411290> False\n",
            "<keras.layers.core.activation.Activation object at 0x7f0a753ff490> False\n",
            "<keras.layers.convolutional.Conv2D object at 0x7f0a75427b10> False\n",
            "<keras.layers.normalization.batch_normalization.BatchNormalization object at 0x7f0a75427dd0> False\n",
            "<keras.layers.core.activation.Activation object at 0x7f0a62343ad0> False\n",
            "<keras.layers.convolutional.Conv2D object at 0x7f0a754589d0> False\n",
            "<keras.layers.convolutional.Conv2D object at 0x7f0a623474d0> False\n",
            "<keras.layers.normalization.batch_normalization.BatchNormalization object at 0x7f0a7545cf50> False\n",
            "<keras.layers.normalization.batch_normalization.BatchNormalization object at 0x7f0a62347290> False\n",
            "<keras.layers.core.activation.Activation object at 0x7f0a753ef590> False\n",
            "<keras.layers.core.activation.Activation object at 0x7f0a6233e410> False\n",
            "<keras.layers.convolutional.Conv2D object at 0x7f0a75464f50> False\n",
            "<keras.layers.convolutional.Conv2D object at 0x7f0a6234c290> False\n",
            "<keras.layers.normalization.batch_normalization.BatchNormalization object at 0x7f0a75469ad0> False\n",
            "<keras.layers.normalization.batch_normalization.BatchNormalization object at 0x7f0a6235b4d0> False\n",
            "<keras.layers.core.activation.Activation object at 0x7f0a753ff1d0> False\n",
            "<keras.layers.core.activation.Activation object at 0x7f0a6235b090> False\n",
            "<keras.layers.pooling.AveragePooling2D object at 0x7f0a753faed0> False\n",
            "<keras.layers.convolutional.Conv2D object at 0x7f0a75447410> False\n",
            "<keras.layers.convolutional.Conv2D object at 0x7f0a753ff3d0> False\n",
            "<keras.layers.convolutional.Conv2D object at 0x7f0a7541ca10> False\n",
            "<keras.layers.convolutional.Conv2D object at 0x7f0a753f4bd0> False\n",
            "<keras.layers.normalization.batch_normalization.BatchNormalization object at 0x7f0a754e6dd0> False\n",
            "<keras.layers.normalization.batch_normalization.BatchNormalization object at 0x7f0a753ffa10> False\n",
            "<keras.layers.normalization.batch_normalization.BatchNormalization object at 0x7f0a6235b910> False\n",
            "<keras.layers.normalization.batch_normalization.BatchNormalization object at 0x7f0a75411210> False\n",
            "<keras.layers.core.activation.Activation object at 0x7f0a754612d0> False\n",
            "<keras.layers.core.activation.Activation object at 0x7f0a75404d50> False\n",
            "<keras.layers.core.activation.Activation object at 0x7f0a7540d810> False\n",
            "<keras.layers.core.activation.Activation object at 0x7f0a754475d0> False\n",
            "<keras.layers.merge.Concatenate object at 0x7f0a754c8590> False\n",
            "<keras.layers.convolutional.Conv2D object at 0x7f0a62373a10> False\n",
            "<keras.layers.normalization.batch_normalization.BatchNormalization object at 0x7f0a62373c90> False\n",
            "<keras.layers.core.activation.Activation object at 0x7f0a754b0690> False\n",
            "<keras.layers.convolutional.Conv2D object at 0x7f0a62300390> False\n",
            "<keras.layers.normalization.batch_normalization.BatchNormalization object at 0x7f0a62300f90> False\n",
            "<keras.layers.core.activation.Activation object at 0x7f0a6230be90> False\n",
            "<keras.layers.convolutional.Conv2D object at 0x7f0a754f1290> False\n",
            "<keras.layers.convolutional.Conv2D object at 0x7f0a6230b410> False\n",
            "<keras.layers.normalization.batch_normalization.BatchNormalization object at 0x7f0a754694d0> False\n",
            "<keras.layers.normalization.batch_normalization.BatchNormalization object at 0x7f0a6237b390> False\n",
            "<keras.layers.core.activation.Activation object at 0x7f0a75554790> False\n",
            "<keras.layers.core.activation.Activation object at 0x7f0a7567afd0> False\n",
            "<keras.layers.convolutional.Conv2D object at 0x7f0a62362ad0> False\n",
            "<keras.layers.convolutional.Conv2D object at 0x7f0a6232c0d0> False\n",
            "<keras.layers.normalization.batch_normalization.BatchNormalization object at 0x7f0a6235f390> False\n",
            "<keras.layers.normalization.batch_normalization.BatchNormalization object at 0x7f0a6232c110> False\n",
            "<keras.layers.core.activation.Activation object at 0x7f0a7548e090> False\n",
            "<keras.layers.core.activation.Activation object at 0x7f0a6231a750> False\n",
            "<keras.layers.pooling.MaxPooling2D object at 0x7f0a6236f7d0> False\n",
            "<keras.layers.merge.Concatenate object at 0x7f0a7553d550> False\n",
            "<keras.layers.convolutional.Conv2D object at 0x7f0a622f8750> False\n",
            "<keras.layers.normalization.batch_normalization.BatchNormalization object at 0x7f0a6228b790> False\n",
            "<keras.layers.core.activation.Activation object at 0x7f0a6228b290> False\n",
            "<keras.layers.convolutional.Conv2D object at 0x7f0a622ca350> False\n",
            "<keras.layers.convolutional.Conv2D object at 0x7f0a622f3510> False\n",
            "<keras.layers.normalization.batch_normalization.BatchNormalization object at 0x7f0a622c8b50> False\n",
            "<keras.layers.normalization.batch_normalization.BatchNormalization object at 0x7f0a622fb5d0> False\n",
            "<keras.layers.core.activation.Activation object at 0x7f0a622d7310> False\n",
            "<keras.layers.core.activation.Activation object at 0x7f0a623234d0> False\n",
            "<keras.layers.convolutional.Conv2D object at 0x7f0a62300490> False\n",
            "<keras.layers.convolutional.Conv2D object at 0x7f0a622e9b50> False\n",
            "<keras.layers.convolutional.Conv2D object at 0x7f0a622e3490> False\n",
            "<keras.layers.convolutional.Conv2D object at 0x7f0a62315950> False\n",
            "<keras.layers.pooling.AveragePooling2D object at 0x7f0a622d3250> False\n",
            "<keras.layers.convolutional.Conv2D object at 0x7f0a623238d0> False\n",
            "<keras.layers.normalization.batch_normalization.BatchNormalization object at 0x7f0a622d7990> False\n",
            "<keras.layers.normalization.batch_normalization.BatchNormalization object at 0x7f0a622cae50> False\n",
            "<keras.layers.normalization.batch_normalization.BatchNormalization object at 0x7f0a623351d0> False\n",
            "<keras.layers.normalization.batch_normalization.BatchNormalization object at 0x7f0a6236f650> False\n",
            "<keras.layers.convolutional.Conv2D object at 0x7f0a62350bd0> False\n",
            "<keras.layers.normalization.batch_normalization.BatchNormalization object at 0x7f0a7544fb90> False\n",
            "<keras.layers.core.activation.Activation object at 0x7f0a622c8150> False\n",
            "<keras.layers.core.activation.Activation object at 0x7f0a622f8050> False\n",
            "<keras.layers.core.activation.Activation object at 0x7f0a62310090> False\n",
            "<keras.layers.core.activation.Activation object at 0x7f0a6235f3d0> False\n",
            "<keras.layers.normalization.batch_normalization.BatchNormalization object at 0x7f0a75523150> False\n",
            "<keras.layers.core.activation.Activation object at 0x7f0a622ca090> False\n",
            "<keras.layers.merge.Concatenate object at 0x7f0a622be0d0> False\n",
            "<keras.layers.merge.Concatenate object at 0x7f0a7556c4d0> False\n",
            "<keras.layers.core.activation.Activation object at 0x7f0a6229bd90> False\n",
            "<keras.layers.merge.Concatenate object at 0x7f0a6229b950> False\n",
            "<keras.layers.convolutional.Conv2D object at 0x7f0a62285890> False\n",
            "<keras.layers.normalization.batch_normalization.BatchNormalization object at 0x7f0a6225f0d0> False\n",
            "<keras.layers.core.activation.Activation object at 0x7f0a62254110> False\n",
            "<keras.layers.convolutional.Conv2D object at 0x7f0a622a8210> False\n",
            "<keras.layers.convolutional.Conv2D object at 0x7f0a62250f50> False\n",
            "<keras.layers.normalization.batch_normalization.BatchNormalization object at 0x7f0a622a8490> False\n",
            "<keras.layers.normalization.batch_normalization.BatchNormalization object at 0x7f0a6226ee50> False\n",
            "<keras.layers.core.activation.Activation object at 0x7f0a622b3890> False\n",
            "<keras.layers.core.activation.Activation object at 0x7f0a6226ead0> False\n",
            "<keras.layers.convolutional.Conv2D object at 0x7f0a6236f350> False\n",
            "<keras.layers.convolutional.Conv2D object at 0x7f0a6224a390> False\n",
            "<keras.layers.convolutional.Conv2D object at 0x7f0a62254490> False\n",
            "<keras.layers.convolutional.Conv2D object at 0x7f0a62205e50> False\n",
            "<keras.layers.pooling.AveragePooling2D object at 0x7f0a6220f990> False\n",
            "<keras.layers.convolutional.Conv2D object at 0x7f0a6229bb10> False\n",
            "<keras.layers.normalization.batch_normalization.BatchNormalization object at 0x7f0a622bcc50> False\n",
            "<keras.layers.normalization.batch_normalization.BatchNormalization object at 0x7f0a622461d0> False\n",
            "<keras.layers.normalization.batch_normalization.BatchNormalization object at 0x7f0a622504d0> False\n",
            "<keras.layers.normalization.batch_normalization.BatchNormalization object at 0x7f0a62205d50> False\n",
            "<keras.layers.convolutional.Conv2D object at 0x7f0a622153d0> False\n",
            "<keras.layers.normalization.batch_normalization.BatchNormalization object at 0x7f0a6229bcd0> False\n",
            "<keras.layers.core.activation.Activation object at 0x7f0a62240e90> False\n",
            "<keras.layers.core.activation.Activation object at 0x7f0a622aced0> False\n",
            "<keras.layers.core.activation.Activation object at 0x7f0a62205990> False\n",
            "<keras.layers.core.activation.Activation object at 0x7f0a6220f150> False\n",
            "<keras.layers.normalization.batch_normalization.BatchNormalization object at 0x7f0a75523d90> False\n",
            "<keras.layers.core.activation.Activation object at 0x7f0a622a80d0> False\n",
            "<keras.layers.merge.Concatenate object at 0x7f0a622bc950> False\n",
            "<keras.layers.merge.Concatenate object at 0x7f0a6226ed10> False\n",
            "<keras.layers.core.activation.Activation object at 0x7f0a6222a650> False\n",
            "<keras.layers.merge.Concatenate object at 0x7f0a62225550> False\n",
            "<keras.layers.core.flatten.Flatten object at 0x7f0a621c6410> True\n",
            "<keras.layers.core.dropout.Dropout object at 0x7f0a621c6fd0> True\n",
            "<keras.layers.core.dense.Dense object at 0x7f0a621c61d0> True\n",
            "<keras.layers.core.dense.Dense object at 0x7f0a624a9d50> True\n",
            "<keras.layers.core.dense.Dense object at 0x7f0a621c7490> True\n"
          ]
        }
      ],
      "source": [
        "for layer in model.layers:\n",
        "    print(layer, layer.trainable)"
      ]
    },
    {
      "cell_type": "code",
      "execution_count": 97,
      "metadata": {
        "id": "5DvAqW4w7Rff"
      },
      "outputs": [],
      "source": [
        "from keras.optimizer_v1 import Adam\n",
        "EPOCHS=30\n",
        "model.compile(loss=\"categorical_crossentropy\", optimizer=\"Adam\",metrics=[\"accuracy\"])"
      ]
    },
    {
      "cell_type": "code",
      "execution_count": 98,
      "metadata": {
        "id": "bfCHVHka8Lej"
      },
      "outputs": [],
      "source": [
        "es=EarlyStopping(monitor='val_accuracy', mode='max', verbose=1, patience=20)\n"
      ]
    },
    {
      "cell_type": "code",
      "execution_count": 99,
      "metadata": {
        "id": "k-M2Tni48WMV"
      },
      "outputs": [],
      "source": [
        "modelcheck = ModelCheckpoint('/content/gdrive/MyDrive/best_model.h5', monitor='val_accuracy', mode='max', save_best_only=True)\n"
      ]
    },
    {
      "cell_type": "code",
      "execution_count": 100,
      "metadata": {
        "colab": {
          "base_uri": "https://localhost:8080/"
        },
        "id": "0tIuuEap8lBg",
        "outputId": "39b5d6e0-0d23-4de9-8438-2e202f327848"
      },
      "outputs": [
        {
          "output_type": "stream",
          "name": "stderr",
          "text": [
            "/usr/local/lib/python3.7/dist-packages/ipykernel_launcher.py:1: UserWarning: `Model.fit_generator` is deprecated and will be removed in a future version. Please use `Model.fit`, which supports generators.\n",
            "  \"\"\"Entry point for launching an IPython kernel.\n"
          ]
        },
        {
          "output_type": "stream",
          "name": "stdout",
          "text": [
            "Epoch 1/30\n",
            "32/32 [==============================] - 21s 504ms/step - loss: 9.7308 - accuracy: 0.3129 - val_loss: 3.6202 - val_accuracy: 0.3846\n",
            "Epoch 2/30\n",
            "32/32 [==============================] - 14s 435ms/step - loss: 1.6302 - accuracy: 0.6237 - val_loss: 0.8751 - val_accuracy: 0.7740\n",
            "Epoch 3/30\n",
            "32/32 [==============================] - 14s 448ms/step - loss: 1.0525 - accuracy: 0.7072 - val_loss: 0.9598 - val_accuracy: 0.7692\n",
            "Epoch 4/30\n",
            "32/32 [==============================] - 14s 441ms/step - loss: 0.6236 - accuracy: 0.8008 - val_loss: 0.4212 - val_accuracy: 0.8558\n",
            "Epoch 5/30\n",
            "32/32 [==============================] - 14s 449ms/step - loss: 0.3850 - accuracy: 0.8732 - val_loss: 0.3002 - val_accuracy: 0.8942\n",
            "Epoch 6/30\n",
            "32/32 [==============================] - 14s 444ms/step - loss: 0.3966 - accuracy: 0.8672 - val_loss: 0.2766 - val_accuracy: 0.9135\n",
            "Epoch 7/30\n",
            "32/32 [==============================] - 14s 437ms/step - loss: 0.3009 - accuracy: 0.8984 - val_loss: 0.3391 - val_accuracy: 0.9038\n",
            "Epoch 8/30\n",
            "32/32 [==============================] - 14s 431ms/step - loss: 0.3437 - accuracy: 0.8974 - val_loss: 0.3530 - val_accuracy: 0.9087\n",
            "Epoch 9/30\n",
            "32/32 [==============================] - 14s 431ms/step - loss: 0.8531 - accuracy: 0.8008 - val_loss: 1.2306 - val_accuracy: 0.6538\n",
            "Epoch 10/30\n",
            "32/32 [==============================] - 14s 432ms/step - loss: 0.9952 - accuracy: 0.7767 - val_loss: 0.4118 - val_accuracy: 0.8942\n",
            "Epoch 11/30\n",
            "32/32 [==============================] - 14s 432ms/step - loss: 0.4041 - accuracy: 0.8732 - val_loss: 0.3135 - val_accuracy: 0.9087\n",
            "Epoch 12/30\n",
            "32/32 [==============================] - 14s 434ms/step - loss: 0.3739 - accuracy: 0.8803 - val_loss: 0.2406 - val_accuracy: 0.8990\n",
            "Epoch 13/30\n",
            "32/32 [==============================] - 14s 434ms/step - loss: 0.2607 - accuracy: 0.9125 - val_loss: 0.3431 - val_accuracy: 0.8846\n",
            "Epoch 14/30\n",
            "32/32 [==============================] - 14s 430ms/step - loss: 0.2560 - accuracy: 0.9185 - val_loss: 0.2779 - val_accuracy: 0.8990\n",
            "Epoch 15/30\n",
            "32/32 [==============================] - 14s 431ms/step - loss: 0.2314 - accuracy: 0.9225 - val_loss: 0.3021 - val_accuracy: 0.8942\n",
            "Epoch 16/30\n",
            "32/32 [==============================] - 14s 434ms/step - loss: 0.2132 - accuracy: 0.9306 - val_loss: 0.4028 - val_accuracy: 0.8798\n",
            "Epoch 17/30\n",
            "32/32 [==============================] - 14s 434ms/step - loss: 0.2228 - accuracy: 0.9266 - val_loss: 0.1812 - val_accuracy: 0.9375\n",
            "Epoch 18/30\n",
            "32/32 [==============================] - 14s 430ms/step - loss: 0.1385 - accuracy: 0.9537 - val_loss: 0.2397 - val_accuracy: 0.9423\n",
            "Epoch 19/30\n",
            "32/32 [==============================] - 14s 430ms/step - loss: 0.1131 - accuracy: 0.9658 - val_loss: 0.1740 - val_accuracy: 0.9423\n",
            "Epoch 20/30\n",
            "32/32 [==============================] - 14s 432ms/step - loss: 0.1162 - accuracy: 0.9588 - val_loss: 0.1497 - val_accuracy: 0.9567\n",
            "Epoch 21/30\n",
            "32/32 [==============================] - 14s 431ms/step - loss: 0.1972 - accuracy: 0.9366 - val_loss: 0.3569 - val_accuracy: 0.8846\n",
            "Epoch 22/30\n",
            "32/32 [==============================] - 14s 429ms/step - loss: 0.2488 - accuracy: 0.9185 - val_loss: 0.2730 - val_accuracy: 0.9135\n",
            "Epoch 23/30\n",
            "32/32 [==============================] - 14s 428ms/step - loss: 0.3071 - accuracy: 0.9105 - val_loss: 0.2226 - val_accuracy: 0.9231\n",
            "Epoch 24/30\n",
            "32/32 [==============================] - 14s 428ms/step - loss: 0.1784 - accuracy: 0.9467 - val_loss: 0.1730 - val_accuracy: 0.9471\n",
            "Epoch 25/30\n",
            "32/32 [==============================] - 14s 429ms/step - loss: 0.1539 - accuracy: 0.9477 - val_loss: 0.2275 - val_accuracy: 0.9087\n",
            "Epoch 26/30\n",
            "32/32 [==============================] - 14s 427ms/step - loss: 0.1196 - accuracy: 0.9658 - val_loss: 0.1781 - val_accuracy: 0.9375\n",
            "Epoch 27/30\n",
            "32/32 [==============================] - 14s 447ms/step - loss: 0.1312 - accuracy: 0.9567 - val_loss: 0.1286 - val_accuracy: 0.9567\n",
            "Epoch 28/30\n",
            "32/32 [==============================] - 14s 431ms/step - loss: 0.1474 - accuracy: 0.9507 - val_loss: 0.3027 - val_accuracy: 0.9038\n",
            "Epoch 29/30\n",
            "32/32 [==============================] - 14s 429ms/step - loss: 0.1383 - accuracy: 0.9547 - val_loss: 0.1270 - val_accuracy: 0.9471\n",
            "Epoch 30/30\n",
            "32/32 [==============================] - 14s 431ms/step - loss: 0.1466 - accuracy: 0.9527 - val_loss: 0.2223 - val_accuracy: 0.9279\n"
          ]
        }
      ],
      "source": [
        "history = model.fit_generator(train_generator,validation_data=val_generator,epochs=EPOCHS,verbose=1,callbacks=[es])\n"
      ]
    },
    {
      "cell_type": "code",
      "execution_count": 101,
      "metadata": {
        "colab": {
          "base_uri": "https://localhost:8080/",
          "height": 513
        },
        "id": "QUPxHwHC3Gy_",
        "outputId": "5f72e6bb-444c-4871-bb69-d2ffc0cc6aa8"
      },
      "outputs": [
        {
          "output_type": "display_data",
          "data": {
            "text/plain": [
              "<Figure size 576x576 with 2 Axes>"
            ],
            "image/png": "[encoded data removed]"
          },
          "metadata": {
            "needs_background": "light"
          }
        }
      ],
      "source": [
        "import matplotlib.pylab as plt\n",
        "import numpy as np\n",
        "\n",
        "acc = history.history['accuracy']\n",
        "val_acc = history.history['val_accuracy']\n",
        "\n",
        "loss = history.history['loss']\n",
        "val_loss = history.history['val_loss']\n",
        " \n",
        "epochs_range = range(EPOCHS)\n",
        "\n",
        "plt.figure(figsize=(8, 8))\n",
        "plt.subplot(1, 2, 1)\n",
        "plt.plot(epochs_range, acc, label='Training Accuracy')\n",
        "plt.plot(epochs_range, val_acc, label='Validation Accuracy')\n",
        "plt.legend(loc='lower right')\n",
        "plt.title('Training and Validation Accuracy')\n",
        "plt.ylabel(\"Accuracy (training and validation)\")\n",
        "plt.xlabel(\"Training Steps\")\n",
        "\n",
        "plt.subplot(1, 2, 2)\n",
        "plt.plot(epochs_range, loss, label='Training Loss')\n",
        "plt.plot(epochs_range, val_loss, label='Validation Loss')\n",
        "plt.legend(loc='upper right')\n",
        "plt.title('Training and Validation Loss')\n",
        "plt.ylabel(\"Loss (training and validation)\")\n",
        "plt.xlabel(\"Training Steps\")\n",
        "plt.show()"
      ]
    },
    {
      "cell_type": "code",
      "source": [
        "model.save(\"/content/drive/MyDrive/VGG16/DenseNetFT.h5\")"
      ],
      "metadata": {
        "id": "GnTzEzRQUWYs"
      },
      "execution_count": 102,
      "outputs": []
    },
    {
      "cell_type": "code",
      "execution_count": 103,
      "metadata": {
        "colab": {
          "base_uri": "https://localhost:8080/"
        },
        "id": "u_RfHXZxtwdA",
        "outputId": "7c5895cf-1f8c-4dd5-f913-bf180a27a76a"
      },
      "outputs": [
        {
          "output_type": "stream",
          "name": "stdout",
          "text": [
            "7/7 [==============================] - 1s 90ms/step - loss: 0.2223 - accuracy: 0.9279\n",
            "Validation: accuracy = 0.927885  ;  loss_v = 0.222256\n"
          ]
        }
      ],
      "source": [
        "loss_val, acc_val = model.evaluate(val_generator, verbose=1)\n",
        "print(\"Validation: accuracy = %f  ;  loss_v = %f\" % (acc_val, loss_val))"
      ]
    },
    {
      "cell_type": "code",
      "execution_count": 104,
      "metadata": {
        "colab": {
          "base_uri": "https://localhost:8080/"
        },
        "id": "vq0CIw86XlPp",
        "outputId": "7b8f3bcd-d798-4789-b88a-39f474ac0870"
      },
      "outputs": [
        {
          "output_type": "stream",
          "name": "stdout",
          "text": [
            "7/7 [==============================] - 2s 208ms/step - loss: 0.4161 - accuracy: 0.9107\n",
            "Test: accuracy = 0.910714  ;  loss_v = 0.416139\n"
          ]
        }
      ],
      "source": [
        "loss_test, acc_test = model.evaluate(test_generator, verbose=1)\n",
        "print(\"Test: accuracy = %f  ;  loss_v = %f\" % (acc_test, loss_test))"
      ]
    },
    {
      "cell_type": "code",
      "source": [
        "loss_train, acc_train = model.evaluate(train_generator, verbose=1)\n",
        "print(\"Train: accuracy = %f  ;  loss_v = %f\" % (acc_train, loss_train))"
      ],
      "metadata": {
        "colab": {
          "base_uri": "https://localhost:8080/"
        },
        "id": "ZpsjO_dk8rcw",
        "outputId": "08ed582e-466d-4b62-d9d1-2335a094b9d1"
      },
      "execution_count": 105,
      "outputs": [
        {
          "output_type": "stream",
          "name": "stdout",
          "text": [
            "32/32 [==============================] - 13s 406ms/step - loss: 0.1552 - accuracy: 0.9457\n",
            "Train: accuracy = 0.945674  ;  loss_v = 0.155232\n"
          ]
        }
      ]
    },
    {
      "cell_type": "markdown",
      "metadata": {
        "id": "mkMSSAGKtxEl"
      },
      "source": [
        "# **Image prediction**"
      ]
    },
    {
      "cell_type": "markdown",
      "source": [
        "**Test Data Confusion matrix & Classification report**"
      ],
      "metadata": {
        "id": "5eJa2Z2HDdNj"
      }
    },
    {
      "cell_type": "code",
      "source": [
        "from sklearn.metrics import classification_report, confusion_matrix\n",
        "import seaborn as sns\n",
        "from keras.models import load_model\n",
        "%matplotlib inline\n",
        "import matplotlib.pyplot as plt"
      ],
      "metadata": {
        "id": "CwxSSjeu8ggQ"
      },
      "execution_count": 106,
      "outputs": []
    },
    {
      "cell_type": "code",
      "execution_count": 107,
      "metadata": {
        "colab": {
          "base_uri": "https://localhost:8080/"
        },
        "id": "_q8p42AOl7EX",
        "outputId": "7f7bf757-e590-47bf-cc39-b4a662280dbd"
      },
      "outputs": [
        {
          "output_type": "stream",
          "name": "stderr",
          "text": [
            "/usr/local/lib/python3.7/dist-packages/ipykernel_launcher.py:1: UserWarning: `Model.predict_generator` is deprecated and will be removed in a future version. Please use `Model.predict`, which supports generators.\n",
            "  \"\"\"Entry point for launching an IPython kernel.\n"
          ]
        }
      ],
      "source": [
        "pred_test = model.predict_generator(test_generator)\n",
        "pred_test = np.argmax(pred_test, axis=1)\n"
      ]
    },
    {
      "cell_type": "code",
      "source": [
        "#Confution Matrix and Classification Report\n",
        "print('Classification Report')\n",
        "target_names = ['BLB','BPH','Brown_Spot','False_Smut','Healthy_Plant','Hispa','Neck_Blast','Sheath_Blight_Rot','Stemborer']\n",
        "print(classification_report(test_generator.classes, pred_test, target_names=target_names))"
      ],
      "metadata": {
        "colab": {
          "base_uri": "https://localhost:8080/"
        },
        "id": "LGyh5k8RAnO7",
        "outputId": "ff21cd43-a09b-49b9-f38d-3250dcab1073"
      },
      "execution_count": 108,
      "outputs": [
        {
          "output_type": "stream",
          "name": "stdout",
          "text": [
            "Classification Report\n",
            "                   precision    recall  f1-score   support\n",
            "\n",
            "              BLB       0.95      0.82      0.88        22\n",
            "              BPH       0.92      0.92      0.92        12\n",
            "       Brown_Spot       0.77      0.94      0.85        18\n",
            "       False_Smut       1.00      1.00      1.00        15\n",
            "    Healthy_Plant       1.00      0.89      0.94        36\n",
            "            Hispa       1.00      0.75      0.86        12\n",
            "       Neck_Blast       0.98      0.95      0.97        44\n",
            "Sheath_Blight_Rot       0.76      0.94      0.84        34\n",
            "        Stemborer       0.93      0.90      0.92        31\n",
            "\n",
            "         accuracy                           0.91       224\n",
            "        macro avg       0.92      0.90      0.91       224\n",
            "     weighted avg       0.92      0.91      0.91       224\n",
            "\n"
          ]
        }
      ]
    },
    {
      "cell_type": "code",
      "execution_count": 109,
      "metadata": {
        "colab": {
          "base_uri": "https://localhost:8080/"
        },
        "id": "K3qJWXJLmFbu",
        "outputId": "a8c14409-642a-48a0-b730-053d40a7aa40"
      },
      "outputs": [
        {
          "output_type": "execute_result",
          "data": {
            "text/plain": [
              "array([[18,  0,  2,  0,  0,  0,  0,  2,  0],\n",
              "       [ 0, 11,  1,  0,  0,  0,  0,  0,  0],\n",
              "       [ 0,  1, 17,  0,  0,  0,  0,  0,  0],\n",
              "       [ 0,  0,  0, 15,  0,  0,  0,  0,  0],\n",
              "       [ 0,  0,  0,  0, 32,  0,  0,  4,  0],\n",
              "       [ 0,  0,  1,  0,  0,  9,  0,  2,  0],\n",
              "       [ 0,  0,  0,  0,  0,  0, 42,  0,  2],\n",
              "       [ 1,  0,  1,  0,  0,  0,  0, 32,  0],\n",
              "       [ 0,  0,  0,  0,  0,  0,  1,  2, 28]])"
            ]
          },
          "metadata": {},
          "execution_count": 109
        }
      ],
      "source": [
        "test_confusion_matrix = confusion_matrix(test_generator.classes, pred_test)\n",
        "test_confusion_matrix"
      ]
    },
    {
      "cell_type": "code",
      "execution_count": 110,
      "metadata": {
        "id": "PItsZbQBmYMa"
      },
      "outputs": [],
      "source": [
        "test_sum=np.array([0, 0, 0, 0, 0, 0, 0, 0, 0])\n",
        "for i in range(9):\n",
        "    for j in range(9):\n",
        "        test_sum[i]=test_sum[i]+test_confusion_matrix[i][j]"
      ]
    },
    {
      "cell_type": "code",
      "execution_count": 111,
      "metadata": {
        "id": "mvqrdpfOmirm"
      },
      "outputs": [],
      "source": [
        "test_confusion_matrix_percentage = test_confusion_matrix.astype(np.float32)"
      ]
    },
    {
      "cell_type": "code",
      "execution_count": 112,
      "metadata": {
        "id": "7SLZZsX3myNI"
      },
      "outputs": [],
      "source": [
        "for i in range(9):\n",
        "    for j in range(9):\n",
        "        test_confusion_matrix_percentage[i][j]=test_confusion_matrix_percentage[i][j]/test_sum[i]"
      ]
    },
    {
      "cell_type": "code",
      "execution_count": 113,
      "metadata": {
        "colab": {
          "base_uri": "https://localhost:8080/",
          "height": 634
        },
        "id": "_4wLVZ7Thidi",
        "outputId": "26f4f5da-f64d-4807-efb2-7bd32e642b63"
      },
      "outputs": [
        {
          "output_type": "display_data",
          "data": {
            "text/plain": [
              "<Figure size 1080x720 with 2 Axes>"
            ],
            "image/png": "[encoded data removed]"
          },
          "metadata": {
            "needs_background": "light"
          }
        }
      ],
      "source": [
        "plt.figure(figsize = (15,10))\n",
        "ax = sns.heatmap(test_confusion_matrix_percentage, annot=True, \n",
        "            fmt='.1%', cmap='Blues')\n",
        "\n",
        "ax.set_title('Test data');\n",
        "ax.set_xlabel('\\nPredicted')\n",
        "ax.set_ylabel('Actual');\n",
        "\n",
        "## Ticket labels - List must be in alphabetical order\n",
        "ax.xaxis.set_ticklabels(['BLB','BPH','Brown_Spot','False_Smut','Healthy_Plant','Hispa','Neck_Blast','Sheath_Blight_Rot','Stemborer'])\n",
        "ax.yaxis.set_ticklabels(['BLB','BPH','Brown_Spot','False_Smut','Healthy_Plant','Hispa','Neck_Blast','Sheath_Blight_Rot','Stemborer'])\n",
        "\n",
        "## Display the visualization of the Confusion Matrix.\n",
        "plt.show()"
      ]
    },
    {
      "cell_type": "code",
      "source": [
        ""
      ],
      "metadata": {
        "id": "rRgls7JFDa9Q"
      },
      "execution_count": 113,
      "outputs": []
    },
    {
      "cell_type": "markdown",
      "source": [
        "**Validation Data Confusion matrix and classification report**"
      ],
      "metadata": {
        "id": "Qt_xUemWGLM-"
      }
    },
    {
      "cell_type": "code",
      "source": [
        "pred_val = model.predict_generator(val_generator)\n",
        "pred_val = np.argmax(pred_val, axis=1)"
      ],
      "metadata": {
        "id": "zJfADqIfGUSJ",
        "colab": {
          "base_uri": "https://localhost:8080/"
        },
        "outputId": "9bab3a4b-6a01-42e2-e63f-48b8e4c6ad15"
      },
      "execution_count": 114,
      "outputs": [
        {
          "output_type": "stream",
          "name": "stderr",
          "text": [
            "/usr/local/lib/python3.7/dist-packages/ipykernel_launcher.py:1: UserWarning: `Model.predict_generator` is deprecated and will be removed in a future version. Please use `Model.predict`, which supports generators.\n",
            "  \"\"\"Entry point for launching an IPython kernel.\n"
          ]
        }
      ]
    },
    {
      "cell_type": "code",
      "source": [
        "#Confution Matrix and Classification Report\n",
        "print('Classification Report')\n",
        "target_names = ['BLB','BPH','Brown_Spot','False_Smut','Healthy_Plant','Hispa','Neck_Blast','Sheath_Blight_Rot','Stemborer']\n",
        "print(classification_report(val_generator.classes, pred_val, target_names=target_names))"
      ],
      "metadata": {
        "id": "ACMC920gGe68",
        "colab": {
          "base_uri": "https://localhost:8080/"
        },
        "outputId": "2a6c720f-cbd9-4ebe-f74f-97cb15fd2edb"
      },
      "execution_count": 115,
      "outputs": [
        {
          "output_type": "stream",
          "name": "stdout",
          "text": [
            "Classification Report\n",
            "                   precision    recall  f1-score   support\n",
            "\n",
            "              BLB       0.89      0.80      0.84        20\n",
            "              BPH       1.00      1.00      1.00        10\n",
            "       Brown_Spot       0.67      1.00      0.80        16\n",
            "       False_Smut       1.00      0.54      0.70        13\n",
            "    Healthy_Plant       0.97      0.97      0.97        35\n",
            "            Hispa       1.00      0.90      0.95        10\n",
            "       Neck_Blast       1.00      0.98      0.99        42\n",
            "Sheath_Blight_Rot       0.91      0.94      0.92        32\n",
            "        Stemborer       0.97      1.00      0.98        30\n",
            "\n",
            "         accuracy                           0.93       208\n",
            "        macro avg       0.93      0.90      0.91       208\n",
            "     weighted avg       0.94      0.93      0.93       208\n",
            "\n"
          ]
        }
      ]
    },
    {
      "cell_type": "code",
      "source": [
        "val_confusion_matrix = confusion_matrix(val_generator.classes, pred_val)\n",
        "val_confusion_matrix"
      ],
      "metadata": {
        "id": "ZWA4k_YMGvOf",
        "colab": {
          "base_uri": "https://localhost:8080/"
        },
        "outputId": "fe83e02a-971d-40ca-a0cb-6c389584069f"
      },
      "execution_count": 116,
      "outputs": [
        {
          "output_type": "execute_result",
          "data": {
            "text/plain": [
              "array([[16,  0,  3,  0,  0,  0,  0,  1,  0],\n",
              "       [ 0, 10,  0,  0,  0,  0,  0,  0,  0],\n",
              "       [ 0,  0, 16,  0,  0,  0,  0,  0,  0],\n",
              "       [ 1,  0,  3,  7,  1,  0,  0,  1,  0],\n",
              "       [ 0,  0,  0,  0, 34,  0,  0,  1,  0],\n",
              "       [ 0,  0,  1,  0,  0,  9,  0,  0,  0],\n",
              "       [ 0,  0,  0,  0,  0,  0, 41,  0,  1],\n",
              "       [ 1,  0,  1,  0,  0,  0,  0, 30,  0],\n",
              "       [ 0,  0,  0,  0,  0,  0,  0,  0, 30]])"
            ]
          },
          "metadata": {},
          "execution_count": 116
        }
      ]
    },
    {
      "cell_type": "code",
      "source": [
        "val_sum=np.array([0, 0, 0, 0, 0, 0, 0, 0, 0])\n",
        "for i in range(9):\n",
        "    for j in range(9):\n",
        "        val_sum[i]=val_sum[i]+val_confusion_matrix[i][j]\n",
        "        \n",
        "        \n",
        "val_confusion_matrix_percentage = val_confusion_matrix.astype(np.float32)\n",
        "\n",
        "for i in range(9):\n",
        "    for j in range(9):\n",
        "        val_confusion_matrix_percentage[i][j]=val_confusion_matrix_percentage[i][j]/val_sum[i]\n"
      ],
      "metadata": {
        "id": "v--UyUt4G6xV"
      },
      "execution_count": 117,
      "outputs": []
    },
    {
      "cell_type": "code",
      "execution_count": 118,
      "metadata": {
        "colab": {
          "base_uri": "https://localhost:8080/",
          "height": 634
        },
        "outputId": "b25f7742-fd45-497c-a6e0-e2f5a84c8815",
        "id": "XPAFBU5kHYgV"
      },
      "outputs": [
        {
          "output_type": "display_data",
          "data": {
            "text/plain": [
              "<Figure size 1080x720 with 2 Axes>"
            ],
            "image/png": "[encoded data removed]"
          },
          "metadata": {
            "needs_background": "light"
          }
        }
      ],
      "source": [
        "plt.figure(figsize = (15,10))\n",
        "ax = sns.heatmap(val_confusion_matrix_percentage, annot=True, \n",
        "            fmt='.1%', cmap='Blues')\n",
        "\n",
        "ax.set_title('Validation data');\n",
        "ax.set_xlabel('\\nPredicted')\n",
        "ax.set_ylabel('Actual');\n",
        "\n",
        "## Ticket labels - List must be in alphabetical order\n",
        "ax.xaxis.set_ticklabels(['BLB','BPH','Brown_Spot','False_Smut','Healthy_Plant','Hispa','Neck_Blast','Sheath_Blight_Rot','Stemborer'])\n",
        "ax.yaxis.set_ticklabels(['BLB','BPH','Brown_Spot','False_Smut','Healthy_Plant','Hispa','Neck_Blast','Sheath_Blight_Rot','Stemborer'])\n",
        "\n",
        "## Display the visualization of the Confusion Matrix.\n",
        "plt.show()"
      ]
    },
    {
      "cell_type": "markdown",
      "source": [
        "**Train Data Confusion matrix & Classification report**\n"
      ],
      "metadata": {
        "id": "aVn8jPGkD5Y0"
      }
    },
    {
      "cell_type": "code",
      "source": [
        "train_dir = '/content/drive/MyDrive/buetpaper/train'"
      ],
      "metadata": {
        "id": "yDXkZXeW-ajq"
      },
      "execution_count": 119,
      "outputs": []
    },
    {
      "cell_type": "code",
      "source": [
        "train_datagen = ImageDataGenerator(\n",
        "    rescale=1./255\n",
        ")\n",
        "train_generator = train_datagen.flow_from_directory(train_dir,\n",
        "                                                    target_size=(224, 224),\n",
        "                                                    batch_size=32,\n",
        "                                                    color_mode=\"rgb\",\n",
        "                                                    shuffle=False,\n",
        "                                                    class_mode='categorical',\n",
        "                                                   )"
      ],
      "metadata": {
        "colab": {
          "base_uri": "https://localhost:8080/"
        },
        "id": "ZvjUM4B86Rmp",
        "outputId": "2fae965b-3e1d-41da-d289-ffcafcdfddc1"
      },
      "execution_count": 120,
      "outputs": [
        {
          "output_type": "stream",
          "name": "stdout",
          "text": [
            "Found 994 images belonging to 9 classes.\n"
          ]
        }
      ]
    },
    {
      "cell_type": "code",
      "source": [
        "model=load_model('/content/drive/MyDrive/VGG16/DenseNetFT.h5')"
      ],
      "metadata": {
        "id": "2NLW8VgsUk6w"
      },
      "execution_count": 121,
      "outputs": []
    },
    {
      "cell_type": "code",
      "execution_count": 122,
      "metadata": {
        "colab": {
          "base_uri": "https://localhost:8080/"
        },
        "outputId": "d23a1b27-2243-45ca-b91b-d9b1bd6ba113",
        "id": "Q_0e_UcbEO8e"
      },
      "outputs": [
        {
          "output_type": "stream",
          "name": "stderr",
          "text": [
            "/usr/local/lib/python3.7/dist-packages/ipykernel_launcher.py:1: UserWarning: `Model.predict_generator` is deprecated and will be removed in a future version. Please use `Model.predict`, which supports generators.\n",
            "  \"\"\"Entry point for launching an IPython kernel.\n"
          ]
        }
      ],
      "source": [
        "pred_train = model.predict_generator(train_generator)\n",
        "pred_train = np.argmax(pred_train, axis=1)"
      ]
    },
    {
      "cell_type": "code",
      "source": [
        "#Confution Matrix and Classification Report\n",
        "print('Classification Report')\n",
        "target_names = ['BLB','BPH','Brown_Spot','False_Smut','Healthy_Plant','Hispa','Neck_Blast','Sheath_Blight_Rot','Stemborer']\n",
        "print(classification_report(train_generator.classes, pred_train, target_names=target_names))"
      ],
      "metadata": {
        "colab": {
          "base_uri": "https://localhost:8080/"
        },
        "outputId": "35007a8c-d58a-427b-8d51-cab0fae2be34",
        "id": "EvcoH5rbETkp"
      },
      "execution_count": 123,
      "outputs": [
        {
          "output_type": "stream",
          "name": "stdout",
          "text": [
            "Classification Report\n",
            "                   precision    recall  f1-score   support\n",
            "\n",
            "              BLB       0.98      1.00      0.99        96\n",
            "              BPH       1.00      0.98      0.99        49\n",
            "       Brown_Spot       0.91      1.00      0.95        77\n",
            "       False_Smut       1.00      0.97      0.98        65\n",
            "    Healthy_Plant       0.99      0.96      0.98       163\n",
            "            Hispa       1.00      0.92      0.96        51\n",
            "       Neck_Blast       1.00      1.00      1.00       200\n",
            "Sheath_Blight_Rot       0.98      1.00      0.99       153\n",
            "        Stemborer       1.00      0.99      0.99       140\n",
            "\n",
            "         accuracy                           0.98       994\n",
            "        macro avg       0.98      0.98      0.98       994\n",
            "     weighted avg       0.99      0.98      0.98       994\n",
            "\n"
          ]
        }
      ]
    },
    {
      "cell_type": "code",
      "execution_count": 124,
      "metadata": {
        "colab": {
          "base_uri": "https://localhost:8080/"
        },
        "outputId": "2d2880e6-78e2-4e10-ce9a-afb5b82a3c9b",
        "id": "zxYWskJXEXQr"
      },
      "outputs": [
        {
          "output_type": "execute_result",
          "data": {
            "text/plain": [
              "array([[ 96,   0,   0,   0,   0,   0,   0,   0,   0],\n",
              "       [  0,  48,   1,   0,   0,   0,   0,   0,   0],\n",
              "       [  0,   0,  77,   0,   0,   0,   0,   0,   0],\n",
              "       [  0,   0,   2,  63,   0,   0,   0,   0,   0],\n",
              "       [  1,   0,   3,   0, 157,   0,   0,   2,   0],\n",
              "       [  1,   0,   2,   0,   1,  47,   0,   0,   0],\n",
              "       [  0,   0,   0,   0,   0,   0, 200,   0,   0],\n",
              "       [  0,   0,   0,   0,   0,   0,   0, 153,   0],\n",
              "       [  0,   0,   0,   0,   0,   0,   1,   1, 138]])"
            ]
          },
          "metadata": {},
          "execution_count": 124
        }
      ],
      "source": [
        "train_confusion_matrix = confusion_matrix(train_generator.classes, pred_train)\n",
        "train_confusion_matrix"
      ]
    },
    {
      "cell_type": "code",
      "execution_count": 125,
      "metadata": {
        "id": "f37ui8ZHEbZ9"
      },
      "outputs": [],
      "source": [
        "train_sum=np.array([0, 0, 0, 0, 0, 0, 0, 0, 0])\n",
        "for i in range(9):\n",
        "    for j in range(9):\n",
        "        train_sum[i]=train_sum[i]+train_confusion_matrix[i][j]\n",
        "        \n",
        "        \n",
        "train_confusion_matrix_percentage = train_confusion_matrix.astype(np.float32)\n",
        "\n",
        "for i in range(9):\n",
        "    for j in range(9):\n",
        "        train_confusion_matrix_percentage[i][j]=train_confusion_matrix_percentage[i][j]/train_sum[i]\n"
      ]
    },
    {
      "cell_type": "code",
      "source": [
        "train_sum"
      ],
      "metadata": {
        "colab": {
          "base_uri": "https://localhost:8080/"
        },
        "id": "Pcbcwd_wbS3W",
        "outputId": "4b83921c-ec47-4aa4-f0db-e3bf34f03908"
      },
      "execution_count": 126,
      "outputs": [
        {
          "output_type": "execute_result",
          "data": {
            "text/plain": [
              "array([ 96,  49,  77,  65, 163,  51, 200, 153, 140])"
            ]
          },
          "metadata": {},
          "execution_count": 126
        }
      ]
    },
    {
      "cell_type": "code",
      "execution_count": 127,
      "metadata": {
        "colab": {
          "base_uri": "https://localhost:8080/",
          "height": 634
        },
        "outputId": "b3faa924-a2c7-487e-c800-be1c413c1704",
        "id": "6uzcNylzEwZx"
      },
      "outputs": [
        {
          "output_type": "display_data",
          "data": {
            "text/plain": [
              "<Figure size 1080x720 with 2 Axes>"
            ],
            "image/png": "[encoded data removed]"
          },
          "metadata": {
            "needs_background": "light"
          }
        }
      ],
      "source": [
        "plt.figure(figsize = (15,10))\n",
        "ax = sns.heatmap(train_confusion_matrix_percentage, annot=True, \n",
        "            fmt='.1%', cmap='Blues')\n",
        "\n",
        "ax.set_title('Train data');\n",
        "ax.set_xlabel('\\nPredicted')\n",
        "ax.set_ylabel('Actual');\n",
        "\n",
        "## Ticket labels - List must be in alphabetical order\n",
        "ax.xaxis.set_ticklabels(['BLB','BPH','Brown_Spot','False_Smut','Healthy_Plant','Hispa','Neck_Blast','Sheath_Blight_Rot','Stemborer'])\n",
        "ax.yaxis.set_ticklabels(['BLB','BPH','Brown_Spot','False_Smut','Healthy_Plant','Hispa','Neck_Blast','Sheath_Blight_Rot','Stemborer'])\n",
        "\n",
        "## Display the visualization of the Confusion Matrix.\n",
        "plt.show()"
      ]
    }
  ],
  "metadata": {
    "accelerator": "GPU",
    "colab": {
      "collapsed_sections": [],
      "name": "rice_buetInceptionv3.ipynb",
      "provenance": []
    },
    "kernelspec": {
      "display_name": "Python 3",
      "name": "python3"
    },
    "language_info": {
      "name": "python"
    }
  },
  "nbformat": 4,
  "nbformat_minor": 0
}