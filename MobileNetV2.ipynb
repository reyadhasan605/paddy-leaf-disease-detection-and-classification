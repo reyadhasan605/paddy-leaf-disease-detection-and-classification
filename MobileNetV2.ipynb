{
  "cells": [
    {
      "cell_type": "code",
      "execution_count": 128,
      "metadata": {
        "colab": {
          "base_uri": "https://localhost:8080/"
        },
        "id": "CGvEcUVcJTkY",
        "outputId": "5f6031f3-70ef-4a65-d831-944499a9df32"
      },
      "outputs": [
        {
          "output_type": "stream",
          "name": "stdout",
          "text": [
            "Drive already mounted at /content/drive; to attempt to forcibly remount, call drive.mount(\"/content/drive\", force_remount=True).\n"
          ]
        }
      ],
      "source": [
        "from google.colab import drive\n",
        "drive.mount('/content/drive')"
      ]
    },
    {
      "cell_type": "code",
      "execution_count": 129,
      "metadata": {
        "id": "5bg816KJMBUp"
      },
      "outputs": [],
      "source": [
        "train_dir = '/content/drive/MyDrive/buetpaper/train'\n",
        "validation_dir = '/content/drive/MyDrive/buetpaper/val'\n",
        "test_dir='/content/drive/MyDrive/buetpaper/test'"
      ]
    },
    {
      "cell_type": "code",
      "execution_count": 130,
      "metadata": {
        "id": "c0f3b60e"
      },
      "outputs": [],
      "source": [
        "import os\n",
        "trainclass_subset=os.listdir(train_dir)\n",
        "validclass_subset =os.listdir(validation_dir)"
      ]
    },
    {
      "cell_type": "code",
      "execution_count": 131,
      "metadata": {
        "colab": {
          "base_uri": "https://localhost:8080/"
        },
        "id": "2fad78de",
        "outputId": "7524c15e-9672-4352-d0ac-1e275aafcb07"
      },
      "outputs": [
        {
          "output_type": "execute_result",
          "data": {
            "text/plain": [
              "['Stemborer',\n",
              " 'Brown_Spot',\n",
              " 'Neck_Blast',\n",
              " 'BLB',\n",
              " 'Healthy_Plant',\n",
              " 'Hispa',\n",
              " 'BPH',\n",
              " 'Sheath_Blight_Rot',\n",
              " 'False_Smut']"
            ]
          },
          "metadata": {},
          "execution_count": 131
        }
      ],
      "source": [
        "trainclass_subset"
      ]
    },
    {
      "cell_type": "code",
      "execution_count": 132,
      "metadata": {
        "colab": {
          "base_uri": "https://localhost:8080/"
        },
        "id": "Im7Lk0kb3ro3",
        "outputId": "c240d93b-3a25-4061-d978-2d49efbc418b"
      },
      "outputs": [
        {
          "output_type": "execute_result",
          "data": {
            "text/plain": [
              "['False_Smut',\n",
              " 'BLB',\n",
              " 'Sheath_Blight_Rot',\n",
              " 'Neck_Blast',\n",
              " 'BPH',\n",
              " 'Stemborer',\n",
              " 'Healthy_Plant',\n",
              " 'Brown_Spot',\n",
              " 'Hispa']"
            ]
          },
          "metadata": {},
          "execution_count": 132
        }
      ],
      "source": [
        "validclass_subset"
      ]
    },
    {
      "cell_type": "code",
      "execution_count": 133,
      "metadata": {
        "id": "hZW1jJKe26y7"
      },
      "outputs": [],
      "source": [
        "import tensorflow \n",
        "from tensorflow.keras.layers import Input, Lambda, Dense, Flatten,Dropout\n",
        "from tensorflow.keras.models import Model\n",
        "from tensorflow.keras.applications.mobilenet_v2 import MobileNetV2, preprocess_input\n",
        "from tensorflow.keras.preprocessing import image\n",
        "from tensorflow.keras.preprocessing.image import ImageDataGenerator\n",
        "from tensorflow.keras.models import Sequential\n",
        "import numpy as np\n",
        "import pandas as pd\n",
        "import os\n",
        "import cv2\n",
        "import matplotlib.pyplot as plt"
      ]
    },
    {
      "cell_type": "markdown",
      "metadata": {
        "id": "W4WPfH9YcF2u"
      },
      "source": [
        "# **Train Data with simple CNN**"
      ]
    },
    {
      "cell_type": "code",
      "execution_count": 134,
      "metadata": {
        "id": "3iV4LDaUdyow"
      },
      "outputs": [],
      "source": [
        "#image preprocessing\n",
        "train_datagen = ImageDataGenerator(\n",
        "    rescale=1./255,\n",
        "    zoom_range=0.15,\n",
        "    width_shift_range=0.2,\n",
        "    height_shift_range=0.2,\n",
        "    shear_range=0.15\n",
        ")\n",
        "\n",
        "val_datagen = ImageDataGenerator(\n",
        "    rescale=1./255\n",
        ")\n",
        "test_datagen = ImageDataGenerator(\n",
        "    rescale=1./255,\n",
        ")\n"
      ]
    },
    {
      "cell_type": "code",
      "execution_count": 135,
      "metadata": {
        "colab": {
          "base_uri": "https://localhost:8080/"
        },
        "id": "QZ0dMCQZelKr",
        "outputId": "4a42b8f8-c1ce-4c68-b44b-ffcba0857f87"
      },
      "outputs": [
        {
          "output_type": "stream",
          "name": "stdout",
          "text": [
            "Found 994 images belonging to 9 classes.\n",
            "Found 208 images belonging to 9 classes.\n",
            "Found 224 images belonging to 9 classes.\n"
          ]
        }
      ],
      "source": [
        "# load train data\n",
        "train_generator = train_datagen.flow_from_directory(train_dir,\n",
        "                                                    target_size=(224, 224),\n",
        "                                                    batch_size=32,\n",
        "                                                    color_mode=\"rgb\",\n",
        "                                                    shuffle=True,\n",
        "                                                    class_mode='categorical',\n",
        "                                                   )\n",
        "#load val data\n",
        "val_generator = val_datagen.flow_from_directory(validation_dir,\n",
        "                                                  target_size=(224,224),\n",
        "                                                  batch_size=32,\n",
        "                                                  color_mode=\"rgb\",\n",
        "                                                  shuffle=False,\n",
        "                                                  class_mode='categorical',\n",
        "                                                  )\n",
        "# load test data\n",
        "test_generator = test_datagen.flow_from_directory(test_dir,\n",
        "                                                  target_size=(224,224),\n",
        "                                                  batch_size=32,\n",
        "                                                  color_mode=\"rgb\",\n",
        "                                                  shuffle=False,\n",
        "                                                  class_mode='categorical',\n",
        "                                                  )"
      ]
    },
    {
      "cell_type": "markdown",
      "metadata": {
        "id": "BJc8cat7Ytys"
      },
      "source": [
        "# **Train with InceptionV3**"
      ]
    },
    {
      "cell_type": "code",
      "execution_count": 136,
      "metadata": {
        "id": "15ZjMRnXTtwO"
      },
      "outputs": [],
      "source": [
        "import tensorflow as tf\n",
        "from tensorflow.keras.models import Sequential, Model\n",
        "from tensorflow.keras.layers import Conv2D, Flatten, MaxPooling2D, Dense, Input, Reshape, Concatenate, GlobalAveragePooling2D, BatchNormalization, Dropout, Activation, GlobalMaxPooling2D\n",
        "from tensorflow.keras.utils import Sequence\n",
        "from keras.callbacks import ModelCheckpoint, EarlyStopping\n"
      ]
    },
    {
      "cell_type": "code",
      "execution_count": 137,
      "metadata": {
        "id": "n63Ax4Y8QTT9",
        "colab": {
          "base_uri": "https://localhost:8080/"
        },
        "outputId": "3b472e2d-c233-414e-f0bb-84f8e8028a13"
      },
      "outputs": [
        {
          "output_type": "stream",
          "name": "stdout",
          "text": [
            "Downloading data from https://storage.googleapis.com/tensorflow/keras-applications/mobilenet_v2/mobilenet_v2_weights_tf_dim_ordering_tf_kernels_1.0_224_no_top.h5\n",
            "9412608/9406464 [==============================] - 0s 0us/step\n",
            "9420800/9406464 [==============================] - 0s 0us/step\n"
          ]
        }
      ],
      "source": [
        "inception = MobileNetV2(input_shape=(224, 224, 3), include_top=False, weights=\"imagenet\")\n"
      ]
    },
    {
      "cell_type": "code",
      "execution_count": 138,
      "metadata": {
        "id": "7Ww9aQPIQwTY"
      },
      "outputs": [],
      "source": [
        "#do not train the pre-trained layers of VGG-19\n",
        "for layer in inception.layers:\n",
        "    layer.trainable = False"
      ]
    },
    {
      "cell_type": "code",
      "execution_count": 139,
      "metadata": {
        "id": "avweld0f5LHG"
      },
      "outputs": [],
      "source": [
        "x = inception.output\n",
        "x = Flatten()(x)\n",
        "x = Dropout(0.3)(x)\n",
        "x = Dense(256, activation='relu', name='fc1')(x)\n",
        "x = Dense(128, activation='relu', name='fc2')(x)\n",
        "output_layer = Dense(9, activation='softmax', name='softmax')(x)\n",
        "model = Model(inputs=inception.input, outputs=output_layer)\n",
        "   "
      ]
    },
    {
      "cell_type": "code",
      "execution_count": 140,
      "metadata": {
        "colab": {
          "base_uri": "https://localhost:8080/"
        },
        "id": "czdwsj6o5WcF",
        "outputId": "b15630df-8f9d-481b-c67f-1cd16f105280"
      },
      "outputs": [
        {
          "output_type": "stream",
          "name": "stdout",
          "text": [
            "Model: \"model_2\"\n",
            "__________________________________________________________________________________________________\n",
            " Layer (type)                   Output Shape         Param #     Connected to                     \n",
            "==================================================================================================\n",
            " input_3 (InputLayer)           [(None, 224, 224, 3  0           []                               \n",
            "                                )]                                                                \n",
            "                                                                                                  \n",
            " Conv1 (Conv2D)                 (None, 112, 112, 32  864         ['input_3[0][0]']                \n",
            "                                )                                                                 \n",
            "                                                                                                  \n",
            " bn_Conv1 (BatchNormalization)  (None, 112, 112, 32  128         ['Conv1[0][0]']                  \n",
            "                                )                                                                 \n",
            "                                                                                                  \n",
            " Conv1_relu (ReLU)              (None, 112, 112, 32  0           ['bn_Conv1[0][0]']               \n",
            "                                )                                                                 \n",
            "                                                                                                  \n",
            " expanded_conv_depthwise (Depth  (None, 112, 112, 32  288        ['Conv1_relu[0][0]']             \n",
            " wiseConv2D)                    )                                                                 \n",
            "                                                                                                  \n",
            " expanded_conv_depthwise_BN (Ba  (None, 112, 112, 32  128        ['expanded_conv_depthwise[0][0]']\n",
            " tchNormalization)              )                                                                 \n",
            "                                                                                                  \n",
            " expanded_conv_depthwise_relu (  (None, 112, 112, 32  0          ['expanded_conv_depthwise_BN[0][0\n",
            " ReLU)                          )                                ]']                              \n",
            "                                                                                                  \n",
            " expanded_conv_project (Conv2D)  (None, 112, 112, 16  512        ['expanded_conv_depthwise_relu[0]\n",
            "                                )                                [0]']                            \n",
            "                                                                                                  \n",
            " expanded_conv_project_BN (Batc  (None, 112, 112, 16  64         ['expanded_conv_project[0][0]']  \n",
            " hNormalization)                )                                                                 \n",
            "                                                                                                  \n",
            " block_1_expand (Conv2D)        (None, 112, 112, 96  1536        ['expanded_conv_project_BN[0][0]'\n",
            "                                )                                ]                                \n",
            "                                                                                                  \n",
            " block_1_expand_BN (BatchNormal  (None, 112, 112, 96  384        ['block_1_expand[0][0]']         \n",
            " ization)                       )                                                                 \n",
            "                                                                                                  \n",
            " block_1_expand_relu (ReLU)     (None, 112, 112, 96  0           ['block_1_expand_BN[0][0]']      \n",
            "                                )                                                                 \n",
            "                                                                                                  \n",
            " block_1_pad (ZeroPadding2D)    (None, 113, 113, 96  0           ['block_1_expand_relu[0][0]']    \n",
            "                                )                                                                 \n",
            "                                                                                                  \n",
            " block_1_depthwise (DepthwiseCo  (None, 56, 56, 96)  864         ['block_1_pad[0][0]']            \n",
            " nv2D)                                                                                            \n",
            "                                                                                                  \n",
            " block_1_depthwise_BN (BatchNor  (None, 56, 56, 96)  384         ['block_1_depthwise[0][0]']      \n",
            " malization)                                                                                      \n",
            "                                                                                                  \n",
            " block_1_depthwise_relu (ReLU)  (None, 56, 56, 96)   0           ['block_1_depthwise_BN[0][0]']   \n",
            "                                                                                                  \n",
            " block_1_project (Conv2D)       (None, 56, 56, 24)   2304        ['block_1_depthwise_relu[0][0]'] \n",
            "                                                                                                  \n",
            " block_1_project_BN (BatchNorma  (None, 56, 56, 24)  96          ['block_1_project[0][0]']        \n",
            " lization)                                                                                        \n",
            "                                                                                                  \n",
            " block_2_expand (Conv2D)        (None, 56, 56, 144)  3456        ['block_1_project_BN[0][0]']     \n",
            "                                                                                                  \n",
            " block_2_expand_BN (BatchNormal  (None, 56, 56, 144)  576        ['block_2_expand[0][0]']         \n",
            " ization)                                                                                         \n",
            "                                                                                                  \n",
            " block_2_expand_relu (ReLU)     (None, 56, 56, 144)  0           ['block_2_expand_BN[0][0]']      \n",
            "                                                                                                  \n",
            " block_2_depthwise (DepthwiseCo  (None, 56, 56, 144)  1296       ['block_2_expand_relu[0][0]']    \n",
            " nv2D)                                                                                            \n",
            "                                                                                                  \n",
            " block_2_depthwise_BN (BatchNor  (None, 56, 56, 144)  576        ['block_2_depthwise[0][0]']      \n",
            " malization)                                                                                      \n",
            "                                                                                                  \n",
            " block_2_depthwise_relu (ReLU)  (None, 56, 56, 144)  0           ['block_2_depthwise_BN[0][0]']   \n",
            "                                                                                                  \n",
            " block_2_project (Conv2D)       (None, 56, 56, 24)   3456        ['block_2_depthwise_relu[0][0]'] \n",
            "                                                                                                  \n",
            " block_2_project_BN (BatchNorma  (None, 56, 56, 24)  96          ['block_2_project[0][0]']        \n",
            " lization)                                                                                        \n",
            "                                                                                                  \n",
            " block_2_add (Add)              (None, 56, 56, 24)   0           ['block_1_project_BN[0][0]',     \n",
            "                                                                  'block_2_project_BN[0][0]']     \n",
            "                                                                                                  \n",
            " block_3_expand (Conv2D)        (None, 56, 56, 144)  3456        ['block_2_add[0][0]']            \n",
            "                                                                                                  \n",
            " block_3_expand_BN (BatchNormal  (None, 56, 56, 144)  576        ['block_3_expand[0][0]']         \n",
            " ization)                                                                                         \n",
            "                                                                                                  \n",
            " block_3_expand_relu (ReLU)     (None, 56, 56, 144)  0           ['block_3_expand_BN[0][0]']      \n",
            "                                                                                                  \n",
            " block_3_pad (ZeroPadding2D)    (None, 57, 57, 144)  0           ['block_3_expand_relu[0][0]']    \n",
            "                                                                                                  \n",
            " block_3_depthwise (DepthwiseCo  (None, 28, 28, 144)  1296       ['block_3_pad[0][0]']            \n",
            " nv2D)                                                                                            \n",
            "                                                                                                  \n",
            " block_3_depthwise_BN (BatchNor  (None, 28, 28, 144)  576        ['block_3_depthwise[0][0]']      \n",
            " malization)                                                                                      \n",
            "                                                                                                  \n",
            " block_3_depthwise_relu (ReLU)  (None, 28, 28, 144)  0           ['block_3_depthwise_BN[0][0]']   \n",
            "                                                                                                  \n",
            " block_3_project (Conv2D)       (None, 28, 28, 32)   4608        ['block_3_depthwise_relu[0][0]'] \n",
            "                                                                                                  \n",
            " block_3_project_BN (BatchNorma  (None, 28, 28, 32)  128         ['block_3_project[0][0]']        \n",
            " lization)                                                                                        \n",
            "                                                                                                  \n",
            " block_4_expand (Conv2D)        (None, 28, 28, 192)  6144        ['block_3_project_BN[0][0]']     \n",
            "                                                                                                  \n",
            " block_4_expand_BN (BatchNormal  (None, 28, 28, 192)  768        ['block_4_expand[0][0]']         \n",
            " ization)                                                                                         \n",
            "                                                                                                  \n",
            " block_4_expand_relu (ReLU)     (None, 28, 28, 192)  0           ['block_4_expand_BN[0][0]']      \n",
            "                                                                                                  \n",
            " block_4_depthwise (DepthwiseCo  (None, 28, 28, 192)  1728       ['block_4_expand_relu[0][0]']    \n",
            " nv2D)                                                                                            \n",
            "                                                                                                  \n",
            " block_4_depthwise_BN (BatchNor  (None, 28, 28, 192)  768        ['block_4_depthwise[0][0]']      \n",
            " malization)                                                                                      \n",
            "                                                                                                  \n",
            " block_4_depthwise_relu (ReLU)  (None, 28, 28, 192)  0           ['block_4_depthwise_BN[0][0]']   \n",
            "                                                                                                  \n",
            " block_4_project (Conv2D)       (None, 28, 28, 32)   6144        ['block_4_depthwise_relu[0][0]'] \n",
            "                                                                                                  \n",
            " block_4_project_BN (BatchNorma  (None, 28, 28, 32)  128         ['block_4_project[0][0]']        \n",
            " lization)                                                                                        \n",
            "                                                                                                  \n",
            " block_4_add (Add)              (None, 28, 28, 32)   0           ['block_3_project_BN[0][0]',     \n",
            "                                                                  'block_4_project_BN[0][0]']     \n",
            "                                                                                                  \n",
            " block_5_expand (Conv2D)        (None, 28, 28, 192)  6144        ['block_4_add[0][0]']            \n",
            "                                                                                                  \n",
            " block_5_expand_BN (BatchNormal  (None, 28, 28, 192)  768        ['block_5_expand[0][0]']         \n",
            " ization)                                                                                         \n",
            "                                                                                                  \n",
            " block_5_expand_relu (ReLU)     (None, 28, 28, 192)  0           ['block_5_expand_BN[0][0]']      \n",
            "                                                                                                  \n",
            " block_5_depthwise (DepthwiseCo  (None, 28, 28, 192)  1728       ['block_5_expand_relu[0][0]']    \n",
            " nv2D)                                                                                            \n",
            "                                                                                                  \n",
            " block_5_depthwise_BN (BatchNor  (None, 28, 28, 192)  768        ['block_5_depthwise[0][0]']      \n",
            " malization)                                                                                      \n",
            "                                                                                                  \n",
            " block_5_depthwise_relu (ReLU)  (None, 28, 28, 192)  0           ['block_5_depthwise_BN[0][0]']   \n",
            "                                                                                                  \n",
            " block_5_project (Conv2D)       (None, 28, 28, 32)   6144        ['block_5_depthwise_relu[0][0]'] \n",
            "                                                                                                  \n",
            " block_5_project_BN (BatchNorma  (None, 28, 28, 32)  128         ['block_5_project[0][0]']        \n",
            " lization)                                                                                        \n",
            "                                                                                                  \n",
            " block_5_add (Add)              (None, 28, 28, 32)   0           ['block_4_add[0][0]',            \n",
            "                                                                  'block_5_project_BN[0][0]']     \n",
            "                                                                                                  \n",
            " block_6_expand (Conv2D)        (None, 28, 28, 192)  6144        ['block_5_add[0][0]']            \n",
            "                                                                                                  \n",
            " block_6_expand_BN (BatchNormal  (None, 28, 28, 192)  768        ['block_6_expand[0][0]']         \n",
            " ization)                                                                                         \n",
            "                                                                                                  \n",
            " block_6_expand_relu (ReLU)     (None, 28, 28, 192)  0           ['block_6_expand_BN[0][0]']      \n",
            "                                                                                                  \n",
            " block_6_pad (ZeroPadding2D)    (None, 29, 29, 192)  0           ['block_6_expand_relu[0][0]']    \n",
            "                                                                                                  \n",
            " block_6_depthwise (DepthwiseCo  (None, 14, 14, 192)  1728       ['block_6_pad[0][0]']            \n",
            " nv2D)                                                                                            \n",
            "                                                                                                  \n",
            " block_6_depthwise_BN (BatchNor  (None, 14, 14, 192)  768        ['block_6_depthwise[0][0]']      \n",
            " malization)                                                                                      \n",
            "                                                                                                  \n",
            " block_6_depthwise_relu (ReLU)  (None, 14, 14, 192)  0           ['block_6_depthwise_BN[0][0]']   \n",
            "                                                                                                  \n",
            " block_6_project (Conv2D)       (None, 14, 14, 64)   12288       ['block_6_depthwise_relu[0][0]'] \n",
            "                                                                                                  \n",
            " block_6_project_BN (BatchNorma  (None, 14, 14, 64)  256         ['block_6_project[0][0]']        \n",
            " lization)                                                                                        \n",
            "                                                                                                  \n",
            " block_7_expand (Conv2D)        (None, 14, 14, 384)  24576       ['block_6_project_BN[0][0]']     \n",
            "                                                                                                  \n",
            " block_7_expand_BN (BatchNormal  (None, 14, 14, 384)  1536       ['block_7_expand[0][0]']         \n",
            " ization)                                                                                         \n",
            "                                                                                                  \n",
            " block_7_expand_relu (ReLU)     (None, 14, 14, 384)  0           ['block_7_expand_BN[0][0]']      \n",
            "                                                                                                  \n",
            " block_7_depthwise (DepthwiseCo  (None, 14, 14, 384)  3456       ['block_7_expand_relu[0][0]']    \n",
            " nv2D)                                                                                            \n",
            "                                                                                                  \n",
            " block_7_depthwise_BN (BatchNor  (None, 14, 14, 384)  1536       ['block_7_depthwise[0][0]']      \n",
            " malization)                                                                                      \n",
            "                                                                                                  \n",
            " block_7_depthwise_relu (ReLU)  (None, 14, 14, 384)  0           ['block_7_depthwise_BN[0][0]']   \n",
            "                                                                                                  \n",
            " block_7_project (Conv2D)       (None, 14, 14, 64)   24576       ['block_7_depthwise_relu[0][0]'] \n",
            "                                                                                                  \n",
            " block_7_project_BN (BatchNorma  (None, 14, 14, 64)  256         ['block_7_project[0][0]']        \n",
            " lization)                                                                                        \n",
            "                                                                                                  \n",
            " block_7_add (Add)              (None, 14, 14, 64)   0           ['block_6_project_BN[0][0]',     \n",
            "                                                                  'block_7_project_BN[0][0]']     \n",
            "                                                                                                  \n",
            " block_8_expand (Conv2D)        (None, 14, 14, 384)  24576       ['block_7_add[0][0]']            \n",
            "                                                                                                  \n",
            " block_8_expand_BN (BatchNormal  (None, 14, 14, 384)  1536       ['block_8_expand[0][0]']         \n",
            " ization)                                                                                         \n",
            "                                                                                                  \n",
            " block_8_expand_relu (ReLU)     (None, 14, 14, 384)  0           ['block_8_expand_BN[0][0]']      \n",
            "                                                                                                  \n",
            " block_8_depthwise (DepthwiseCo  (None, 14, 14, 384)  3456       ['block_8_expand_relu[0][0]']    \n",
            " nv2D)                                                                                            \n",
            "                                                                                                  \n",
            " block_8_depthwise_BN (BatchNor  (None, 14, 14, 384)  1536       ['block_8_depthwise[0][0]']      \n",
            " malization)                                                                                      \n",
            "                                                                                                  \n",
            " block_8_depthwise_relu (ReLU)  (None, 14, 14, 384)  0           ['block_8_depthwise_BN[0][0]']   \n",
            "                                                                                                  \n",
            " block_8_project (Conv2D)       (None, 14, 14, 64)   24576       ['block_8_depthwise_relu[0][0]'] \n",
            "                                                                                                  \n",
            " block_8_project_BN (BatchNorma  (None, 14, 14, 64)  256         ['block_8_project[0][0]']        \n",
            " lization)                                                                                        \n",
            "                                                                                                  \n",
            " block_8_add (Add)              (None, 14, 14, 64)   0           ['block_7_add[0][0]',            \n",
            "                                                                  'block_8_project_BN[0][0]']     \n",
            "                                                                                                  \n",
            " block_9_expand (Conv2D)        (None, 14, 14, 384)  24576       ['block_8_add[0][0]']            \n",
            "                                                                                                  \n",
            " block_9_expand_BN (BatchNormal  (None, 14, 14, 384)  1536       ['block_9_expand[0][0]']         \n",
            " ization)                                                                                         \n",
            "                                                                                                  \n",
            " block_9_expand_relu (ReLU)     (None, 14, 14, 384)  0           ['block_9_expand_BN[0][0]']      \n",
            "                                                                                                  \n",
            " block_9_depthwise (DepthwiseCo  (None, 14, 14, 384)  3456       ['block_9_expand_relu[0][0]']    \n",
            " nv2D)                                                                                            \n",
            "                                                                                                  \n",
            " block_9_depthwise_BN (BatchNor  (None, 14, 14, 384)  1536       ['block_9_depthwise[0][0]']      \n",
            " malization)                                                                                      \n",
            "                                                                                                  \n",
            " block_9_depthwise_relu (ReLU)  (None, 14, 14, 384)  0           ['block_9_depthwise_BN[0][0]']   \n",
            "                                                                                                  \n",
            " block_9_project (Conv2D)       (None, 14, 14, 64)   24576       ['block_9_depthwise_relu[0][0]'] \n",
            "                                                                                                  \n",
            " block_9_project_BN (BatchNorma  (None, 14, 14, 64)  256         ['block_9_project[0][0]']        \n",
            " lization)                                                                                        \n",
            "                                                                                                  \n",
            " block_9_add (Add)              (None, 14, 14, 64)   0           ['block_8_add[0][0]',            \n",
            "                                                                  'block_9_project_BN[0][0]']     \n",
            "                                                                                                  \n",
            " block_10_expand (Conv2D)       (None, 14, 14, 384)  24576       ['block_9_add[0][0]']            \n",
            "                                                                                                  \n",
            " block_10_expand_BN (BatchNorma  (None, 14, 14, 384)  1536       ['block_10_expand[0][0]']        \n",
            " lization)                                                                                        \n",
            "                                                                                                  \n",
            " block_10_expand_relu (ReLU)    (None, 14, 14, 384)  0           ['block_10_expand_BN[0][0]']     \n",
            "                                                                                                  \n",
            " block_10_depthwise (DepthwiseC  (None, 14, 14, 384)  3456       ['block_10_expand_relu[0][0]']   \n",
            " onv2D)                                                                                           \n",
            "                                                                                                  \n",
            " block_10_depthwise_BN (BatchNo  (None, 14, 14, 384)  1536       ['block_10_depthwise[0][0]']     \n",
            " rmalization)                                                                                     \n",
            "                                                                                                  \n",
            " block_10_depthwise_relu (ReLU)  (None, 14, 14, 384)  0          ['block_10_depthwise_BN[0][0]']  \n",
            "                                                                                                  \n",
            " block_10_project (Conv2D)      (None, 14, 14, 96)   36864       ['block_10_depthwise_relu[0][0]']\n",
            "                                                                                                  \n",
            " block_10_project_BN (BatchNorm  (None, 14, 14, 96)  384         ['block_10_project[0][0]']       \n",
            " alization)                                                                                       \n",
            "                                                                                                  \n",
            " block_11_expand (Conv2D)       (None, 14, 14, 576)  55296       ['block_10_project_BN[0][0]']    \n",
            "                                                                                                  \n",
            " block_11_expand_BN (BatchNorma  (None, 14, 14, 576)  2304       ['block_11_expand[0][0]']        \n",
            " lization)                                                                                        \n",
            "                                                                                                  \n",
            " block_11_expand_relu (ReLU)    (None, 14, 14, 576)  0           ['block_11_expand_BN[0][0]']     \n",
            "                                                                                                  \n",
            " block_11_depthwise (DepthwiseC  (None, 14, 14, 576)  5184       ['block_11_expand_relu[0][0]']   \n",
            " onv2D)                                                                                           \n",
            "                                                                                                  \n",
            " block_11_depthwise_BN (BatchNo  (None, 14, 14, 576)  2304       ['block_11_depthwise[0][0]']     \n",
            " rmalization)                                                                                     \n",
            "                                                                                                  \n",
            " block_11_depthwise_relu (ReLU)  (None, 14, 14, 576)  0          ['block_11_depthwise_BN[0][0]']  \n",
            "                                                                                                  \n",
            " block_11_project (Conv2D)      (None, 14, 14, 96)   55296       ['block_11_depthwise_relu[0][0]']\n",
            "                                                                                                  \n",
            " block_11_project_BN (BatchNorm  (None, 14, 14, 96)  384         ['block_11_project[0][0]']       \n",
            " alization)                                                                                       \n",
            "                                                                                                  \n",
            " block_11_add (Add)             (None, 14, 14, 96)   0           ['block_10_project_BN[0][0]',    \n",
            "                                                                  'block_11_project_BN[0][0]']    \n",
            "                                                                                                  \n",
            " block_12_expand (Conv2D)       (None, 14, 14, 576)  55296       ['block_11_add[0][0]']           \n",
            "                                                                                                  \n",
            " block_12_expand_BN (BatchNorma  (None, 14, 14, 576)  2304       ['block_12_expand[0][0]']        \n",
            " lization)                                                                                        \n",
            "                                                                                                  \n",
            " block_12_expand_relu (ReLU)    (None, 14, 14, 576)  0           ['block_12_expand_BN[0][0]']     \n",
            "                                                                                                  \n",
            " block_12_depthwise (DepthwiseC  (None, 14, 14, 576)  5184       ['block_12_expand_relu[0][0]']   \n",
            " onv2D)                                                                                           \n",
            "                                                                                                  \n",
            " block_12_depthwise_BN (BatchNo  (None, 14, 14, 576)  2304       ['block_12_depthwise[0][0]']     \n",
            " rmalization)                                                                                     \n",
            "                                                                                                  \n",
            " block_12_depthwise_relu (ReLU)  (None, 14, 14, 576)  0          ['block_12_depthwise_BN[0][0]']  \n",
            "                                                                                                  \n",
            " block_12_project (Conv2D)      (None, 14, 14, 96)   55296       ['block_12_depthwise_relu[0][0]']\n",
            "                                                                                                  \n",
            " block_12_project_BN (BatchNorm  (None, 14, 14, 96)  384         ['block_12_project[0][0]']       \n",
            " alization)                                                                                       \n",
            "                                                                                                  \n",
            " block_12_add (Add)             (None, 14, 14, 96)   0           ['block_11_add[0][0]',           \n",
            "                                                                  'block_12_project_BN[0][0]']    \n",
            "                                                                                                  \n",
            " block_13_expand (Conv2D)       (None, 14, 14, 576)  55296       ['block_12_add[0][0]']           \n",
            "                                                                                                  \n",
            " block_13_expand_BN (BatchNorma  (None, 14, 14, 576)  2304       ['block_13_expand[0][0]']        \n",
            " lization)                                                                                        \n",
            "                                                                                                  \n",
            " block_13_expand_relu (ReLU)    (None, 14, 14, 576)  0           ['block_13_expand_BN[0][0]']     \n",
            "                                                                                                  \n",
            " block_13_pad (ZeroPadding2D)   (None, 15, 15, 576)  0           ['block_13_expand_relu[0][0]']   \n",
            "                                                                                                  \n",
            " block_13_depthwise (DepthwiseC  (None, 7, 7, 576)   5184        ['block_13_pad[0][0]']           \n",
            " onv2D)                                                                                           \n",
            "                                                                                                  \n",
            " block_13_depthwise_BN (BatchNo  (None, 7, 7, 576)   2304        ['block_13_depthwise[0][0]']     \n",
            " rmalization)                                                                                     \n",
            "                                                                                                  \n",
            " block_13_depthwise_relu (ReLU)  (None, 7, 7, 576)   0           ['block_13_depthwise_BN[0][0]']  \n",
            "                                                                                                  \n",
            " block_13_project (Conv2D)      (None, 7, 7, 160)    92160       ['block_13_depthwise_relu[0][0]']\n",
            "                                                                                                  \n",
            " block_13_project_BN (BatchNorm  (None, 7, 7, 160)   640         ['block_13_project[0][0]']       \n",
            " alization)                                                                                       \n",
            "                                                                                                  \n",
            " block_14_expand (Conv2D)       (None, 7, 7, 960)    153600      ['block_13_project_BN[0][0]']    \n",
            "                                                                                                  \n",
            " block_14_expand_BN (BatchNorma  (None, 7, 7, 960)   3840        ['block_14_expand[0][0]']        \n",
            " lization)                                                                                        \n",
            "                                                                                                  \n",
            " block_14_expand_relu (ReLU)    (None, 7, 7, 960)    0           ['block_14_expand_BN[0][0]']     \n",
            "                                                                                                  \n",
            " block_14_depthwise (DepthwiseC  (None, 7, 7, 960)   8640        ['block_14_expand_relu[0][0]']   \n",
            " onv2D)                                                                                           \n",
            "                                                                                                  \n",
            " block_14_depthwise_BN (BatchNo  (None, 7, 7, 960)   3840        ['block_14_depthwise[0][0]']     \n",
            " rmalization)                                                                                     \n",
            "                                                                                                  \n",
            " block_14_depthwise_relu (ReLU)  (None, 7, 7, 960)   0           ['block_14_depthwise_BN[0][0]']  \n",
            "                                                                                                  \n",
            " block_14_project (Conv2D)      (None, 7, 7, 160)    153600      ['block_14_depthwise_relu[0][0]']\n",
            "                                                                                                  \n",
            " block_14_project_BN (BatchNorm  (None, 7, 7, 160)   640         ['block_14_project[0][0]']       \n",
            " alization)                                                                                       \n",
            "                                                                                                  \n",
            " block_14_add (Add)             (None, 7, 7, 160)    0           ['block_13_project_BN[0][0]',    \n",
            "                                                                  'block_14_project_BN[0][0]']    \n",
            "                                                                                                  \n",
            " block_15_expand (Conv2D)       (None, 7, 7, 960)    153600      ['block_14_add[0][0]']           \n",
            "                                                                                                  \n",
            " block_15_expand_BN (BatchNorma  (None, 7, 7, 960)   3840        ['block_15_expand[0][0]']        \n",
            " lization)                                                                                        \n",
            "                                                                                                  \n",
            " block_15_expand_relu (ReLU)    (None, 7, 7, 960)    0           ['block_15_expand_BN[0][0]']     \n",
            "                                                                                                  \n",
            " block_15_depthwise (DepthwiseC  (None, 7, 7, 960)   8640        ['block_15_expand_relu[0][0]']   \n",
            " onv2D)                                                                                           \n",
            "                                                                                                  \n",
            " block_15_depthwise_BN (BatchNo  (None, 7, 7, 960)   3840        ['block_15_depthwise[0][0]']     \n",
            " rmalization)                                                                                     \n",
            "                                                                                                  \n",
            " block_15_depthwise_relu (ReLU)  (None, 7, 7, 960)   0           ['block_15_depthwise_BN[0][0]']  \n",
            "                                                                                                  \n",
            " block_15_project (Conv2D)      (None, 7, 7, 160)    153600      ['block_15_depthwise_relu[0][0]']\n",
            "                                                                                                  \n",
            " block_15_project_BN (BatchNorm  (None, 7, 7, 160)   640         ['block_15_project[0][0]']       \n",
            " alization)                                                                                       \n",
            "                                                                                                  \n",
            " block_15_add (Add)             (None, 7, 7, 160)    0           ['block_14_add[0][0]',           \n",
            "                                                                  'block_15_project_BN[0][0]']    \n",
            "                                                                                                  \n",
            " block_16_expand (Conv2D)       (None, 7, 7, 960)    153600      ['block_15_add[0][0]']           \n",
            "                                                                                                  \n",
            " block_16_expand_BN (BatchNorma  (None, 7, 7, 960)   3840        ['block_16_expand[0][0]']        \n",
            " lization)                                                                                        \n",
            "                                                                                                  \n",
            " block_16_expand_relu (ReLU)    (None, 7, 7, 960)    0           ['block_16_expand_BN[0][0]']     \n",
            "                                                                                                  \n",
            " block_16_depthwise (DepthwiseC  (None, 7, 7, 960)   8640        ['block_16_expand_relu[0][0]']   \n",
            " onv2D)                                                                                           \n",
            "                                                                                                  \n",
            " block_16_depthwise_BN (BatchNo  (None, 7, 7, 960)   3840        ['block_16_depthwise[0][0]']     \n",
            " rmalization)                                                                                     \n",
            "                                                                                                  \n",
            " block_16_depthwise_relu (ReLU)  (None, 7, 7, 960)   0           ['block_16_depthwise_BN[0][0]']  \n",
            "                                                                                                  \n",
            " block_16_project (Conv2D)      (None, 7, 7, 320)    307200      ['block_16_depthwise_relu[0][0]']\n",
            "                                                                                                  \n",
            " block_16_project_BN (BatchNorm  (None, 7, 7, 320)   1280        ['block_16_project[0][0]']       \n",
            " alization)                                                                                       \n",
            "                                                                                                  \n",
            " Conv_1 (Conv2D)                (None, 7, 7, 1280)   409600      ['block_16_project_BN[0][0]']    \n",
            "                                                                                                  \n",
            " Conv_1_bn (BatchNormalization)  (None, 7, 7, 1280)  5120        ['Conv_1[0][0]']                 \n",
            "                                                                                                  \n",
            " out_relu (ReLU)                (None, 7, 7, 1280)   0           ['Conv_1_bn[0][0]']              \n",
            "                                                                                                  \n",
            " flatten_2 (Flatten)            (None, 62720)        0           ['out_relu[0][0]']               \n",
            "                                                                                                  \n",
            " dropout_2 (Dropout)            (None, 62720)        0           ['flatten_2[0][0]']              \n",
            "                                                                                                  \n",
            " fc1 (Dense)                    (None, 256)          16056576    ['dropout_2[0][0]']              \n",
            "                                                                                                  \n",
            " fc2 (Dense)                    (None, 128)          32896       ['fc1[0][0]']                    \n",
            "                                                                                                  \n",
            " softmax (Dense)                (None, 9)            1161        ['fc2[0][0]']                    \n",
            "                                                                                                  \n",
            "==================================================================================================\n",
            "Total params: 18,348,617\n",
            "Trainable params: 16,090,633\n",
            "Non-trainable params: 2,257,984\n",
            "__________________________________________________________________________________________________\n"
          ]
        }
      ],
      "source": [
        "model.summary()\n"
      ]
    },
    {
      "cell_type": "code",
      "execution_count": 141,
      "metadata": {
        "colab": {
          "base_uri": "https://localhost:8080/"
        },
        "id": "9ZGh-3sZ7PkD",
        "outputId": "0756ef19-b2f3-4393-84e1-5b6125258e16"
      },
      "outputs": [
        {
          "output_type": "stream",
          "name": "stdout",
          "text": [
            "<keras.engine.input_layer.InputLayer object at 0x7f0a759c0310> False\n",
            "<keras.layers.convolutional.Conv2D object at 0x7f07d1627f10> False\n",
            "<keras.layers.normalization.batch_normalization.BatchNormalization object at 0x7f09ab284a50> False\n",
            "<keras.layers.advanced_activations.ReLU object at 0x7f09ab2996d0> False\n",
            "<keras.layers.convolutional.DepthwiseConv2D object at 0x7f07d16a1110> False\n",
            "<keras.layers.normalization.batch_normalization.BatchNormalization object at 0x7f0b14f1da10> False\n",
            "<keras.layers.advanced_activations.ReLU object at 0x7f07d16377d0> False\n",
            "<keras.layers.convolutional.Conv2D object at 0x7f07d15e99d0> False\n",
            "<keras.layers.normalization.batch_normalization.BatchNormalization object at 0x7f07d1637350> False\n",
            "<keras.layers.convolutional.Conv2D object at 0x7f07d1588690> False\n",
            "<keras.layers.normalization.batch_normalization.BatchNormalization object at 0x7f07d15fc850> False\n",
            "<keras.layers.advanced_activations.ReLU object at 0x7f07d1596590> False\n",
            "<keras.layers.convolutional.ZeroPadding2D object at 0x7f07d1596d90> False\n",
            "<keras.layers.convolutional.DepthwiseConv2D object at 0x7f07d15921d0> False\n",
            "<keras.layers.normalization.batch_normalization.BatchNormalization object at 0x7f0a759c1550> False\n",
            "<keras.layers.advanced_activations.ReLU object at 0x7f07d15969d0> False\n",
            "<keras.layers.convolutional.Conv2D object at 0x7f07d15ae950> False\n",
            "<keras.layers.normalization.batch_normalization.BatchNormalization object at 0x7f07d15f0c10> False\n",
            "<keras.layers.convolutional.Conv2D object at 0x7f07d15bc510> False\n",
            "<keras.layers.normalization.batch_normalization.BatchNormalization object at 0x7f07d15bc450> False\n",
            "<keras.layers.advanced_activations.ReLU object at 0x7f07d15aed50> False\n",
            "<keras.layers.convolutional.DepthwiseConv2D object at 0x7f07d15019d0> False\n",
            "<keras.layers.normalization.batch_normalization.BatchNormalization object at 0x7f07d1637710> False\n",
            "<keras.layers.advanced_activations.ReLU object at 0x7f07d1514bd0> False\n",
            "<keras.layers.convolutional.Conv2D object at 0x7f07d150d250> False\n",
            "<keras.layers.normalization.batch_normalization.BatchNormalization object at 0x7f07d1514ad0> False\n",
            "<keras.layers.merge.Add object at 0x7f07d1526ad0> False\n",
            "<keras.layers.convolutional.Conv2D object at 0x7f07d1526e50> False\n",
            "<keras.layers.normalization.batch_normalization.BatchNormalization object at 0x7f07d151dd90> False\n",
            "<keras.layers.advanced_activations.ReLU object at 0x7f07d152b490> False\n",
            "<keras.layers.convolutional.ZeroPadding2D object at 0x7f07d1536350> False\n",
            "<keras.layers.convolutional.DepthwiseConv2D object at 0x7f07d1530bd0> False\n",
            "<keras.layers.normalization.batch_normalization.BatchNormalization object at 0x7f07d1514350> False\n",
            "<keras.layers.advanced_activations.ReLU object at 0x7f07d1505550> False\n",
            "<keras.layers.convolutional.Conv2D object at 0x7f07d15ae4d0> False\n",
            "<keras.layers.normalization.batch_normalization.BatchNormalization object at 0x7f07d1505090> False\n",
            "<keras.layers.convolutional.Conv2D object at 0x7f07d1637690> False\n",
            "<keras.layers.normalization.batch_normalization.BatchNormalization object at 0x7f07d151da10> False\n",
            "<keras.layers.advanced_activations.ReLU object at 0x7f07d15ec890> False\n",
            "<keras.layers.convolutional.DepthwiseConv2D object at 0x7f07d150d610> False\n",
            "<keras.layers.normalization.batch_normalization.BatchNormalization object at 0x7f07d1514a10> False\n",
            "<keras.layers.advanced_activations.ReLU object at 0x7f07d1588250> False\n",
            "<keras.layers.convolutional.Conv2D object at 0x7f07d15a5ed0> False\n",
            "<keras.layers.normalization.batch_normalization.BatchNormalization object at 0x7f07d163b1d0> False\n",
            "<keras.layers.merge.Add object at 0x7f07d14d4290> False\n",
            "<keras.layers.convolutional.Conv2D object at 0x7f07d14d44d0> False\n",
            "<keras.layers.normalization.batch_normalization.BatchNormalization object at 0x7f07d14c2290> False\n",
            "<keras.layers.advanced_activations.ReLU object at 0x7f07d14e8110> False\n",
            "<keras.layers.convolutional.DepthwiseConv2D object at 0x7f07d14e8050> False\n",
            "<keras.layers.normalization.batch_normalization.BatchNormalization object at 0x7f07d14c0cd0> False\n",
            "<keras.layers.advanced_activations.ReLU object at 0x7f07d14c8090> False\n",
            "<keras.layers.convolutional.Conv2D object at 0x7f07d14f5b90> False\n",
            "<keras.layers.normalization.batch_normalization.BatchNormalization object at 0x7f07d14d8510> False\n",
            "<keras.layers.merge.Add object at 0x7f07d148b450> False\n",
            "<keras.layers.convolutional.Conv2D object at 0x7f07d14f9650> False\n",
            "<keras.layers.normalization.batch_normalization.BatchNormalization object at 0x7f07d1485650> False\n",
            "<keras.layers.advanced_activations.ReLU object at 0x7f07d148b710> False\n",
            "<keras.layers.convolutional.ZeroPadding2D object at 0x7f07d148b4d0> False\n",
            "<keras.layers.convolutional.DepthwiseConv2D object at 0x7f07d14a00d0> False\n",
            "<keras.layers.normalization.batch_normalization.BatchNormalization object at 0x7f07d14d8550> False\n",
            "<keras.layers.advanced_activations.ReLU object at 0x7f07d14a64d0> False\n",
            "<keras.layers.convolutional.Conv2D object at 0x7f07d14b5a50> False\n",
            "<keras.layers.normalization.batch_normalization.BatchNormalization object at 0x7f07d1485050> False\n",
            "<keras.layers.convolutional.Conv2D object at 0x7f07d1440c10> False\n",
            "<keras.layers.normalization.batch_normalization.BatchNormalization object at 0x7f07d14b0550> False\n",
            "<keras.layers.advanced_activations.ReLU object at 0x7f07d144b890> False\n",
            "<keras.layers.convolutional.DepthwiseConv2D object at 0x7f07d14bb890> False\n",
            "<keras.layers.normalization.batch_normalization.BatchNormalization object at 0x7f07d14f9e90> False\n",
            "<keras.layers.advanced_activations.ReLU object at 0x7f07d145fa10> False\n",
            "<keras.layers.convolutional.Conv2D object at 0x7f07d145b590> False\n",
            "<keras.layers.normalization.batch_normalization.BatchNormalization object at 0x7f07d1470750> False\n",
            "<keras.layers.merge.Add object at 0x7f07d1470d10> False\n",
            "<keras.layers.convolutional.Conv2D object at 0x7f07d146b490> False\n",
            "<keras.layers.normalization.batch_normalization.BatchNormalization object at 0x7f07d1468ad0> False\n",
            "<keras.layers.advanced_activations.ReLU object at 0x7f07d14b5790> False\n",
            "<keras.layers.convolutional.DepthwiseConv2D object at 0x7f07d14bbc50> False\n",
            "<keras.layers.normalization.batch_normalization.BatchNormalization object at 0x7f07d14562d0> False\n",
            "<keras.layers.advanced_activations.ReLU object at 0x7f07d15e9490> False\n",
            "<keras.layers.convolutional.Conv2D object at 0x7f07d14cc850> False\n",
            "<keras.layers.normalization.batch_normalization.BatchNormalization object at 0x7f07d14cc050> False\n",
            "<keras.layers.merge.Add object at 0x7f07d14c2c90> False\n",
            "<keras.layers.convolutional.Conv2D object at 0x7f07d1596410> False\n",
            "<keras.layers.normalization.batch_normalization.BatchNormalization object at 0x7f07d1513c90> False\n",
            "<keras.layers.advanced_activations.ReLU object at 0x7f07d14c0910> False\n",
            "<keras.layers.convolutional.DepthwiseConv2D object at 0x7f07d1592210> False\n",
            "<keras.layers.normalization.batch_normalization.BatchNormalization object at 0x7f07d14a67d0> False\n",
            "<keras.layers.advanced_activations.ReLU object at 0x7f07d147fb90> False\n",
            "<keras.layers.convolutional.Conv2D object at 0x7f07d140ea90> False\n",
            "<keras.layers.normalization.batch_normalization.BatchNormalization object at 0x7f07d140ecd0> False\n",
            "<keras.layers.merge.Add object at 0x7f07d14028d0> False\n",
            "<keras.layers.convolutional.Conv2D object at 0x7f07d1479110> False\n",
            "<keras.layers.normalization.batch_normalization.BatchNormalization object at 0x7f07d14e6e50> False\n",
            "<keras.layers.advanced_activations.ReLU object at 0x7f07d1413650> False\n",
            "<keras.layers.convolutional.DepthwiseConv2D object at 0x7f07d14133d0> False\n",
            "<keras.layers.normalization.batch_normalization.BatchNormalization object at 0x7f07d14793d0> False\n",
            "<keras.layers.advanced_activations.ReLU object at 0x7f07d142fc50> False\n",
            "<keras.layers.convolutional.Conv2D object at 0x7f07d14254d0> False\n",
            "<keras.layers.normalization.batch_normalization.BatchNormalization object at 0x7f07d1420610> False\n",
            "<keras.layers.convolutional.Conv2D object at 0x7f07d13c9310> False\n",
            "<keras.layers.normalization.batch_normalization.BatchNormalization object at 0x7f07d13c0490> False\n",
            "<keras.layers.advanced_activations.ReLU object at 0x7f07d14132d0> False\n",
            "<keras.layers.convolutional.DepthwiseConv2D object at 0x7f07d13c0210> False\n",
            "<keras.layers.normalization.batch_normalization.BatchNormalization object at 0x7f07d1428a10> False\n",
            "<keras.layers.advanced_activations.ReLU object at 0x7f07d13e9510> False\n",
            "<keras.layers.convolutional.Conv2D object at 0x7f07d13d0710> False\n",
            "<keras.layers.normalization.batch_normalization.BatchNormalization object at 0x7f07d13c2c10> False\n",
            "<keras.layers.merge.Add object at 0x7f07d1382b90> False\n",
            "<keras.layers.convolutional.Conv2D object at 0x7f07d1382a10> False\n",
            "<keras.layers.normalization.batch_normalization.BatchNormalization object at 0x7f07d13d8ad0> False\n",
            "<keras.layers.advanced_activations.ReLU object at 0x7f07d1390290> False\n",
            "<keras.layers.convolutional.DepthwiseConv2D object at 0x7f07d1390390> False\n",
            "<keras.layers.normalization.batch_normalization.BatchNormalization object at 0x7f07d1390890> False\n",
            "<keras.layers.advanced_activations.ReLU object at 0x7f07d1396890> False\n",
            "<keras.layers.convolutional.Conv2D object at 0x7f07d13d4490> False\n",
            "<keras.layers.normalization.batch_normalization.BatchNormalization object at 0x7f07d13c06d0> False\n",
            "<keras.layers.merge.Add object at 0x7f07d13d4dd0> False\n",
            "<keras.layers.convolutional.Conv2D object at 0x7f07d1390750> False\n",
            "<keras.layers.normalization.batch_normalization.BatchNormalization object at 0x7f07d13c97d0> False\n",
            "<keras.layers.advanced_activations.ReLU object at 0x7f07d1413950> False\n",
            "<keras.layers.convolutional.ZeroPadding2D object at 0x7f07d1432650> False\n",
            "<keras.layers.convolutional.DepthwiseConv2D object at 0x7f07d13d0510> False\n",
            "<keras.layers.normalization.batch_normalization.BatchNormalization object at 0x7f07d1390ad0> False\n",
            "<keras.layers.advanced_activations.ReLU object at 0x7f07d14d8c50> False\n",
            "<keras.layers.convolutional.Conv2D object at 0x7f07d14d8a10> False\n",
            "<keras.layers.normalization.batch_normalization.BatchNormalization object at 0x7f07d14e6050> False\n",
            "<keras.layers.convolutional.Conv2D object at 0x7f07d144f7d0> False\n",
            "<keras.layers.normalization.batch_normalization.BatchNormalization object at 0x7f07d149a950> False\n",
            "<keras.layers.advanced_activations.ReLU object at 0x7f07d1468250> False\n",
            "<keras.layers.convolutional.DepthwiseConv2D object at 0x7f07d1432b90> False\n",
            "<keras.layers.normalization.batch_normalization.BatchNormalization object at 0x7f07d13f6dd0> False\n",
            "<keras.layers.advanced_activations.ReLU object at 0x7f07d13b0310> False\n",
            "<keras.layers.convolutional.Conv2D object at 0x7f07d13b0150> False\n",
            "<keras.layers.normalization.batch_normalization.BatchNormalization object at 0x7f07d14bb3d0> False\n",
            "<keras.layers.merge.Add object at 0x7f07d134a550> False\n",
            "<keras.layers.convolutional.Conv2D object at 0x7f07d134a8d0> False\n",
            "<keras.layers.normalization.batch_normalization.BatchNormalization object at 0x7f07d1344990> False\n",
            "<keras.layers.advanced_activations.ReLU object at 0x7f07d1360310> False\n",
            "<keras.layers.convolutional.DepthwiseConv2D object at 0x7f07d134a610> False\n",
            "<keras.layers.normalization.batch_normalization.BatchNormalization object at 0x7f07d13ab590> False\n",
            "<keras.layers.advanced_activations.ReLU object at 0x7f07d1376e90> False\n",
            "<keras.layers.convolutional.Conv2D object at 0x7f07d1376b50> False\n",
            "<keras.layers.normalization.batch_normalization.BatchNormalization object at 0x7f07d1376dd0> False\n",
            "<keras.layers.merge.Add object at 0x7f07d1376c10> False\n",
            "<keras.layers.convolutional.Conv2D object at 0x7f07d1300790> False\n",
            "<keras.layers.normalization.batch_normalization.BatchNormalization object at 0x7f07d1350490> False\n",
            "<keras.layers.advanced_activations.ReLU object at 0x7f07d137c110> False\n",
            "<keras.layers.convolutional.DepthwiseConv2D object at 0x7f07d133f950> False\n",
            "<keras.layers.normalization.batch_normalization.BatchNormalization object at 0x7f07d1360410> False\n",
            "<keras.layers.advanced_activations.ReLU object at 0x7f07d1315650> False\n",
            "<keras.layers.convolutional.Conv2D object at 0x7f07d130d590> False\n",
            "<keras.layers.normalization.batch_normalization.BatchNormalization object at 0x7f07d13323d0> False\n",
            "<keras.layers.convolutional.Conv2D object at 0x7f07d15f7350> False\n",
            "<keras.layers.normalization.batch_normalization.BatchNormalization object at 0x7f07d1332290> False\n",
            "<keras.layers.advanced_activations.ReLU object at 0x7f07d1300050> False\n",
            "<keras.layers.core.flatten.Flatten object at 0x7f07d1492290> True\n",
            "<keras.layers.core.dropout.Dropout object at 0x7f07d14929d0> True\n",
            "<keras.layers.core.dense.Dense object at 0x7f07d1492f10> True\n",
            "<keras.layers.core.dense.Dense object at 0x7f07d1417750> True\n",
            "<keras.layers.core.dense.Dense object at 0x7f07d13daf50> True\n"
          ]
        }
      ],
      "source": [
        "for layer in model.layers:\n",
        "    print(layer, layer.trainable)"
      ]
    },
    {
      "cell_type": "code",
      "execution_count": 142,
      "metadata": {
        "id": "5DvAqW4w7Rff"
      },
      "outputs": [],
      "source": [
        "from keras.optimizer_v1 import Adam\n",
        "EPOCHS=30\n",
        "model.compile(loss=\"categorical_crossentropy\", optimizer=\"Adam\",metrics=[\"accuracy\"])"
      ]
    },
    {
      "cell_type": "code",
      "execution_count": 143,
      "metadata": {
        "id": "bfCHVHka8Lej"
      },
      "outputs": [],
      "source": [
        "es=EarlyStopping(monitor='val_accuracy', mode='max', verbose=1, patience=20)\n"
      ]
    },
    {
      "cell_type": "code",
      "execution_count": 144,
      "metadata": {
        "id": "k-M2Tni48WMV"
      },
      "outputs": [],
      "source": [
        "modelcheck = ModelCheckpoint('/content/gdrive/MyDrive/best_model.h5', monitor='val_accuracy', mode='max', save_best_only=True)\n"
      ]
    },
    {
      "cell_type": "code",
      "execution_count": 145,
      "metadata": {
        "colab": {
          "base_uri": "https://localhost:8080/"
        },
        "id": "0tIuuEap8lBg",
        "outputId": "223ebe3d-1d3d-416a-da6f-956ce9b60dbb"
      },
      "outputs": [
        {
          "output_type": "stream",
          "name": "stderr",
          "text": [
            "/usr/local/lib/python3.7/dist-packages/ipykernel_launcher.py:1: UserWarning: `Model.fit_generator` is deprecated and will be removed in a future version. Please use `Model.fit`, which supports generators.\n",
            "  \"\"\"Entry point for launching an IPython kernel.\n"
          ]
        },
        {
          "output_type": "stream",
          "name": "stdout",
          "text": [
            "Epoch 1/30\n",
            "32/32 [==============================] - 17s 439ms/step - loss: 6.3755 - accuracy: 0.4125 - val_loss: 2.0885 - val_accuracy: 0.6731\n",
            "Epoch 2/30\n",
            "32/32 [==============================] - 13s 413ms/step - loss: 1.3609 - accuracy: 0.7404 - val_loss: 1.0222 - val_accuracy: 0.8077\n",
            "Epoch 3/30\n",
            "32/32 [==============================] - 14s 426ms/step - loss: 0.8693 - accuracy: 0.8239 - val_loss: 0.5522 - val_accuracy: 0.8846\n",
            "Epoch 4/30\n",
            "32/32 [==============================] - 13s 414ms/step - loss: 0.6039 - accuracy: 0.8722 - val_loss: 0.4938 - val_accuracy: 0.8846\n",
            "Epoch 5/30\n",
            "32/32 [==============================] - 13s 413ms/step - loss: 0.3103 - accuracy: 0.9145 - val_loss: 0.6255 - val_accuracy: 0.8750\n",
            "Epoch 6/30\n",
            "32/32 [==============================] - 13s 411ms/step - loss: 0.2167 - accuracy: 0.9406 - val_loss: 0.3025 - val_accuracy: 0.8990\n",
            "Epoch 7/30\n",
            "32/32 [==============================] - 13s 413ms/step - loss: 0.2017 - accuracy: 0.9467 - val_loss: 0.2325 - val_accuracy: 0.9519\n",
            "Epoch 8/30\n",
            "32/32 [==============================] - 13s 414ms/step - loss: 0.2071 - accuracy: 0.9527 - val_loss: 0.3959 - val_accuracy: 0.9279\n",
            "Epoch 9/30\n",
            "32/32 [==============================] - 13s 413ms/step - loss: 0.2181 - accuracy: 0.9406 - val_loss: 0.3951 - val_accuracy: 0.9279\n",
            "Epoch 10/30\n",
            "32/32 [==============================] - 13s 413ms/step - loss: 0.1746 - accuracy: 0.9487 - val_loss: 0.3348 - val_accuracy: 0.9423\n",
            "Epoch 11/30\n",
            "32/32 [==============================] - 13s 412ms/step - loss: 0.2037 - accuracy: 0.9557 - val_loss: 0.3452 - val_accuracy: 0.9279\n",
            "Epoch 12/30\n",
            "32/32 [==============================] - 13s 413ms/step - loss: 0.1496 - accuracy: 0.9547 - val_loss: 0.3636 - val_accuracy: 0.9327\n",
            "Epoch 13/30\n",
            "32/32 [==============================] - 13s 414ms/step - loss: 0.2515 - accuracy: 0.9366 - val_loss: 0.5126 - val_accuracy: 0.9038\n",
            "Epoch 14/30\n",
            "32/32 [==============================] - 13s 414ms/step - loss: 0.1126 - accuracy: 0.9628 - val_loss: 0.4102 - val_accuracy: 0.9135\n",
            "Epoch 15/30\n",
            "32/32 [==============================] - 13s 411ms/step - loss: 0.0953 - accuracy: 0.9708 - val_loss: 0.2792 - val_accuracy: 0.9471\n",
            "Epoch 16/30\n",
            "32/32 [==============================] - 13s 410ms/step - loss: 0.1450 - accuracy: 0.9618 - val_loss: 0.3188 - val_accuracy: 0.9471\n",
            "Epoch 17/30\n",
            "32/32 [==============================] - 13s 411ms/step - loss: 0.2163 - accuracy: 0.9467 - val_loss: 0.3810 - val_accuracy: 0.9423\n",
            "Epoch 18/30\n",
            "32/32 [==============================] - 13s 410ms/step - loss: 0.2379 - accuracy: 0.9416 - val_loss: 0.2906 - val_accuracy: 0.9423\n",
            "Epoch 19/30\n",
            "32/32 [==============================] - 13s 410ms/step - loss: 0.1900 - accuracy: 0.9507 - val_loss: 0.3323 - val_accuracy: 0.9327\n",
            "Epoch 20/30\n",
            "32/32 [==============================] - 13s 411ms/step - loss: 0.1421 - accuracy: 0.9648 - val_loss: 0.3870 - val_accuracy: 0.9279\n",
            "Epoch 21/30\n",
            "32/32 [==============================] - 13s 410ms/step - loss: 0.1457 - accuracy: 0.9628 - val_loss: 0.2652 - val_accuracy: 0.9519\n",
            "Epoch 22/30\n",
            "32/32 [==============================] - 13s 409ms/step - loss: 0.2345 - accuracy: 0.9577 - val_loss: 0.2899 - val_accuracy: 0.9375\n",
            "Epoch 23/30\n",
            "32/32 [==============================] - 13s 409ms/step - loss: 0.2002 - accuracy: 0.9588 - val_loss: 0.4477 - val_accuracy: 0.9471\n",
            "Epoch 24/30\n",
            "32/32 [==============================] - 13s 406ms/step - loss: 0.1759 - accuracy: 0.9618 - val_loss: 0.2012 - val_accuracy: 0.9712\n",
            "Epoch 25/30\n",
            "32/32 [==============================] - 13s 410ms/step - loss: 0.1426 - accuracy: 0.9658 - val_loss: 0.1748 - val_accuracy: 0.9712\n",
            "Epoch 26/30\n",
            "32/32 [==============================] - 14s 438ms/step - loss: 0.1036 - accuracy: 0.9688 - val_loss: 0.2261 - val_accuracy: 0.9519\n",
            "Epoch 27/30\n",
            "32/32 [==============================] - 13s 412ms/step - loss: 0.1492 - accuracy: 0.9577 - val_loss: 0.2695 - val_accuracy: 0.9471\n",
            "Epoch 28/30\n",
            "32/32 [==============================] - 13s 414ms/step - loss: 0.3016 - accuracy: 0.9396 - val_loss: 0.3136 - val_accuracy: 0.9279\n",
            "Epoch 29/30\n",
            "32/32 [==============================] - 13s 412ms/step - loss: 0.1936 - accuracy: 0.9547 - val_loss: 0.4577 - val_accuracy: 0.9327\n",
            "Epoch 30/30\n",
            "32/32 [==============================] - 13s 414ms/step - loss: 0.1848 - accuracy: 0.9648 - val_loss: 0.5848 - val_accuracy: 0.9231\n"
          ]
        }
      ],
      "source": [
        "history = model.fit_generator(train_generator,validation_data=val_generator,epochs=EPOCHS,verbose=1,callbacks=[es])\n"
      ]
    },
    {
      "cell_type": "code",
      "execution_count": 146,
      "metadata": {
        "colab": {
          "base_uri": "https://localhost:8080/",
          "height": 513
        },
        "id": "QUPxHwHC3Gy_",
        "outputId": "55829b16-bfb1-4960-b7a4-59425d5dd9d1"
      },
      "outputs": [
        {
          "output_type": "display_data",
          "data": {
            "text/plain": [
              "<Figure size 576x576 with 2 Axes>"
            ],
            "image/png": "[encoded data removed]"
          },
          "metadata": {
            "needs_background": "light"
          }
        }
      ],
      "source": [
        "import matplotlib.pylab as plt\n",
        "import numpy as np\n",
        "\n",
        "acc = history.history['accuracy']\n",
        "val_acc = history.history['val_accuracy']\n",
        "\n",
        "loss = history.history['loss']\n",
        "val_loss = history.history['val_loss']\n",
        " \n",
        "epochs_range = range(EPOCHS)\n",
        "\n",
        "plt.figure(figsize=(8, 8))\n",
        "plt.subplot(1, 2, 1)\n",
        "plt.plot(epochs_range, acc, label='Training Accuracy')\n",
        "plt.plot(epochs_range, val_acc, label='Validation Accuracy')\n",
        "plt.legend(loc='lower right')\n",
        "plt.title('Training and Validation Accuracy')\n",
        "plt.ylabel(\"Accuracy (training and validation)\")\n",
        "plt.xlabel(\"Training Steps\")\n",
        "\n",
        "plt.subplot(1, 2, 2)\n",
        "plt.plot(epochs_range, loss, label='Training Loss')\n",
        "plt.plot(epochs_range, val_loss, label='Validation Loss')\n",
        "plt.legend(loc='upper right')\n",
        "plt.title('Training and Validation Loss')\n",
        "plt.ylabel(\"Loss (training and validation)\")\n",
        "plt.xlabel(\"Training Steps\")\n",
        "plt.show()"
      ]
    },
    {
      "cell_type": "code",
      "source": [
        "model.save(\"/content/drive/MyDrive/VGG16/DenseNetFT.h5\")"
      ],
      "metadata": {
        "id": "GnTzEzRQUWYs"
      },
      "execution_count": 147,
      "outputs": []
    },
    {
      "cell_type": "code",
      "execution_count": 148,
      "metadata": {
        "colab": {
          "base_uri": "https://localhost:8080/"
        },
        "id": "u_RfHXZxtwdA",
        "outputId": "fa73a991-275a-4848-f124-2bb86a3608f0"
      },
      "outputs": [
        {
          "output_type": "stream",
          "name": "stdout",
          "text": [
            "7/7 [==============================] - 1s 87ms/step - loss: 0.5848 - accuracy: 0.9231\n",
            "Validation: accuracy = 0.923077  ;  loss_v = 0.584815\n"
          ]
        }
      ],
      "source": [
        "loss_val, acc_val = model.evaluate(val_generator, verbose=1)\n",
        "print(\"Validation: accuracy = %f  ;  loss_v = %f\" % (acc_val, loss_val))"
      ]
    },
    {
      "cell_type": "code",
      "execution_count": 149,
      "metadata": {
        "colab": {
          "base_uri": "https://localhost:8080/"
        },
        "id": "vq0CIw86XlPp",
        "outputId": "f4d7c01f-311e-4d5d-9c11-e16cb0470dfa"
      },
      "outputs": [
        {
          "output_type": "stream",
          "name": "stdout",
          "text": [
            "7/7 [==============================] - 1s 101ms/step - loss: 0.5599 - accuracy: 0.9241\n",
            "Test: accuracy = 0.924107  ;  loss_v = 0.559948\n"
          ]
        }
      ],
      "source": [
        "loss_test, acc_test = model.evaluate(test_generator, verbose=1)\n",
        "print(\"Test: accuracy = %f  ;  loss_v = %f\" % (acc_test, loss_test))"
      ]
    },
    {
      "cell_type": "code",
      "source": [
        "loss_train, acc_train = model.evaluate(train_generator, verbose=1)\n",
        "print(\"Train: accuracy = %f  ;  loss_v = %f\" % (acc_train, loss_train))"
      ],
      "metadata": {
        "colab": {
          "base_uri": "https://localhost:8080/"
        },
        "id": "ZpsjO_dk8rcw",
        "outputId": "767be6c1-9317-4708-c7b0-114abfc75480"
      },
      "execution_count": 150,
      "outputs": [
        {
          "output_type": "stream",
          "name": "stdout",
          "text": [
            "32/32 [==============================] - 13s 408ms/step - loss: 0.1577 - accuracy: 0.9608\n",
            "Train: accuracy = 0.960765  ;  loss_v = 0.157744\n"
          ]
        }
      ]
    },
    {
      "cell_type": "markdown",
      "metadata": {
        "id": "mkMSSAGKtxEl"
      },
      "source": [
        "# **Image prediction**"
      ]
    },
    {
      "cell_type": "markdown",
      "source": [
        "**Test Data Confusion matrix & Classification report**"
      ],
      "metadata": {
        "id": "5eJa2Z2HDdNj"
      }
    },
    {
      "cell_type": "code",
      "source": [
        "from sklearn.metrics import classification_report, confusion_matrix\n",
        "import seaborn as sns\n",
        "from keras.models import load_model\n",
        "%matplotlib inline\n",
        "import matplotlib.pyplot as plt"
      ],
      "metadata": {
        "id": "CwxSSjeu8ggQ"
      },
      "execution_count": 151,
      "outputs": []
    },
    {
      "cell_type": "code",
      "execution_count": 152,
      "metadata": {
        "colab": {
          "base_uri": "https://localhost:8080/"
        },
        "id": "_q8p42AOl7EX",
        "outputId": "4d5a04f8-4583-4c5a-a842-246bf2859a72"
      },
      "outputs": [
        {
          "output_type": "stream",
          "name": "stderr",
          "text": [
            "/usr/local/lib/python3.7/dist-packages/ipykernel_launcher.py:1: UserWarning: `Model.predict_generator` is deprecated and will be removed in a future version. Please use `Model.predict`, which supports generators.\n",
            "  \"\"\"Entry point for launching an IPython kernel.\n"
          ]
        }
      ],
      "source": [
        "pred_test = model.predict_generator(test_generator)\n",
        "pred_test = np.argmax(pred_test, axis=1)\n"
      ]
    },
    {
      "cell_type": "code",
      "source": [
        "#Confution Matrix and Classification Report\n",
        "print('Classification Report')\n",
        "target_names = ['BLB','BPH','Brown_Spot','False_Smut','Healthy_Plant','Hispa','Neck_Blast','Sheath_Blight_Rot','Stemborer']\n",
        "print(classification_report(test_generator.classes, pred_test, target_names=target_names))"
      ],
      "metadata": {
        "colab": {
          "base_uri": "https://localhost:8080/"
        },
        "id": "LGyh5k8RAnO7",
        "outputId": "f0c29750-3c3a-4a74-d903-a2e32009d663"
      },
      "execution_count": 153,
      "outputs": [
        {
          "output_type": "stream",
          "name": "stdout",
          "text": [
            "Classification Report\n",
            "                   precision    recall  f1-score   support\n",
            "\n",
            "              BLB       0.91      0.91      0.91        22\n",
            "              BPH       0.79      0.92      0.85        12\n",
            "       Brown_Spot       1.00      0.94      0.97        18\n",
            "       False_Smut       0.93      0.93      0.93        15\n",
            "    Healthy_Plant       0.97      0.94      0.96        36\n",
            "            Hispa       0.92      0.92      0.92        12\n",
            "       Neck_Blast       1.00      0.89      0.94        44\n",
            "Sheath_Blight_Rot       0.97      0.88      0.92        34\n",
            "        Stemborer       0.79      1.00      0.89        31\n",
            "\n",
            "         accuracy                           0.92       224\n",
            "        macro avg       0.92      0.93      0.92       224\n",
            "     weighted avg       0.93      0.92      0.93       224\n",
            "\n"
          ]
        }
      ]
    },
    {
      "cell_type": "code",
      "execution_count": 154,
      "metadata": {
        "colab": {
          "base_uri": "https://localhost:8080/"
        },
        "id": "K3qJWXJLmFbu",
        "outputId": "ae293cd1-106c-4fe4-b25a-6b8a44d6eb38"
      },
      "outputs": [
        {
          "output_type": "execute_result",
          "data": {
            "text/plain": [
              "array([[20,  0,  0,  0,  0,  0,  0,  0,  2],\n",
              "       [ 0, 11,  0,  0,  0,  1,  0,  0,  0],\n",
              "       [ 0,  0, 17,  0,  1,  0,  0,  0,  0],\n",
              "       [ 0,  0,  0, 14,  0,  0,  0,  0,  1],\n",
              "       [ 0,  1,  0,  0, 34,  0,  0,  1,  0],\n",
              "       [ 0,  1,  0,  0,  0, 11,  0,  0,  0],\n",
              "       [ 1,  0,  0,  0,  0,  0, 39,  0,  4],\n",
              "       [ 1,  1,  0,  1,  0,  0,  0, 30,  1],\n",
              "       [ 0,  0,  0,  0,  0,  0,  0,  0, 31]])"
            ]
          },
          "metadata": {},
          "execution_count": 154
        }
      ],
      "source": [
        "test_confusion_matrix = confusion_matrix(test_generator.classes, pred_test)\n",
        "test_confusion_matrix"
      ]
    },
    {
      "cell_type": "code",
      "execution_count": 155,
      "metadata": {
        "id": "PItsZbQBmYMa"
      },
      "outputs": [],
      "source": [
        "test_sum=np.array([0, 0, 0, 0, 0, 0, 0, 0, 0])\n",
        "for i in range(9):\n",
        "    for j in range(9):\n",
        "        test_sum[i]=test_sum[i]+test_confusion_matrix[i][j]"
      ]
    },
    {
      "cell_type": "code",
      "execution_count": 156,
      "metadata": {
        "id": "mvqrdpfOmirm"
      },
      "outputs": [],
      "source": [
        "test_confusion_matrix_percentage = test_confusion_matrix.astype(np.float32)"
      ]
    },
    {
      "cell_type": "code",
      "execution_count": 157,
      "metadata": {
        "id": "7SLZZsX3myNI"
      },
      "outputs": [],
      "source": [
        "for i in range(9):\n",
        "    for j in range(9):\n",
        "        test_confusion_matrix_percentage[i][j]=test_confusion_matrix_percentage[i][j]/test_sum[i]"
      ]
    },
    {
      "cell_type": "code",
      "execution_count": 158,
      "metadata": {
        "colab": {
          "base_uri": "https://localhost:8080/",
          "height": 634
        },
        "id": "_4wLVZ7Thidi",
        "outputId": "8e2822b2-9d6c-4abd-a7ca-c229d258cb8b"
      },
      "outputs": [
        {
          "output_type": "display_data",
          "data": {
            "text/plain": [
              "<Figure size 1080x720 with 2 Axes>"
            ],
            "image/png": "[encoded data removed]"
          },
          "metadata": {
            "needs_background": "light"
          }
        }
      ],
      "source": [
        "plt.figure(figsize = (15,10))\n",
        "ax = sns.heatmap(test_confusion_matrix_percentage, annot=True, \n",
        "            fmt='.1%', cmap='Blues')\n",
        "\n",
        "ax.set_title('Test data');\n",
        "ax.set_xlabel('\\nPredicted')\n",
        "ax.set_ylabel('Actual');\n",
        "\n",
        "## Ticket labels - List must be in alphabetical order\n",
        "ax.xaxis.set_ticklabels(['BLB','BPH','Brown_Spot','False_Smut','Healthy_Plant','Hispa','Neck_Blast','Sheath_Blight_Rot','Stemborer'])\n",
        "ax.yaxis.set_ticklabels(['BLB','BPH','Brown_Spot','False_Smut','Healthy_Plant','Hispa','Neck_Blast','Sheath_Blight_Rot','Stemborer'])\n",
        "\n",
        "## Display the visualization of the Confusion Matrix.\n",
        "plt.show()"
      ]
    },
    {
      "cell_type": "code",
      "source": [
        ""
      ],
      "metadata": {
        "id": "rRgls7JFDa9Q"
      },
      "execution_count": 158,
      "outputs": []
    },
    {
      "cell_type": "markdown",
      "source": [
        "**Validation Data Confusion matrix and classification report**"
      ],
      "metadata": {
        "id": "Qt_xUemWGLM-"
      }
    },
    {
      "cell_type": "code",
      "source": [
        "pred_val = model.predict_generator(val_generator)\n",
        "pred_val = np.argmax(pred_val, axis=1)"
      ],
      "metadata": {
        "id": "zJfADqIfGUSJ",
        "colab": {
          "base_uri": "https://localhost:8080/"
        },
        "outputId": "cda0d592-e863-4b07-f088-e5ca4ce059b7"
      },
      "execution_count": 159,
      "outputs": [
        {
          "output_type": "stream",
          "name": "stderr",
          "text": [
            "/usr/local/lib/python3.7/dist-packages/ipykernel_launcher.py:1: UserWarning: `Model.predict_generator` is deprecated and will be removed in a future version. Please use `Model.predict`, which supports generators.\n",
            "  \"\"\"Entry point for launching an IPython kernel.\n"
          ]
        }
      ]
    },
    {
      "cell_type": "code",
      "source": [
        "#Confution Matrix and Classification Report\n",
        "print('Classification Report')\n",
        "target_names = ['BLB','BPH','Brown_Spot','False_Smut','Healthy_Plant','Hispa','Neck_Blast','Sheath_Blight_Rot','Stemborer']\n",
        "print(classification_report(val_generator.classes, pred_val, target_names=target_names))"
      ],
      "metadata": {
        "id": "ACMC920gGe68",
        "colab": {
          "base_uri": "https://localhost:8080/"
        },
        "outputId": "6953f9e1-5cf8-4cb1-c4e1-e9aede2e132b"
      },
      "execution_count": 160,
      "outputs": [
        {
          "output_type": "stream",
          "name": "stdout",
          "text": [
            "Classification Report\n",
            "                   precision    recall  f1-score   support\n",
            "\n",
            "              BLB       0.86      0.90      0.88        20\n",
            "              BPH       0.91      1.00      0.95        10\n",
            "       Brown_Spot       0.84      1.00      0.91        16\n",
            "       False_Smut       1.00      0.69      0.82        13\n",
            "    Healthy_Plant       0.85      1.00      0.92        35\n",
            "            Hispa       1.00      0.60      0.75        10\n",
            "       Neck_Blast       1.00      0.95      0.98        42\n",
            "Sheath_Blight_Rot       1.00      0.88      0.93        32\n",
            "        Stemborer       0.91      1.00      0.95        30\n",
            "\n",
            "         accuracy                           0.92       208\n",
            "        macro avg       0.93      0.89      0.90       208\n",
            "     weighted avg       0.93      0.92      0.92       208\n",
            "\n"
          ]
        }
      ]
    },
    {
      "cell_type": "code",
      "source": [
        "val_confusion_matrix = confusion_matrix(val_generator.classes, pred_val)\n",
        "val_confusion_matrix"
      ],
      "metadata": {
        "id": "ZWA4k_YMGvOf",
        "colab": {
          "base_uri": "https://localhost:8080/"
        },
        "outputId": "6d0731fa-a38b-4682-e662-211be9d040a9"
      },
      "execution_count": 161,
      "outputs": [
        {
          "output_type": "execute_result",
          "data": {
            "text/plain": [
              "array([[18,  0,  0,  0,  1,  0,  0,  0,  1],\n",
              "       [ 0, 10,  0,  0,  0,  0,  0,  0,  0],\n",
              "       [ 0,  0, 16,  0,  0,  0,  0,  0,  0],\n",
              "       [ 0,  0,  2,  9,  1,  0,  0,  0,  1],\n",
              "       [ 0,  0,  0,  0, 35,  0,  0,  0,  0],\n",
              "       [ 2,  1,  0,  0,  1,  6,  0,  0,  0],\n",
              "       [ 1,  0,  0,  0,  0,  0, 40,  0,  1],\n",
              "       [ 0,  0,  1,  0,  3,  0,  0, 28,  0],\n",
              "       [ 0,  0,  0,  0,  0,  0,  0,  0, 30]])"
            ]
          },
          "metadata": {},
          "execution_count": 161
        }
      ]
    },
    {
      "cell_type": "code",
      "source": [
        "val_sum=np.array([0, 0, 0, 0, 0, 0, 0, 0, 0])\n",
        "for i in range(9):\n",
        "    for j in range(9):\n",
        "        val_sum[i]=val_sum[i]+val_confusion_matrix[i][j]\n",
        "        \n",
        "        \n",
        "val_confusion_matrix_percentage = val_confusion_matrix.astype(np.float32)\n",
        "\n",
        "for i in range(9):\n",
        "    for j in range(9):\n",
        "        val_confusion_matrix_percentage[i][j]=val_confusion_matrix_percentage[i][j]/val_sum[i]\n"
      ],
      "metadata": {
        "id": "v--UyUt4G6xV"
      },
      "execution_count": 162,
      "outputs": []
    },
    {
      "cell_type": "code",
      "execution_count": 163,
      "metadata": {
        "colab": {
          "base_uri": "https://localhost:8080/",
          "height": 634
        },
        "outputId": "62546583-4696-4d61-91cb-4c5c8d6b9049",
        "id": "XPAFBU5kHYgV"
      },
      "outputs": [
        {
          "output_type": "display_data",
          "data": {
            "text/plain": [
              "<Figure size 1080x720 with 2 Axes>"
            ],
            "image/png": "[encoded data removed]"
          },
          "metadata": {
            "needs_background": "light"
          }
        }
      ],
      "source": [
        "plt.figure(figsize = (15,10))\n",
        "ax = sns.heatmap(val_confusion_matrix_percentage, annot=True, \n",
        "            fmt='.1%', cmap='Blues')\n",
        "\n",
        "ax.set_title('Validation data');\n",
        "ax.set_xlabel('\\nPredicted')\n",
        "ax.set_ylabel('Actual');\n",
        "\n",
        "## Ticket labels - List must be in alphabetical order\n",
        "ax.xaxis.set_ticklabels(['BLB','BPH','Brown_Spot','False_Smut','Healthy_Plant','Hispa','Neck_Blast','Sheath_Blight_Rot','Stemborer'])\n",
        "ax.yaxis.set_ticklabels(['BLB','BPH','Brown_Spot','False_Smut','Healthy_Plant','Hispa','Neck_Blast','Sheath_Blight_Rot','Stemborer'])\n",
        "\n",
        "## Display the visualization of the Confusion Matrix.\n",
        "plt.show()"
      ]
    },
    {
      "cell_type": "markdown",
      "source": [
        "**Train Data Confusion matrix & Classification report**\n"
      ],
      "metadata": {
        "id": "aVn8jPGkD5Y0"
      }
    },
    {
      "cell_type": "code",
      "source": [
        "train_dir = '/content/drive/MyDrive/buetpaper/train'"
      ],
      "metadata": {
        "id": "yDXkZXeW-ajq"
      },
      "execution_count": 164,
      "outputs": []
    },
    {
      "cell_type": "code",
      "source": [
        "train_datagen = ImageDataGenerator(\n",
        "    rescale=1./255\n",
        ")\n",
        "train_generator = train_datagen.flow_from_directory(train_dir,\n",
        "                                                    target_size=(224, 224),\n",
        "                                                    batch_size=32,\n",
        "                                                    color_mode=\"rgb\",\n",
        "                                                    shuffle=False,\n",
        "                                                    class_mode='categorical',\n",
        "                                                   )"
      ],
      "metadata": {
        "colab": {
          "base_uri": "https://localhost:8080/"
        },
        "id": "ZvjUM4B86Rmp",
        "outputId": "afefd073-b563-43f5-fa6a-d75d85f26889"
      },
      "execution_count": 165,
      "outputs": [
        {
          "output_type": "stream",
          "name": "stdout",
          "text": [
            "Found 994 images belonging to 9 classes.\n"
          ]
        }
      ]
    },
    {
      "cell_type": "code",
      "source": [
        "model=load_model('/content/drive/MyDrive/VGG16/DenseNetFT.h5')"
      ],
      "metadata": {
        "id": "2NLW8VgsUk6w"
      },
      "execution_count": 166,
      "outputs": []
    },
    {
      "cell_type": "code",
      "execution_count": 167,
      "metadata": {
        "colab": {
          "base_uri": "https://localhost:8080/"
        },
        "outputId": "5b04ffb2-0778-4a08-e24c-c7f8a08143fa",
        "id": "Q_0e_UcbEO8e"
      },
      "outputs": [
        {
          "output_type": "stream",
          "name": "stderr",
          "text": [
            "/usr/local/lib/python3.7/dist-packages/ipykernel_launcher.py:1: UserWarning: `Model.predict_generator` is deprecated and will be removed in a future version. Please use `Model.predict`, which supports generators.\n",
            "  \"\"\"Entry point for launching an IPython kernel.\n"
          ]
        }
      ],
      "source": [
        "pred_train = model.predict_generator(train_generator)\n",
        "pred_train = np.argmax(pred_train, axis=1)"
      ]
    },
    {
      "cell_type": "code",
      "source": [
        "#Confution Matrix and Classification Report\n",
        "print('Classification Report')\n",
        "target_names = ['BLB','BPH','Brown_Spot','False_Smut','Healthy_Plant','Hispa','Neck_Blast','Sheath_Blight_Rot','Stemborer']\n",
        "print(classification_report(train_generator.classes, pred_train, target_names=target_names))"
      ],
      "metadata": {
        "colab": {
          "base_uri": "https://localhost:8080/"
        },
        "outputId": "39f7b240-0e1b-4c89-a773-67eca926d60a",
        "id": "EvcoH5rbETkp"
      },
      "execution_count": 168,
      "outputs": [
        {
          "output_type": "stream",
          "name": "stdout",
          "text": [
            "Classification Report\n",
            "                   precision    recall  f1-score   support\n",
            "\n",
            "              BLB       0.95      1.00      0.97        96\n",
            "              BPH       0.94      1.00      0.97        49\n",
            "       Brown_Spot       1.00      0.99      0.99        77\n",
            "       False_Smut       1.00      0.91      0.95        65\n",
            "    Healthy_Plant       0.96      1.00      0.98       163\n",
            "            Hispa       1.00      0.86      0.93        51\n",
            "       Neck_Blast       1.00      0.94      0.97       200\n",
            "Sheath_Blight_Rot       1.00      0.99      0.99       153\n",
            "        Stemborer       0.92      1.00      0.96       140\n",
            "\n",
            "         accuracy                           0.97       994\n",
            "        macro avg       0.97      0.96      0.97       994\n",
            "     weighted avg       0.97      0.97      0.97       994\n",
            "\n"
          ]
        }
      ]
    },
    {
      "cell_type": "code",
      "execution_count": 169,
      "metadata": {
        "colab": {
          "base_uri": "https://localhost:8080/"
        },
        "outputId": "a9a5dd05-6fc5-4bf7-fd14-214b618d6771",
        "id": "zxYWskJXEXQr"
      },
      "outputs": [
        {
          "output_type": "execute_result",
          "data": {
            "text/plain": [
              "array([[ 96,   0,   0,   0,   0,   0,   0,   0,   0],\n",
              "       [  0,  49,   0,   0,   0,   0,   0,   0,   0],\n",
              "       [  1,   0,  76,   0,   0,   0,   0,   0,   0],\n",
              "       [  1,   0,   0,  59,   3,   0,   0,   0,   2],\n",
              "       [  0,   0,   0,   0, 163,   0,   0,   0,   0],\n",
              "       [  1,   3,   0,   0,   3,  44,   0,   0,   0],\n",
              "       [  1,   0,   0,   0,   0,   0, 188,   0,  11],\n",
              "       [  1,   0,   0,   0,   1,   0,   0, 151,   0],\n",
              "       [  0,   0,   0,   0,   0,   0,   0,   0, 140]])"
            ]
          },
          "metadata": {},
          "execution_count": 169
        }
      ],
      "source": [
        "train_confusion_matrix = confusion_matrix(train_generator.classes, pred_train)\n",
        "train_confusion_matrix"
      ]
    },
    {
      "cell_type": "code",
      "execution_count": 170,
      "metadata": {
        "id": "f37ui8ZHEbZ9"
      },
      "outputs": [],
      "source": [
        "train_sum=np.array([0, 0, 0, 0, 0, 0, 0, 0, 0])\n",
        "for i in range(9):\n",
        "    for j in range(9):\n",
        "        train_sum[i]=train_sum[i]+train_confusion_matrix[i][j]\n",
        "        \n",
        "        \n",
        "train_confusion_matrix_percentage = train_confusion_matrix.astype(np.float32)\n",
        "\n",
        "for i in range(9):\n",
        "    for j in range(9):\n",
        "        train_confusion_matrix_percentage[i][j]=train_confusion_matrix_percentage[i][j]/train_sum[i]\n"
      ]
    },
    {
      "cell_type": "code",
      "source": [
        "train_sum"
      ],
      "metadata": {
        "colab": {
          "base_uri": "https://localhost:8080/"
        },
        "id": "Pcbcwd_wbS3W",
        "outputId": "291ca59e-6af9-419c-d81c-e7aa9466e6c9"
      },
      "execution_count": 171,
      "outputs": [
        {
          "output_type": "execute_result",
          "data": {
            "text/plain": [
              "array([ 96,  49,  77,  65, 163,  51, 200, 153, 140])"
            ]
          },
          "metadata": {},
          "execution_count": 171
        }
      ]
    },
    {
      "cell_type": "code",
      "execution_count": 172,
      "metadata": {
        "colab": {
          "base_uri": "https://localhost:8080/",
          "height": 634
        },
        "outputId": "ac01eaac-a069-43eb-d79c-43308f555cc3",
        "id": "6uzcNylzEwZx"
      },
      "outputs": [
        {
          "output_type": "display_data",
          "data": {
            "text/plain": [
              "<Figure size 1080x720 with 2 Axes>"
            ],
            "image/png": "[encoded data removed]"
          },
          "metadata": {
            "needs_background": "light"
          }
        }
      ],
      "source": [
        "plt.figure(figsize = (15,10))\n",
        "ax = sns.heatmap(train_confusion_matrix_percentage, annot=True, \n",
        "            fmt='.1%', cmap='Blues')\n",
        "\n",
        "ax.set_title('Train data');\n",
        "ax.set_xlabel('\\nPredicted')\n",
        "ax.set_ylabel('Actual');\n",
        "\n",
        "## Ticket labels - List must be in alphabetical order\n",
        "ax.xaxis.set_ticklabels(['BLB','BPH','Brown_Spot','False_Smut','Healthy_Plant','Hispa','Neck_Blast','Sheath_Blight_Rot','Stemborer'])\n",
        "ax.yaxis.set_ticklabels(['BLB','BPH','Brown_Spot','False_Smut','Healthy_Plant','Hispa','Neck_Blast','Sheath_Blight_Rot','Stemborer'])\n",
        "\n",
        "## Display the visualization of the Confusion Matrix.\n",
        "plt.show()"
      ]
    }
  ],
  "metadata": {
    "accelerator": "GPU",
    "colab": {
      "collapsed_sections": [],
      "name": "rice_buetMobileNetV2.ipynb",
      "provenance": []
    },
    "kernelspec": {
      "display_name": "Python 3",
      "name": "python3"
    },
    "language_info": {
      "name": "python"
    }
  },
  "nbformat": 4,
  "nbformat_minor": 0
}